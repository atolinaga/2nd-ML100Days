{
 "cells": [
  {
   "cell_type": "markdown",
   "metadata": {},
   "source": [
    "## Work\n",
    "### 請結合前面的知識與程式碼，比較不同的 regularization 的組合對訓練的結果與影響：如 dropout, regularizers, batch-normalization 等"
   ]
  },
  {
   "cell_type": "code",
   "execution_count": 1,
   "metadata": {},
   "outputs": [
    {
     "name": "stderr",
     "output_type": "stream",
     "text": [
      "Using TensorFlow backend.\n"
     ]
    }
   ],
   "source": [
    "import os\n",
    "import keras\n",
    "import itertools\n",
    "# Disable GPU\n",
    "os.environ[\"CUDA_VISIBLE_DEVICES\"] = \"\""
   ]
  },
  {
   "cell_type": "code",
   "execution_count": 2,
   "metadata": {},
   "outputs": [],
   "source": [
    "train, test = keras.datasets.cifar10.load_data()"
   ]
  },
  {
   "cell_type": "code",
   "execution_count": 3,
   "metadata": {},
   "outputs": [],
   "source": [
    "## 資料前處理\n",
    "def preproc_x(x, flatten=True):\n",
    "    x = x / 255.\n",
    "    if flatten:\n",
    "        x = x.reshape((len(x), -1))\n",
    "    return x\n",
    "\n",
    "def preproc_y(y, num_classes=10):\n",
    "    if y.shape[-1] == 1:\n",
    "        y = keras.utils.to_categorical(y, num_classes)\n",
    "    return y    "
   ]
  },
  {
   "cell_type": "code",
   "execution_count": 4,
   "metadata": {},
   "outputs": [],
   "source": [
    "x_train, y_train = train\n",
    "x_test, y_test = test\n",
    "\n",
    "# Preproc the inputs\n",
    "x_train = preproc_x(x_train)\n",
    "x_test = preproc_x(x_test)\n",
    "\n",
    "# Preprc the outputs\n",
    "y_train = preproc_y(y_train)\n",
    "y_test = preproc_y(y_test)"
   ]
  },
  {
   "cell_type": "code",
   "execution_count": 23,
   "metadata": {},
   "outputs": [],
   "source": [
    "from keras.layers import BatchNormalization\n",
    "from keras.layers import Dropout\n",
    "def build_mlp(input_shape, output_units=10, num_neurons=[512, 256, 128], drp_ratio= 0.2):\n",
    "    input_layer = keras.layers.Input(input_shape)\n",
    "    \n",
    "    for i, n_units in enumerate(num_neurons):\n",
    "        if i == 0:\n",
    "            x = keras.layers.Dense(units=n_units, \n",
    "                                   activation=\"relu\", \n",
    "                                   name=\"hidden_layer\"+str(i+1))(input_layer)\n",
    "            x = BatchNormalization()(x)\n",
    "            x = Dropout(drp_ratio)(x)\n",
    "        else:\n",
    "            x = keras.layers.Dense(units=n_units, \n",
    "                                   activation=\"relu\", \n",
    "                                   name=\"hidden_layer\"+str(i+1))(x)\n",
    "            x = BatchNormalization()(x)\n",
    "            x = Dropout(drp_ratio)(x)\n",
    "    \n",
    "    out = keras.layers.Dense(units=output_units, activation=\"softmax\", name=\"output\")(x)\n",
    "    \n",
    "    model = keras.models.Model(inputs=[input_layer], outputs=[out])\n",
    "    return model"
   ]
  },
  {
   "cell_type": "code",
   "execution_count": 24,
   "metadata": {},
   "outputs": [],
   "source": [
    "## 超參數設定\n",
    "LEARNING_RATE = 1e-3\n",
    "EPOCHS = 50\n",
    "BATCH_SIZE = 256\n",
    "MOMENTUM = 0.95\n",
    "Drop_out = 0.25"
   ]
  },
  {
   "cell_type": "code",
   "execution_count": 25,
   "metadata": {
    "scrolled": true
   },
   "outputs": [
    {
     "name": "stderr",
     "output_type": "stream",
     "text": [
      "W0720 21:27:43.201400  2328 deprecation.py:506] From C:\\ProgramData\\Anaconda3\\lib\\site-packages\\keras\\backend\\tensorflow_backend.py:3445: calling dropout (from tensorflow.python.ops.nn_ops) with keep_prob is deprecated and will be removed in a future version.\n",
      "Instructions for updating:\n",
      "Please use `rate` instead of `keep_prob`. Rate should be set to `rate = 1 - keep_prob`.\n",
      "W0720 21:27:43.364400  2328 deprecation_wrapper.py:119] From C:\\ProgramData\\Anaconda3\\lib\\site-packages\\keras\\optimizers.py:790: The name tf.train.Optimizer is deprecated. Please use tf.compat.v1.train.Optimizer instead.\n",
      "\n",
      "W0720 21:27:43.370399  2328 deprecation_wrapper.py:119] From C:\\ProgramData\\Anaconda3\\lib\\site-packages\\keras\\backend\\tensorflow_backend.py:3295: The name tf.log is deprecated. Please use tf.math.log instead.\n",
      "\n",
      "W0720 21:27:43.434400  2328 deprecation.py:323] From C:\\ProgramData\\Anaconda3\\lib\\site-packages\\tensorflow\\python\\ops\\math_grad.py:1250: add_dispatch_support.<locals>.wrapper (from tensorflow.python.ops.array_ops) is deprecated and will be removed in a future version.\n",
      "Instructions for updating:\n",
      "Use tf.where in 2.0, which has the same broadcast rule as np.where\n"
     ]
    },
    {
     "name": "stdout",
     "output_type": "stream",
     "text": [
      "_________________________________________________________________\n",
      "Layer (type)                 Output Shape              Param #   \n",
      "=================================================================\n",
      "input_6 (InputLayer)         (None, 3072)              0         \n",
      "_________________________________________________________________\n",
      "hidden_layer1 (Dense)        (None, 512)               1573376   \n",
      "_________________________________________________________________\n",
      "batch_normalization_5 (Batch (None, 512)               2048      \n",
      "_________________________________________________________________\n",
      "dropout_1 (Dropout)          (None, 512)               0         \n",
      "_________________________________________________________________\n",
      "hidden_layer2 (Dense)        (None, 256)               131328    \n",
      "_________________________________________________________________\n",
      "batch_normalization_6 (Batch (None, 256)               1024      \n",
      "_________________________________________________________________\n",
      "dropout_2 (Dropout)          (None, 256)               0         \n",
      "_________________________________________________________________\n",
      "hidden_layer3 (Dense)        (None, 128)               32896     \n",
      "_________________________________________________________________\n",
      "batch_normalization_7 (Batch (None, 128)               512       \n",
      "_________________________________________________________________\n",
      "dropout_3 (Dropout)          (None, 128)               0         \n",
      "_________________________________________________________________\n",
      "output (Dense)               (None, 10)                1290      \n",
      "=================================================================\n",
      "Total params: 1,742,474\n",
      "Trainable params: 1,740,682\n",
      "Non-trainable params: 1,792\n",
      "_________________________________________________________________\n",
      "Train on 50000 samples, validate on 10000 samples\n",
      "Epoch 1/50\n",
      "50000/50000 [==============================] - 8s 158us/step - loss: 2.2723 - acc: 0.2674 - val_loss: 1.7618 - val_acc: 0.3811\n",
      "Epoch 2/50\n",
      "50000/50000 [==============================] - 7s 148us/step - loss: 1.8798 - acc: 0.3460 - val_loss: 1.6604 - val_acc: 0.4136\n",
      "Epoch 3/50\n",
      "50000/50000 [==============================] - 8s 154us/step - loss: 1.7622 - acc: 0.3785 - val_loss: 1.6076 - val_acc: 0.4211\n",
      "Epoch 4/50\n",
      "50000/50000 [==============================] - 7s 150us/step - loss: 1.6971 - acc: 0.3991 - val_loss: 1.5570 - val_acc: 0.4508\n",
      "Epoch 5/50\n",
      "50000/50000 [==============================] - 7s 149us/step - loss: 1.6431 - acc: 0.4148 - val_loss: 1.5429 - val_acc: 0.4529\n",
      "Epoch 6/50\n",
      "50000/50000 [==============================] - 7s 140us/step - loss: 1.6023 - acc: 0.4283 - val_loss: 1.5020 - val_acc: 0.4619\n",
      "Epoch 7/50\n",
      "50000/50000 [==============================] - 7s 142us/step - loss: 1.5855 - acc: 0.4359 - val_loss: 1.4804 - val_acc: 0.4772\n",
      "Epoch 8/50\n",
      "50000/50000 [==============================] - 7s 140us/step - loss: 1.5533 - acc: 0.4461 - val_loss: 1.4682 - val_acc: 0.4805\n",
      "Epoch 9/50\n",
      "50000/50000 [==============================] - 7s 139us/step - loss: 1.5392 - acc: 0.4533 - val_loss: 1.4568 - val_acc: 0.4793\n",
      "Epoch 10/50\n",
      "50000/50000 [==============================] - 7s 138us/step - loss: 1.5205 - acc: 0.4595 - val_loss: 1.4549 - val_acc: 0.4835\n",
      "Epoch 11/50\n",
      "50000/50000 [==============================] - 7s 138us/step - loss: 1.5025 - acc: 0.4638 - val_loss: 1.4365 - val_acc: 0.4879\n",
      "Epoch 12/50\n",
      "50000/50000 [==============================] - 7s 138us/step - loss: 1.4947 - acc: 0.4688 - val_loss: 1.4273 - val_acc: 0.4950\n",
      "Epoch 13/50\n",
      "50000/50000 [==============================] - 7s 138us/step - loss: 1.4796 - acc: 0.4731 - val_loss: 1.4078 - val_acc: 0.4979\n",
      "Epoch 14/50\n",
      "50000/50000 [==============================] - 7s 139us/step - loss: 1.4717 - acc: 0.4745 - val_loss: 1.4229 - val_acc: 0.4909\n",
      "Epoch 15/50\n",
      "50000/50000 [==============================] - 7s 141us/step - loss: 1.4546 - acc: 0.4816 - val_loss: 1.3998 - val_acc: 0.5005\n",
      "Epoch 16/50\n",
      "50000/50000 [==============================] - 7s 139us/step - loss: 1.4464 - acc: 0.4838 - val_loss: 1.4062 - val_acc: 0.4930\n",
      "Epoch 17/50\n",
      "50000/50000 [==============================] - 7s 138us/step - loss: 1.4326 - acc: 0.4880 - val_loss: 1.4230 - val_acc: 0.4910\n",
      "Epoch 18/50\n",
      "50000/50000 [==============================] - 7s 140us/step - loss: 1.4269 - acc: 0.4919 - val_loss: 1.4083 - val_acc: 0.4956\n",
      "Epoch 19/50\n",
      "50000/50000 [==============================] - 7s 142us/step - loss: 1.4158 - acc: 0.4963 - val_loss: 1.4025 - val_acc: 0.4914\n",
      "Epoch 20/50\n",
      "50000/50000 [==============================] - 7s 137us/step - loss: 1.4144 - acc: 0.4926 - val_loss: 1.3998 - val_acc: 0.4951\n",
      "Epoch 21/50\n",
      "50000/50000 [==============================] - 7s 135us/step - loss: 1.4048 - acc: 0.4964 - val_loss: 1.4013 - val_acc: 0.4981\n",
      "Epoch 22/50\n",
      "50000/50000 [==============================] - 7s 133us/step - loss: 1.3929 - acc: 0.5028 - val_loss: 1.3898 - val_acc: 0.4958\n",
      "Epoch 23/50\n",
      "50000/50000 [==============================] - 7s 141us/step - loss: 1.3868 - acc: 0.5038 - val_loss: 1.3723 - val_acc: 0.5096\n",
      "Epoch 24/50\n",
      "50000/50000 [==============================] - 8s 154us/step - loss: 1.3843 - acc: 0.5055 - val_loss: 1.3681 - val_acc: 0.5090\n",
      "Epoch 25/50\n",
      "50000/50000 [==============================] - 8s 153us/step - loss: 1.3752 - acc: 0.5086 - val_loss: 1.3669 - val_acc: 0.5131\n",
      "Epoch 26/50\n",
      "50000/50000 [==============================] - 7s 144us/step - loss: 1.3691 - acc: 0.5102 - val_loss: 1.4124 - val_acc: 0.4934\n",
      "Epoch 27/50\n",
      "50000/50000 [==============================] - 7s 141us/step - loss: 1.3610 - acc: 0.5118 - val_loss: 1.3611 - val_acc: 0.5163\n",
      "Epoch 28/50\n",
      "50000/50000 [==============================] - 7s 141us/step - loss: 1.3542 - acc: 0.5164 - val_loss: 1.3540 - val_acc: 0.5198\n",
      "Epoch 29/50\n",
      "50000/50000 [==============================] - 7s 140us/step - loss: 1.3464 - acc: 0.5198 - val_loss: 1.3460 - val_acc: 0.5194\n",
      "Epoch 30/50\n",
      "50000/50000 [==============================] - 7s 139us/step - loss: 1.3424 - acc: 0.5180 - val_loss: 1.3709 - val_acc: 0.5091\n",
      "Epoch 31/50\n",
      "50000/50000 [==============================] - 7s 139us/step - loss: 1.3386 - acc: 0.5215 - val_loss: 1.3858 - val_acc: 0.5015\n",
      "Epoch 32/50\n",
      "50000/50000 [==============================] - 7s 140us/step - loss: 1.3276 - acc: 0.5257 - val_loss: 1.3981 - val_acc: 0.5027\n",
      "Epoch 33/50\n",
      "50000/50000 [==============================] - 7s 139us/step - loss: 1.3223 - acc: 0.5257 - val_loss: 1.3670 - val_acc: 0.5058\n",
      "Epoch 34/50\n",
      "50000/50000 [==============================] - 7s 140us/step - loss: 1.3181 - acc: 0.5295 - val_loss: 1.3466 - val_acc: 0.5202\n",
      "Epoch 35/50\n",
      "50000/50000 [==============================] - 7s 140us/step - loss: 1.3230 - acc: 0.5260 - val_loss: 1.3520 - val_acc: 0.5161\n",
      "Epoch 36/50\n",
      "50000/50000 [==============================] - 7s 140us/step - loss: 1.3290 - acc: 0.5255 - val_loss: 1.3721 - val_acc: 0.5116\n",
      "Epoch 37/50\n",
      "50000/50000 [==============================] - 7s 139us/step - loss: 1.3125 - acc: 0.5283 - val_loss: 1.3627 - val_acc: 0.5167\n",
      "Epoch 38/50\n",
      "50000/50000 [==============================] - 7s 140us/step - loss: 1.2980 - acc: 0.5346 - val_loss: 1.3639 - val_acc: 0.5125\n",
      "Epoch 39/50\n",
      "50000/50000 [==============================] - 7s 139us/step - loss: 1.2992 - acc: 0.5370 - val_loss: 1.3609 - val_acc: 0.5207\n",
      "Epoch 40/50\n",
      "50000/50000 [==============================] - 7s 139us/step - loss: 1.2909 - acc: 0.5370 - val_loss: 1.3332 - val_acc: 0.5251\n",
      "Epoch 41/50\n",
      "50000/50000 [==============================] - 7s 141us/step - loss: 1.2873 - acc: 0.5391 - val_loss: 1.3352 - val_acc: 0.5253\n",
      "Epoch 42/50\n",
      "50000/50000 [==============================] - 7s 141us/step - loss: 1.2846 - acc: 0.5398 - val_loss: 1.3483 - val_acc: 0.5258\n",
      "Epoch 43/50\n",
      "50000/50000 [==============================] - 7s 139us/step - loss: 1.2817 - acc: 0.5421 - val_loss: 1.3317 - val_acc: 0.5258\n",
      "Epoch 44/50\n",
      "50000/50000 [==============================] - 7s 139us/step - loss: 1.2820 - acc: 0.5407 - val_loss: 1.3415 - val_acc: 0.5201\n",
      "Epoch 45/50\n",
      "50000/50000 [==============================] - 7s 139us/step - loss: 1.2821 - acc: 0.5413 - val_loss: 1.3579 - val_acc: 0.5117\n",
      "Epoch 46/50\n",
      "50000/50000 [==============================] - 7s 139us/step - loss: 1.2757 - acc: 0.5442 - val_loss: 1.3392 - val_acc: 0.5278\n"
     ]
    },
    {
     "name": "stdout",
     "output_type": "stream",
     "text": [
      "Epoch 47/50\n",
      "50000/50000 [==============================] - 7s 138us/step - loss: 1.2707 - acc: 0.5441 - val_loss: 1.3230 - val_acc: 0.5237\n",
      "Epoch 48/50\n",
      "50000/50000 [==============================] - 7s 138us/step - loss: 1.2664 - acc: 0.5457 - val_loss: 1.3731 - val_acc: 0.5107\n",
      "Epoch 49/50\n",
      "50000/50000 [==============================] - 7s 138us/step - loss: 1.2659 - acc: 0.5462 - val_loss: 1.3791 - val_acc: 0.5021\n",
      "Epoch 50/50\n",
      "50000/50000 [==============================] - 7s 138us/step - loss: 1.2693 - acc: 0.5455 - val_loss: 1.3502 - val_acc: 0.5174\n"
     ]
    }
   ],
   "source": [
    "results = {}\n",
    "model = build_mlp(input_shape=x_train.shape[1:],drp_ratio=Drop_out)\n",
    "model.summary()\n",
    "optimizer = keras.optimizers.SGD(lr=LEARNING_RATE, nesterov=True, momentum=MOMENTUM)\n",
    "model.compile(loss=\"categorical_crossentropy\", metrics=[\"accuracy\"], optimizer=optimizer)\n",
    "\n",
    "model.fit(x_train, y_train, \n",
    "        epochs=EPOCHS, \n",
    "          batch_size=BATCH_SIZE, \n",
    "          validation_data=(x_test, y_test), \n",
    "          shuffle=True)\n",
    "\n",
    "# Collect results\n",
    "train_loss = model.history.history[\"loss\"]\n",
    "valid_loss = model.history.history[\"val_loss\"]\n",
    "train_acc = model.history.history[\"acc\"]\n",
    "valid_acc = model.history.history[\"val_acc\"]\n",
    "    \n",
    "exp_name_tag = \"exp-l2-%s\" % str(BATCH_SIZE)\n",
    "results[exp_name_tag] = {'train-loss': train_loss,\n",
    "                        'valid-loss': valid_loss,\n",
    "                        'train-acc': train_acc,\n",
    "                        'valid-acc': valid_acc}    "
   ]
  },
  {
   "cell_type": "code",
   "execution_count": 26,
   "metadata": {},
   "outputs": [
    {
     "data": {
      "image/png": "[encoded data removed]",
      "text/plain": [
       "<Figure size 432x288 with 1 Axes>"
      ]
     },
     "metadata": {
      "needs_background": "light"
     },
     "output_type": "display_data"
    },
    {
     "data": {
      "image/png": "[encoded data removed]",
      "text/plain": [
       "<Figure size 432x288 with 1 Axes>"
      ]
     },
     "metadata": {
      "needs_background": "light"
     },
     "output_type": "display_data"
    }
   ],
   "source": [
    "import matplotlib.pyplot as plt\n",
    "%matplotlib inline\n",
    "\n",
    "plt.plot(range(len(train_loss)), train_loss, label=\"train loss\")\n",
    "plt.plot(range(len(valid_loss)), valid_loss, label=\"valid loss\")\n",
    "plt.legend()\n",
    "plt.title(\"Loss\")\n",
    "plt.show()\n",
    "\n",
    "plt.plot(range(len(train_acc)), train_acc, label=\"train accuracy\")\n",
    "plt.plot(range(len(valid_acc)), valid_acc, label=\"valid accuracy\")\n",
    "plt.legend()\n",
    "plt.title(\"Accuracy\")\n",
    "plt.show()"
   ]
  },
  {
   "cell_type": "code",
   "execution_count": null,
   "metadata": {},
   "outputs": [],
   "source": []
  }
 ],
 "metadata": {
  "kernelspec": {
   "display_name": "Python 3",
   "language": "python",
   "name": "python3"
  },
  "language_info": {
   "codemirror_mode": {
    "name": "ipython",
    "version": 3
   },
   "file_extension": ".py",
   "mimetype": "text/x-python",
   "name": "python",
   "nbconvert_exporter": "python",
   "pygments_lexer": "ipython3",
   "version": "3.7.3"
  }
 },
 "nbformat": 4,
 "nbformat_minor": 2
}
