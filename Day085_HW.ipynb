{
 "cells": [
  {
   "cell_type": "markdown",
   "metadata": {},
   "source": [
    "## Work\n",
    "1. 試改變 monitor \"Validation Accuracy\" 並比較結果\n",
    "2. 調整 earlystop 的等待次數至 10, 25 並比較結果"
   ]
  },
  {
   "cell_type": "code",
   "execution_count": 1,
   "metadata": {},
   "outputs": [
    {
     "name": "stderr",
     "output_type": "stream",
     "text": [
      "Using TensorFlow backend.\n"
     ]
    }
   ],
   "source": [
    "import os\n",
    "import keras\n",
    "import matplotlib.pyplot as plt\n",
    "%matplotlib inline\n",
    "\n",
    "\n",
    "# Disable GPU\n",
    "os.environ[\"CUDA_VISIBLE_DEVICES\"] = \"\""
   ]
  },
  {
   "cell_type": "code",
   "execution_count": 2,
   "metadata": {},
   "outputs": [],
   "source": [
    "train, test = keras.datasets.cifar10.load_data()"
   ]
  },
  {
   "cell_type": "code",
   "execution_count": 3,
   "metadata": {},
   "outputs": [],
   "source": [
    "## 資料前處理\n",
    "def preproc_x(x, flatten=True):\n",
    "    x = x / 255.\n",
    "    if flatten:\n",
    "        x = x.reshape((len(x), -1))\n",
    "    return x\n",
    "\n",
    "def preproc_y(y, num_classes=10):\n",
    "    if y.shape[-1] == 1:\n",
    "        y = keras.utils.to_categorical(y, num_classes)\n",
    "    return y    "
   ]
  },
  {
   "cell_type": "code",
   "execution_count": 4,
   "metadata": {},
   "outputs": [],
   "source": [
    "x_train, y_train = train\n",
    "x_test, y_test = test\n",
    "\n",
    "# Preproc the inputs\n",
    "x_train = preproc_x(x_train)\n",
    "x_test = preproc_x(x_test)\n",
    "\n",
    "# Preprc the outputs\n",
    "y_train = preproc_y(y_train)\n",
    "y_test = preproc_y(y_test)"
   ]
  },
  {
   "cell_type": "code",
   "execution_count": 5,
   "metadata": {},
   "outputs": [],
   "source": [
    "from keras.layers import BatchNormalization\n",
    "\n",
    "\"\"\"\n",
    "建立神經網路，並加入 BN layer\n",
    "\"\"\"\n",
    "def build_mlp(input_shape, output_units=10, num_neurons=[512, 256, 128]):\n",
    "    input_layer = keras.layers.Input(input_shape)\n",
    "    \n",
    "    for i, n_units in enumerate(num_neurons):\n",
    "        if i == 0:\n",
    "            x = keras.layers.Dense(units=n_units, \n",
    "                                   activation=\"relu\", \n",
    "                                   name=\"hidden_layer\"+str(i+1))(input_layer)\n",
    "            x = BatchNormalization()(x)\n",
    "        else:\n",
    "            x = keras.layers.Dense(units=n_units, \n",
    "                                   activation=\"relu\", \n",
    "                                   name=\"hidden_layer\"+str(i+1))(x)\n",
    "            x = BatchNormalization()(x)\n",
    "    \n",
    "    out = keras.layers.Dense(units=output_units, activation=\"softmax\", name=\"output\")(x)\n",
    "    \n",
    "    model = keras.models.Model(inputs=[input_layer], outputs=[out])\n",
    "    return model"
   ]
  },
  {
   "cell_type": "code",
   "execution_count": 6,
   "metadata": {},
   "outputs": [],
   "source": [
    "## 超參數設定\n",
    "LEARNING_RATE = 1e-3\n",
    "EPOCHS = 50\n",
    "BATCH_SIZE = 1024\n",
    "MOMENTUM = 0.95"
   ]
  },
  {
   "cell_type": "code",
   "execution_count": 7,
   "metadata": {},
   "outputs": [
    {
     "name": "stderr",
     "output_type": "stream",
     "text": [
      "WARNING: Logging before flag parsing goes to stderr.\n",
      "W0720 21:43:46.525400  2584 deprecation_wrapper.py:119] From C:\\ProgramData\\Anaconda3\\lib\\site-packages\\keras\\backend\\tensorflow_backend.py:74: The name tf.get_default_graph is deprecated. Please use tf.compat.v1.get_default_graph instead.\n",
      "\n",
      "W0720 21:43:46.536399  2584 deprecation_wrapper.py:119] From C:\\ProgramData\\Anaconda3\\lib\\site-packages\\keras\\backend\\tensorflow_backend.py:517: The name tf.placeholder is deprecated. Please use tf.compat.v1.placeholder instead.\n",
      "\n",
      "W0720 21:43:46.538399  2584 deprecation_wrapper.py:119] From C:\\ProgramData\\Anaconda3\\lib\\site-packages\\keras\\backend\\tensorflow_backend.py:4138: The name tf.random_uniform is deprecated. Please use tf.random.uniform instead.\n",
      "\n",
      "W0720 21:43:46.588400  2584 deprecation_wrapper.py:119] From C:\\ProgramData\\Anaconda3\\lib\\site-packages\\keras\\backend\\tensorflow_backend.py:133: The name tf.placeholder_with_default is deprecated. Please use tf.compat.v1.placeholder_with_default instead.\n",
      "\n",
      "W0720 21:43:46.733400  2584 deprecation_wrapper.py:119] From C:\\ProgramData\\Anaconda3\\lib\\site-packages\\keras\\optimizers.py:790: The name tf.train.Optimizer is deprecated. Please use tf.compat.v1.train.Optimizer instead.\n",
      "\n",
      "W0720 21:43:46.738399  2584 deprecation_wrapper.py:119] From C:\\ProgramData\\Anaconda3\\lib\\site-packages\\keras\\backend\\tensorflow_backend.py:3295: The name tf.log is deprecated. Please use tf.math.log instead.\n",
      "\n",
      "W0720 21:43:46.816399  2584 deprecation.py:323] From C:\\ProgramData\\Anaconda3\\lib\\site-packages\\tensorflow\\python\\ops\\math_grad.py:1250: add_dispatch_support.<locals>.wrapper (from tensorflow.python.ops.array_ops) is deprecated and will be removed in a future version.\n",
      "Instructions for updating:\n",
      "Use tf.where in 2.0, which has the same broadcast rule as np.where\n"
     ]
    },
    {
     "name": "stdout",
     "output_type": "stream",
     "text": [
      "_________________________________________________________________\n",
      "Layer (type)                 Output Shape              Param #   \n",
      "=================================================================\n",
      "input_1 (InputLayer)         (None, 3072)              0         \n",
      "_________________________________________________________________\n",
      "hidden_layer1 (Dense)        (None, 512)               1573376   \n",
      "_________________________________________________________________\n",
      "batch_normalization_1 (Batch (None, 512)               2048      \n",
      "_________________________________________________________________\n",
      "hidden_layer2 (Dense)        (None, 256)               131328    \n",
      "_________________________________________________________________\n",
      "batch_normalization_2 (Batch (None, 256)               1024      \n",
      "_________________________________________________________________\n",
      "hidden_layer3 (Dense)        (None, 128)               32896     \n",
      "_________________________________________________________________\n",
      "batch_normalization_3 (Batch (None, 128)               512       \n",
      "_________________________________________________________________\n",
      "output (Dense)               (None, 10)                1290      \n",
      "=================================================================\n",
      "Total params: 1,742,474\n",
      "Trainable params: 1,740,682\n",
      "Non-trainable params: 1,792\n",
      "_________________________________________________________________\n",
      "Train on 50000 samples, validate on 10000 samples\n",
      "Epoch 1/50\n",
      "50000/50000 [==============================] - 5s 99us/step - loss: 2.1840 - acc: 0.2807 - val_loss: 2.0608 - val_acc: 0.3230\n",
      "Epoch 2/50\n",
      "50000/50000 [==============================] - 4s 87us/step - loss: 1.7376 - acc: 0.3965 - val_loss: 1.8084 - val_acc: 0.3933\n",
      "Epoch 3/50\n",
      "50000/50000 [==============================] - 5s 94us/step - loss: 1.6115 - acc: 0.4391 - val_loss: 1.6991 - val_acc: 0.4139\n",
      "Epoch 4/50\n",
      "50000/50000 [==============================] - 5s 99us/step - loss: 1.5412 - acc: 0.4638 - val_loss: 1.6464 - val_acc: 0.4326\n",
      "Epoch 5/50\n",
      "50000/50000 [==============================] - 4s 89us/step - loss: 1.4866 - acc: 0.4826 - val_loss: 1.6069 - val_acc: 0.4437\n",
      "Epoch 6/50\n",
      "50000/50000 [==============================] - 5s 100us/step - loss: 1.4402 - acc: 0.4981 - val_loss: 1.5675 - val_acc: 0.4606\n",
      "Epoch 7/50\n",
      "50000/50000 [==============================] - 5s 105us/step - loss: 1.4017 - acc: 0.5122 - val_loss: 1.5498 - val_acc: 0.4613\n",
      "Epoch 8/50\n",
      "50000/50000 [==============================] - 5s 94us/step - loss: 1.3667 - acc: 0.5255 - val_loss: 1.5321 - val_acc: 0.4740c: 0.525\n",
      "Epoch 9/50\n",
      "50000/50000 [==============================] - 5s 99us/step - loss: 1.3365 - acc: 0.5364 - val_loss: 1.5205 - val_acc: 0.4721\n",
      "Epoch 10/50\n",
      "50000/50000 [==============================] - 5s 97us/step - loss: 1.3065 - acc: 0.5488 - val_loss: 1.5087 - val_acc: 0.4792\n",
      "Epoch 11/50\n",
      "50000/50000 [==============================] - 5s 94us/step - loss: 1.2797 - acc: 0.5575 - val_loss: 1.4991 - val_acc: 0.4768\n",
      "Epoch 12/50\n",
      "50000/50000 [==============================] - 5s 94us/step - loss: 1.2539 - acc: 0.5671 - val_loss: 1.4953 - val_acc: 0.4798 1s - loss: 1.2518 \n",
      "Epoch 13/50\n",
      "50000/50000 [==============================] - 5s 96us/step - loss: 1.2277 - acc: 0.5767 - val_loss: 1.4900 - val_acc: 0.4781\n",
      "Epoch 14/50\n",
      "50000/50000 [==============================] - 5s 94us/step - loss: 1.2038 - acc: 0.5863 - val_loss: 1.4807 - val_acc: 0.4887\n",
      "Epoch 15/50\n",
      "50000/50000 [==============================] - 5s 101us/step - loss: 1.1794 - acc: 0.5960 - val_loss: 1.4693 - val_acc: 0.4872\n",
      "Epoch 16/50\n",
      "50000/50000 [==============================] - 5s 102us/step - loss: 1.1543 - acc: 0.6051 - val_loss: 1.4759 - val_acc: 0.4877\n",
      "Epoch 17/50\n",
      "50000/50000 [==============================] - 5s 100us/step - loss: 1.1318 - acc: 0.6144 - val_loss: 1.4638 - val_acc: 0.4903\n",
      "Epoch 18/50\n",
      "50000/50000 [==============================] - 5s 92us/step - loss: 1.1099 - acc: 0.6214 - val_loss: 1.4697 - val_acc: 0.4939\n",
      "Epoch 19/50\n",
      "50000/50000 [==============================] - 5s 90us/step - loss: 1.0882 - acc: 0.6295 - val_loss: 1.4535 - val_acc: 0.4951\n",
      "Epoch 20/50\n",
      "50000/50000 [==============================] - 5s 94us/step - loss: 1.0661 - acc: 0.6389 - val_loss: 1.4659 - val_acc: 0.4932\n",
      "Epoch 21/50\n",
      "50000/50000 [==============================] - 5s 94us/step - loss: 1.0440 - acc: 0.6465 - val_loss: 1.4691 - val_acc: 0.4907\n",
      "Epoch 22/50\n",
      "50000/50000 [==============================] - 5s 93us/step - loss: 1.0245 - acc: 0.6551 - val_loss: 1.4607 - val_acc: 0.5009\n",
      "Epoch 23/50\n",
      "50000/50000 [==============================] - 5s 93us/step - loss: 1.0032 - acc: 0.6642 - val_loss: 1.4615 - val_acc: 0.4998\n",
      "Epoch 24/50\n",
      "50000/50000 [==============================] - 5s 94us/step - loss: 0.9834 - acc: 0.6710 - val_loss: 1.4804 - val_acc: 0.4966\n",
      "Epoch 25/50\n",
      "50000/50000 [==============================] - 5s 94us/step - loss: 0.9635 - acc: 0.6797 - val_loss: 1.4751 - val_acc: 0.4973\n",
      "Epoch 26/50\n",
      "50000/50000 [==============================] - 5s 93us/step - loss: 0.9427 - acc: 0.6866 - val_loss: 1.4613 - val_acc: 0.5018\n",
      "Epoch 27/50\n",
      "50000/50000 [==============================] - 5s 94us/step - loss: 0.9231 - acc: 0.6922 - val_loss: 1.4845 - val_acc: 0.4974\n",
      "Epoch 28/50\n",
      "50000/50000 [==============================] - 5s 93us/step - loss: 0.9043 - acc: 0.7017 - val_loss: 1.4690 - val_acc: 0.5020\n",
      "Epoch 29/50\n",
      "50000/50000 [==============================] - 5s 94us/step - loss: 0.8853 - acc: 0.7080 - val_loss: 1.4858 - val_acc: 0.5012\n",
      "Epoch 30/50\n",
      "50000/50000 [==============================] - 5s 93us/step - loss: 0.8642 - acc: 0.7169 - val_loss: 1.4901 - val_acc: 0.4997\n",
      "Epoch 31/50\n",
      "50000/50000 [==============================] - 5s 94us/step - loss: 0.8441 - acc: 0.7256 - val_loss: 1.4858 - val_acc: 0.5050\n",
      "Epoch 32/50\n",
      "50000/50000 [==============================] - 5s 93us/step - loss: 0.8251 - acc: 0.7314 - val_loss: 1.4869 - val_acc: 0.4997\n",
      "Epoch 33/50\n",
      "50000/50000 [==============================] - 5s 93us/step - loss: 0.8084 - acc: 0.7388 - val_loss: 1.5091 - val_acc: 0.5023\n",
      "Epoch 34/50\n",
      "50000/50000 [==============================] - 5s 94us/step - loss: 0.7881 - acc: 0.7473 - val_loss: 1.5383 - val_acc: 0.4933\n",
      "Epoch 35/50\n",
      "50000/50000 [==============================] - 5s 93us/step - loss: 0.7693 - acc: 0.7564 - val_loss: 1.5272 - val_acc: 0.4998\n",
      "Epoch 36/50\n",
      "50000/50000 [==============================] - 5s 93us/step - loss: 0.7500 - acc: 0.7627 - val_loss: 1.5338 - val_acc: 0.4988\n",
      "Epoch 37/50\n",
      "50000/50000 [==============================] - 5s 94us/step - loss: 0.7318 - acc: 0.7701 - val_loss: 1.5449 - val_acc: 0.4965\n",
      "Epoch 38/50\n",
      "50000/50000 [==============================] - 5s 93us/step - loss: 0.7128 - acc: 0.7769 - val_loss: 1.5471 - val_acc: 0.4976\n",
      "Epoch 39/50\n",
      "50000/50000 [==============================] - 5s 93us/step - loss: 0.6949 - acc: 0.7854 - val_loss: 1.5584 - val_acc: 0.4942\n",
      "Epoch 40/50\n",
      "50000/50000 [==============================] - 5s 93us/step - loss: 0.6772 - acc: 0.7909 - val_loss: 1.5645 - val_acc: 0.5013\n",
      "Epoch 41/50\n",
      "50000/50000 [==============================] - 5s 93us/step - loss: 0.6599 - acc: 0.7988 - val_loss: 1.5607 - val_acc: 0.5011\n",
      "Epoch 00041: early stopping\n"
     ]
    }
   ],
   "source": [
    "# 載入 Callbacks\n",
    "\"\"\"Code Here\n",
    "設定 callbacks: Earlystop\n",
    "\"\"\"\n",
    "from keras.callbacks import EarlyStopping\n",
    "\n",
    "earlystop = EarlyStopping(monitor=\"val_acc\", \n",
    "                          patience=10, \n",
    "                          verbose=1\n",
    "                          )\n",
    "results = {}\n",
    "\"\"\"Code Here\n",
    "撰寫你的訓練流程並將結果用 dictionary 紀錄\n",
    "\"\"\"\n",
    "model = build_mlp(input_shape=x_train.shape[1:])\n",
    "model.summary()\n",
    "optimizer = keras.optimizers.SGD(lr=LEARNING_RATE, nesterov=True, momentum=MOMENTUM)\n",
    "model.compile(loss=\"categorical_crossentropy\", metrics=[\"accuracy\"], optimizer=optimizer)\n",
    "\n",
    "model.fit(x_train, y_train, \n",
    "          epochs=EPOCHS, \n",
    "          batch_size=BATCH_SIZE, \n",
    "          validation_data=(x_test, y_test), \n",
    "          shuffle=True,\n",
    "          callbacks=[earlystop]\n",
    "         )\n",
    "\n",
    "# Collect results\n",
    "train_loss = model.history.history[\"loss\"]\n",
    "valid_loss = model.history.history[\"val_loss\"]\n",
    "train_acc = model.history.history[\"acc\"]\n",
    "valid_acc = model.history.history[\"val_acc\"]"
   ]
  },
  {
   "cell_type": "code",
   "execution_count": 8,
   "metadata": {},
   "outputs": [
    {
     "data": {
      "image/png": "[encoded data removed]",
      "text/plain": [
       "<Figure size 432x288 with 1 Axes>"
      ]
     },
     "metadata": {
      "needs_background": "light"
     },
     "output_type": "display_data"
    },
    {
     "data": {
      "image/png": "[encoded data removed]",
      "text/plain": [
       "<Figure size 432x288 with 1 Axes>"
      ]
     },
     "metadata": {
      "needs_background": "light"
     },
     "output_type": "display_data"
    }
   ],
   "source": [
    "import matplotlib.pyplot as plt\n",
    "%matplotlib inline\n",
    "\n",
    "plt.plot(range(len(train_loss)), train_loss, label=\"train loss\")\n",
    "plt.plot(range(len(valid_loss)), valid_loss, label=\"valid loss\")\n",
    "plt.legend()\n",
    "plt.title(\"Loss\")\n",
    "plt.show()\n",
    "\n",
    "plt.plot(range(len(train_acc)), train_acc, label=\"train accuracy\")\n",
    "plt.plot(range(len(valid_acc)), valid_acc, label=\"valid accuracy\")\n",
    "plt.legend()\n",
    "plt.title(\"Accuracy\")\n",
    "plt.show()"
   ]
  }
 ],
 "metadata": {
  "kernelspec": {
   "display_name": "Python 3",
   "language": "python",
   "name": "python3"
  },
  "language_info": {
   "codemirror_mode": {
    "name": "ipython",
    "version": 3
   },
   "file_extension": ".py",
   "mimetype": "text/x-python",
   "name": "python",
   "nbconvert_exporter": "python",
   "pygments_lexer": "ipython3",
   "version": "3.7.3"
  }
 },
 "nbformat": 4,
 "nbformat_minor": 2
}
