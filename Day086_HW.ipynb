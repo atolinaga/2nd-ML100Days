{
 "cells": [
  {
   "cell_type": "markdown",
   "metadata": {},
   "source": [
    "## Work\n",
    "1. 試比較 save_best_only 與否的差異\n",
    "2. 請僅存入將 save_weights_only 設定為 True, 並嘗試 reset ipynb 並將模型與權重重新建回並預測 x_test"
   ]
  },
  {
   "cell_type": "code",
   "execution_count": 1,
   "metadata": {},
   "outputs": [
    {
     "name": "stderr",
     "output_type": "stream",
     "text": [
      "Using TensorFlow backend.\n"
     ]
    }
   ],
   "source": [
    "import os\n",
    "import keras\n",
    "\n",
    "# Disable GPU\n",
    "os.environ[\"CUDA_VISIBLE_DEVICES\"] = \"\""
   ]
  },
  {
   "cell_type": "code",
   "execution_count": 2,
   "metadata": {},
   "outputs": [],
   "source": [
    "train, test = keras.datasets.cifar10.load_data()"
   ]
  },
  {
   "cell_type": "code",
   "execution_count": 3,
   "metadata": {},
   "outputs": [],
   "source": [
    "## 資料前處理\n",
    "def preproc_x(x, flatten=True):\n",
    "    x = x / 255.\n",
    "    if flatten:\n",
    "        x = x.reshape((len(x), -1))\n",
    "    return x\n",
    "\n",
    "def preproc_y(y, num_classes=10):\n",
    "    if y.shape[-1] == 1:\n",
    "        y = keras.utils.to_categorical(y, num_classes)\n",
    "    return y    "
   ]
  },
  {
   "cell_type": "code",
   "execution_count": 4,
   "metadata": {},
   "outputs": [],
   "source": [
    "x_train, y_train = train\n",
    "x_test, y_test = test\n",
    "\n",
    "# Preproc the inputs\n",
    "x_train = preproc_x(x_train)\n",
    "x_test = preproc_x(x_test)\n",
    "\n",
    "# Preprc the outputs\n",
    "y_train = preproc_y(y_train)\n",
    "y_test = preproc_y(y_test)"
   ]
  },
  {
   "cell_type": "code",
   "execution_count": 5,
   "metadata": {},
   "outputs": [],
   "source": [
    "from keras.layers import BatchNormalization\n",
    "def build_mlp(input_shape, output_units=10, num_neurons=[512, 256, 128]):\n",
    "    input_layer = keras.layers.Input(input_shape)\n",
    "    \n",
    "    for i, n_units in enumerate(num_neurons):\n",
    "        if i == 0:\n",
    "            x = keras.layers.Dense(units=n_units, \n",
    "                                   activation=\"relu\", \n",
    "                                   name=\"hidden_layer\"+str(i+1))(input_layer)\n",
    "            x = BatchNormalization()(x)\n",
    "        else:\n",
    "            x = keras.layers.Dense(units=n_units, \n",
    "                                   activation=\"relu\", \n",
    "                                   name=\"hidden_layer\"+str(i+1))(x)\n",
    "            x = BatchNormalization()(x)\n",
    "    \n",
    "    out = keras.layers.Dense(units=output_units, activation=\"softmax\", name=\"output\")(x)\n",
    "    \n",
    "    model = keras.models.Model(inputs=[input_layer], outputs=[out])\n",
    "    return model"
   ]
  },
  {
   "cell_type": "code",
   "execution_count": 6,
   "metadata": {},
   "outputs": [],
   "source": [
    "LEARNING_RATE = 1e-3\n",
    "EPOCHS = 50\n",
    "BATCH_SIZE = 1024\n",
    "MOMENTUM = 0.95"
   ]
  },
  {
   "cell_type": "code",
   "execution_count": 7,
   "metadata": {},
   "outputs": [
    {
     "name": "stderr",
     "output_type": "stream",
     "text": [
      "WARNING: Logging before flag parsing goes to stderr.\n",
      "W0726 18:23:51.650800  4428 deprecation_wrapper.py:119] From C:\\ProgramData\\Anaconda3\\lib\\site-packages\\keras\\backend\\tensorflow_backend.py:74: The name tf.get_default_graph is deprecated. Please use tf.compat.v1.get_default_graph instead.\n",
      "\n",
      "W0726 18:23:51.682800  4428 deprecation_wrapper.py:119] From C:\\ProgramData\\Anaconda3\\lib\\site-packages\\keras\\backend\\tensorflow_backend.py:517: The name tf.placeholder is deprecated. Please use tf.compat.v1.placeholder instead.\n",
      "\n",
      "W0726 18:23:51.689800  4428 deprecation_wrapper.py:119] From C:\\ProgramData\\Anaconda3\\lib\\site-packages\\keras\\backend\\tensorflow_backend.py:4138: The name tf.random_uniform is deprecated. Please use tf.random.uniform instead.\n",
      "\n",
      "W0726 18:23:51.770800  4428 deprecation_wrapper.py:119] From C:\\ProgramData\\Anaconda3\\lib\\site-packages\\keras\\backend\\tensorflow_backend.py:133: The name tf.placeholder_with_default is deprecated. Please use tf.compat.v1.placeholder_with_default instead.\n",
      "\n",
      "W0726 18:23:51.965800  4428 deprecation_wrapper.py:119] From C:\\ProgramData\\Anaconda3\\lib\\site-packages\\keras\\optimizers.py:790: The name tf.train.Optimizer is deprecated. Please use tf.compat.v1.train.Optimizer instead.\n",
      "\n",
      "W0726 18:23:51.971800  4428 deprecation_wrapper.py:119] From C:\\ProgramData\\Anaconda3\\lib\\site-packages\\keras\\backend\\tensorflow_backend.py:3295: The name tf.log is deprecated. Please use tf.math.log instead.\n",
      "\n",
      "W0726 18:23:52.043800  4428 deprecation.py:323] From C:\\ProgramData\\Anaconda3\\lib\\site-packages\\tensorflow\\python\\ops\\math_grad.py:1250: add_dispatch_support.<locals>.wrapper (from tensorflow.python.ops.array_ops) is deprecated and will be removed in a future version.\n",
      "Instructions for updating:\n",
      "Use tf.where in 2.0, which has the same broadcast rule as np.where\n"
     ]
    },
    {
     "name": "stdout",
     "output_type": "stream",
     "text": [
      "_________________________________________________________________\n",
      "Layer (type)                 Output Shape              Param #   \n",
      "=================================================================\n",
      "input_1 (InputLayer)         (None, 3072)              0         \n",
      "_________________________________________________________________\n",
      "hidden_layer1 (Dense)        (None, 512)               1573376   \n",
      "_________________________________________________________________\n",
      "batch_normalization_1 (Batch (None, 512)               2048      \n",
      "_________________________________________________________________\n",
      "hidden_layer2 (Dense)        (None, 256)               131328    \n",
      "_________________________________________________________________\n",
      "batch_normalization_2 (Batch (None, 256)               1024      \n",
      "_________________________________________________________________\n",
      "hidden_layer3 (Dense)        (None, 128)               32896     \n",
      "_________________________________________________________________\n",
      "batch_normalization_3 (Batch (None, 128)               512       \n",
      "_________________________________________________________________\n",
      "output (Dense)               (None, 10)                1290      \n",
      "=================================================================\n",
      "Total params: 1,742,474\n",
      "Trainable params: 1,740,682\n",
      "Non-trainable params: 1,792\n",
      "_________________________________________________________________\n",
      "Train on 50000 samples, validate on 10000 samples\n",
      "Epoch 1/50\n",
      "50000/50000 [==============================] - 5s 99us/step - loss: 2.2040 - acc: 0.2736 - val_loss: 2.1123 - val_acc: 0.3125\n",
      "Epoch 2/50\n",
      "50000/50000 [==============================] - 4s 87us/step - loss: 1.7398 - acc: 0.3935 - val_loss: 1.8140 - val_acc: 0.3709\n",
      "Epoch 3/50\n",
      "50000/50000 [==============================] - 4s 87us/step - loss: 1.6139 - acc: 0.4348 - val_loss: 1.7295 - val_acc: 0.4054\n",
      "Epoch 4/50\n",
      "50000/50000 [==============================] - 4s 87us/step - loss: 1.5395 - acc: 0.4623 - val_loss: 1.6328 - val_acc: 0.4298\n",
      "Epoch 5/50\n",
      "50000/50000 [==============================] - 4s 89us/step - loss: 1.4846 - acc: 0.4832 - val_loss: 1.5939 - val_acc: 0.4474\n",
      "Epoch 6/50\n",
      "50000/50000 [==============================] - 5s 91us/step - loss: 1.4382 - acc: 0.4985 - val_loss: 1.5781 - val_acc: 0.4525\n",
      "Epoch 7/50\n",
      "50000/50000 [==============================] - 4s 87us/step - loss: 1.4012 - acc: 0.5121 - val_loss: 1.5457 - val_acc: 0.4626\n",
      "Epoch 8/50\n",
      "50000/50000 [==============================] - 4s 87us/step - loss: 1.3668 - acc: 0.5250 - val_loss: 1.5299 - val_acc: 0.4623\n",
      "Epoch 9/50\n",
      "50000/50000 [==============================] - 4s 87us/step - loss: 1.3343 - acc: 0.5379 - val_loss: 1.5184 - val_acc: 0.4692\n",
      "Epoch 10/50\n",
      "50000/50000 [==============================] - 5s 92us/step - loss: 1.3048 - acc: 0.5482 - val_loss: 1.5070 - val_acc: 0.4717\n",
      "Epoch 11/50\n",
      "50000/50000 [==============================] - 5s 95us/step - loss: 1.2768 - acc: 0.5591 - val_loss: 1.4970 - val_acc: 0.4789\n",
      "Epoch 12/50\n",
      "50000/50000 [==============================] - 4s 88us/step - loss: 1.2490 - acc: 0.5688 - val_loss: 1.4860 - val_acc: 0.4837\n",
      "Epoch 13/50\n",
      "50000/50000 [==============================] - 4s 86us/step - loss: 1.2244 - acc: 0.5780 - val_loss: 1.4720 - val_acc: 0.4885\n",
      "Epoch 14/50\n",
      "50000/50000 [==============================] - 4s 86us/step - loss: 1.1980 - acc: 0.5892 - val_loss: 1.4669 - val_acc: 0.4943\n",
      "Epoch 15/50\n",
      "50000/50000 [==============================] - 4s 86us/step - loss: 1.1747 - acc: 0.5975 - val_loss: 1.4673 - val_acc: 0.4841\n",
      "Epoch 16/50\n",
      "50000/50000 [==============================] - 4s 85us/step - loss: 1.1497 - acc: 0.6062 - val_loss: 1.4569 - val_acc: 0.4935\n",
      "Epoch 17/50\n",
      "50000/50000 [==============================] - 4s 85us/step - loss: 1.1279 - acc: 0.6137 - val_loss: 1.4617 - val_acc: 0.4894\n",
      "Epoch 18/50\n",
      "50000/50000 [==============================] - 4s 85us/step - loss: 1.1044 - acc: 0.6226 - val_loss: 1.4660 - val_acc: 0.4875\n",
      "Epoch 19/50\n",
      "50000/50000 [==============================] - 4s 86us/step - loss: 1.0846 - acc: 0.6302 - val_loss: 1.4594 - val_acc: 0.4920\n",
      "Epoch 20/50\n",
      "50000/50000 [==============================] - 4s 86us/step - loss: 1.0610 - acc: 0.6386 - val_loss: 1.4648 - val_acc: 0.4922\n",
      "Epoch 21/50\n",
      "50000/50000 [==============================] - 4s 87us/step - loss: 1.0401 - acc: 0.6486 - val_loss: 1.4535 - val_acc: 0.4992\n",
      "Epoch 22/50\n",
      "50000/50000 [==============================] - 4s 87us/step - loss: 1.0172 - acc: 0.6582 - val_loss: 1.4597 - val_acc: 0.4975\n",
      "Epoch 23/50\n",
      "50000/50000 [==============================] - 4s 88us/step - loss: 0.9973 - acc: 0.6623 - val_loss: 1.4714 - val_acc: 0.4926\n",
      "Epoch 24/50\n",
      "50000/50000 [==============================] - 4s 86us/step - loss: 0.9753 - acc: 0.6721 - val_loss: 1.4681 - val_acc: 0.4956\n",
      "Epoch 25/50\n",
      "50000/50000 [==============================] - 4s 88us/step - loss: 0.9555 - acc: 0.6794 - val_loss: 1.4610 - val_acc: 0.4996\n",
      "Epoch 26/50\n",
      "50000/50000 [==============================] - 4s 86us/step - loss: 0.9361 - acc: 0.6862 - val_loss: 1.4543 - val_acc: 0.5028\n",
      "Epoch 27/50\n",
      "50000/50000 [==============================] - 4s 87us/step - loss: 0.9137 - acc: 0.6972 - val_loss: 1.4681 - val_acc: 0.4952\n",
      "Epoch 28/50\n",
      "50000/50000 [==============================] - 4s 87us/step - loss: 0.8939 - acc: 0.7039 - val_loss: 1.4861 - val_acc: 0.4940\n",
      "Epoch 29/50\n",
      "50000/50000 [==============================] - 4s 86us/step - loss: 0.8751 - acc: 0.7119 - val_loss: 1.4841 - val_acc: 0.4952\n",
      "Epoch 30/50\n",
      "50000/50000 [==============================] - 4s 87us/step - loss: 0.8556 - acc: 0.7200 - val_loss: 1.4844 - val_acc: 0.4966\n",
      "Epoch 31/50\n",
      "50000/50000 [==============================] - 4s 86us/step - loss: 0.8372 - acc: 0.7262 - val_loss: 1.4896 - val_acc: 0.4963\n",
      "Epoch 32/50\n",
      "50000/50000 [==============================] - 4s 86us/step - loss: 0.8154 - acc: 0.7334 - val_loss: 1.4873 - val_acc: 0.4956\n",
      "Epoch 33/50\n",
      "50000/50000 [==============================] - 4s 86us/step - loss: 0.7959 - acc: 0.7435 - val_loss: 1.4908 - val_acc: 0.4983\n",
      "Epoch 34/50\n",
      "50000/50000 [==============================] - 4s 86us/step - loss: 0.7754 - acc: 0.7506 - val_loss: 1.5115 - val_acc: 0.4960\n",
      "Epoch 35/50\n",
      "50000/50000 [==============================] - 4s 87us/step - loss: 0.7571 - acc: 0.7576 - val_loss: 1.5318 - val_acc: 0.4914\n",
      "Epoch 36/50\n",
      "50000/50000 [==============================] - 4s 86us/step - loss: 0.7394 - acc: 0.7653 - val_loss: 1.5285 - val_acc: 0.4893\n",
      "Epoch 37/50\n",
      "50000/50000 [==============================] - 4s 86us/step - loss: 0.7207 - acc: 0.7703 - val_loss: 1.5293 - val_acc: 0.4963\n",
      "Epoch 38/50\n",
      "50000/50000 [==============================] - 4s 88us/step - loss: 0.7008 - acc: 0.7791 - val_loss: 1.5287 - val_acc: 0.5026\n",
      "Epoch 39/50\n",
      "50000/50000 [==============================] - 4s 87us/step - loss: 0.6834 - acc: 0.7858 - val_loss: 1.5529 - val_acc: 0.4928\n",
      "Epoch 40/50\n",
      "50000/50000 [==============================] - 4s 88us/step - loss: 0.6627 - acc: 0.7956 - val_loss: 1.5609 - val_acc: 0.4983\n",
      "Epoch 41/50\n",
      "50000/50000 [==============================] - 4s 86us/step - loss: 0.6435 - acc: 0.8013 - val_loss: 1.5506 - val_acc: 0.4984\n",
      "Epoch 42/50\n",
      "50000/50000 [==============================] - 5s 93us/step - loss: 0.6263 - acc: 0.8101 - val_loss: 1.5844 - val_acc: 0.4901\n",
      "Epoch 43/50\n",
      "50000/50000 [==============================] - 4s 90us/step - loss: 0.6111 - acc: 0.8137 - val_loss: 1.5764 - val_acc: 0.4943\n",
      "Epoch 44/50\n",
      "50000/50000 [==============================] - 4s 89us/step - loss: 0.5910 - acc: 0.8226 - val_loss: 1.6031 - val_acc: 0.4895\n",
      "Epoch 45/50\n",
      "50000/50000 [==============================] - 4s 87us/step - loss: 0.5721 - acc: 0.8295 - val_loss: 1.6224 - val_acc: 0.4888\n",
      "Epoch 46/50\n",
      "50000/50000 [==============================] - 4s 89us/step - loss: 0.5574 - acc: 0.8341 - val_loss: 1.6290 - val_acc: 0.4864\n",
      "Epoch 47/50\n",
      "50000/50000 [==============================] - 5s 91us/step - loss: 0.5391 - acc: 0.8425 - val_loss: 1.6406 - val_acc: 0.4887\n",
      "Epoch 48/50\n",
      "50000/50000 [==============================] - 5s 92us/step - loss: 0.5226 - acc: 0.8497 - val_loss: 1.6472 - val_acc: 0.4890\n",
      "Epoch 49/50\n"
     ]
    },
    {
     "name": "stdout",
     "output_type": "stream",
     "text": [
      "50000/50000 [==============================] - 5s 91us/step - loss: 0.5056 - acc: 0.8563 - val_loss: 1.6594 - val_acc: 0.4895\n",
      "Epoch 50/50\n",
      "50000/50000 [==============================] - 4s 89us/step - loss: 0.4885 - acc: 0.8631 - val_loss: 1.6685 - val_acc: 0.4885\n",
      "10000/10000 [==============================] - 1s 74us/step\n"
     ]
    }
   ],
   "source": [
    "# 載入 Callbacks\n",
    "from keras.callbacks import ModelCheckpoint\n",
    "\n",
    "model_ckpt = ModelCheckpoint(filepath=\"./tmp.h5\", \n",
    "                             monitor=\"val_loss\" \n",
    "                             )\n",
    "results = {}\n",
    "\n",
    "model = build_mlp(input_shape=x_train.shape[1:])\n",
    "model.summary()\n",
    "optimizer = keras.optimizers.SGD(lr=LEARNING_RATE, nesterov=True, momentum=MOMENTUM)\n",
    "model.compile(loss=\"categorical_crossentropy\", metrics=[\"accuracy\"], optimizer=optimizer)\n",
    "\n",
    "model.fit(x_train, y_train, \n",
    "          epochs=EPOCHS, \n",
    "          batch_size=BATCH_SIZE, \n",
    "          validation_data=(x_test, y_test), \n",
    "          shuffle=True,\n",
    "          callbacks=[model_ckpt]\n",
    "         )\n",
    "\n",
    "# Collect results\n",
    "train_loss = model.history.history[\"loss\"]\n",
    "valid_loss = model.history.history[\"val_loss\"]\n",
    "train_acc = model.history.history[\"acc\"]\n",
    "valid_acc = model.history.history[\"val_acc\"]\n",
    "\n",
    "# Load back\n",
    "model = keras.models.load_model(\"./tmp.h5\")\n",
    "loss_loadback, acc_loadback = model.evaluate(x_test, y_test)"
   ]
  },
  {
   "cell_type": "code",
   "execution_count": 9,
   "metadata": {
    "scrolled": false
   },
   "outputs": [
    {
     "data": {
      "image/png": "[encoded data removed]",
      "text/plain": [
       "<Figure size 432x288 with 1 Axes>"
      ]
     },
     "metadata": {
      "needs_background": "light"
     },
     "output_type": "display_data"
    },
    {
     "data": {
      "image/png": "[encoded data removed]",
      "text/plain": [
       "<Figure size 432x288 with 1 Axes>"
      ]
     },
     "metadata": {
      "needs_background": "light"
     },
     "output_type": "display_data"
    }
   ],
   "source": [
    "import matplotlib.pyplot as plt\n",
    "%matplotlib inline\n",
    "\n",
    "plt.plot(range(len(train_loss)), train_loss, label=\"train loss\")\n",
    "plt.plot(range(len(valid_loss)), valid_loss, label=\"valid loss\")\n",
    "plt.hlines(y=loss_loadback, xmin=0, xmax=len(train_loss), colors='r', linestyles='--')\n",
    "plt.legend()\n",
    "plt.title(\"Loss\")\n",
    "plt.show()\n",
    "\n",
    "plt.plot(range(len(train_acc)), train_acc, label=\"train accuracy\")\n",
    "plt.plot(range(len(valid_acc)), valid_acc, label=\"valid accuracy\")\n",
    "plt.hlines(y=acc_loadback, xmin=0, xmax=len(train_loss), colors='r', linestyles='--')\n",
    "plt.legend()\n",
    "plt.title(\"Accuracy\")\n",
    "plt.show()"
   ]
  },
  {
   "cell_type": "code",
   "execution_count": null,
   "metadata": {},
   "outputs": [],
   "source": [
    "#如best_only設定沒打開，紀錄會記載最後的數值而不會去挑選較好的權重"
   ]
  },
  {
   "cell_type": "code",
   "execution_count": null,
   "metadata": {},
   "outputs": [],
   "source": []
  }
 ],
 "metadata": {
  "kernelspec": {
   "display_name": "Python 3",
   "language": "python",
   "name": "python3"
  },
  "language_info": {
   "codemirror_mode": {
    "name": "ipython",
    "version": 3
   },
   "file_extension": ".py",
   "mimetype": "text/x-python",
   "name": "python",
   "nbconvert_exporter": "python",
   "pygments_lexer": "ipython3",
   "version": "3.7.3"
  }
 },
 "nbformat": 4,
 "nbformat_minor": 2
}
