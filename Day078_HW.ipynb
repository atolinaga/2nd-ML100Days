{
 "cells": [
  {
   "cell_type": "markdown",
   "metadata": {},
   "source": [
    "## Work\n",
    "1. 請嘗試將 preproc_x 替換成以每筆資料的 min/max 進行標準化至 -1 ~ 1 間，再進行訓練\n",
    "2. 請嘗試將 mlp 疊更深 (e.g 5~10 層)，進行訓練後觀察 learning curve 的走勢\n",
    "3. (optional) 請改用 GPU 進行訓練 (如果你有 GPU 的話)，比較使用 CPU 與 GPU 的訓練速度"
   ]
  },
  {
   "cell_type": "code",
   "execution_count": 1,
   "metadata": {},
   "outputs": [],
   "source": []
  },
  {
   "cell_type": "code",
   "execution_count": 10,
   "metadata": {},
   "outputs": [],
   "source": [
    "import os\n",
    "import keras\n",
    "\n",
    "# 請嘗試設定 GPU：os.environ\n",
    "os.environ[\"CUDA_VISIBLE_DEVICES\"] = \"\""
   ]
  },
  {
   "cell_type": "code",
   "execution_count": 11,
   "metadata": {},
   "outputs": [],
   "source": [
    "train, test = keras.datasets.cifar10.load_data()"
   ]
  },
  {
   "cell_type": "code",
   "execution_count": 12,
   "metadata": {},
   "outputs": [],
   "source": [
    "## 資料前處理\n",
    "\"\"\"\n",
    "Your code here\n",
    "\"\"\"\n",
    "def preproc_x(x, flatten=True):\n",
    "    x = (x-127.5) / 127.5\n",
    "    if flatten:\n",
    "        x = x.reshape((len(x), -1))\n",
    "    return x\n",
    "\n",
    "def preproc_y(y, num_classes=10):\n",
    "    if y.shape[-1] == 1:\n",
    "        y = keras.utils.to_categorical(y, num_classes)\n",
    "    return y   "
   ]
  },
  {
   "cell_type": "code",
   "execution_count": 13,
   "metadata": {},
   "outputs": [],
   "source": [
    "x_train, y_train = train\n",
    "x_test, y_test = test\n",
    "\n",
    "# Preproc the inputs\n",
    "x_train = preproc_x(x_train)\n",
    "x_test = preproc_x(x_test)\n",
    "\n",
    "# Preprc the outputs\n",
    "y_train = preproc_y(y_train)\n",
    "y_test = preproc_y(y_test)"
   ]
  },
  {
   "cell_type": "code",
   "execution_count": 15,
   "metadata": {},
   "outputs": [],
   "source": [
    "def build_mlp(input_shape, output_units=10, num_neurons=[512, 256, 128,64,64,64,64,64,64]):\n",
    "    input_layer = keras.layers.Input(input_shape)\n",
    "    \n",
    "    for i, n_units in enumerate(num_neurons):\n",
    "        if i == 0:\n",
    "            x = keras.layers.Dense(units=n_units, activation=\"relu\", name=\"hidden_layer\"+str(i+1))(input_layer)\n",
    "        else:\n",
    "            x = keras.layers.Dense(units=n_units, activation=\"relu\", name=\"hidden_layer\"+str(i+1))(x)\n",
    "    \n",
    "    out = keras.layers.Dense(units=output_units, activation=\"softmax\", name=\"output\")(x)\n",
    "    \n",
    "    model = keras.models.Model(inputs=[input_layer], outputs=[out])\n",
    "    return model"
   ]
  },
  {
   "cell_type": "code",
   "execution_count": 17,
   "metadata": {},
   "outputs": [
    {
     "name": "stderr",
     "output_type": "stream",
     "text": [
      "WARNING: Logging before flag parsing goes to stderr.\n",
      "W0713 15:08:53.075599  3452 deprecation_wrapper.py:119] From C:\\ProgramData\\Anaconda3\\lib\\site-packages\\keras\\backend\\tensorflow_backend.py:74: The name tf.get_default_graph is deprecated. Please use tf.compat.v1.get_default_graph instead.\n",
      "\n",
      "W0713 15:08:53.324599  3452 deprecation_wrapper.py:119] From C:\\ProgramData\\Anaconda3\\lib\\site-packages\\keras\\backend\\tensorflow_backend.py:517: The name tf.placeholder is deprecated. Please use tf.compat.v1.placeholder instead.\n",
      "\n",
      "W0713 15:08:53.421600  3452 deprecation_wrapper.py:119] From C:\\ProgramData\\Anaconda3\\lib\\site-packages\\keras\\backend\\tensorflow_backend.py:4138: The name tf.random_uniform is deprecated. Please use tf.random.uniform instead.\n",
      "\n"
     ]
    },
    {
     "name": "stdout",
     "output_type": "stream",
     "text": [
      "_________________________________________________________________\n",
      "Layer (type)                 Output Shape              Param #   \n",
      "=================================================================\n",
      "input_1 (InputLayer)         (None, 3072)              0         \n",
      "_________________________________________________________________\n",
      "hidden_layer1 (Dense)        (None, 512)               1573376   \n",
      "_________________________________________________________________\n",
      "hidden_layer2 (Dense)        (None, 256)               131328    \n",
      "_________________________________________________________________\n",
      "hidden_layer3 (Dense)        (None, 128)               32896     \n",
      "_________________________________________________________________\n",
      "hidden_layer4 (Dense)        (None, 64)                8256      \n",
      "_________________________________________________________________\n",
      "hidden_layer5 (Dense)        (None, 64)                4160      \n",
      "_________________________________________________________________\n",
      "hidden_layer6 (Dense)        (None, 64)                4160      \n",
      "_________________________________________________________________\n",
      "hidden_layer7 (Dense)        (None, 64)                4160      \n",
      "_________________________________________________________________\n",
      "hidden_layer8 (Dense)        (None, 64)                4160      \n",
      "_________________________________________________________________\n",
      "hidden_layer9 (Dense)        (None, 64)                4160      \n",
      "_________________________________________________________________\n",
      "output (Dense)               (None, 10)                650       \n",
      "=================================================================\n",
      "Total params: 1,767,306\n",
      "Trainable params: 1,767,306\n",
      "Non-trainable params: 0\n",
      "_________________________________________________________________\n"
     ]
    }
   ],
   "source": [
    "model = build_mlp(input_shape=x_train.shape[1:])\n",
    "model.summary()"
   ]
  },
  {
   "cell_type": "code",
   "execution_count": 18,
   "metadata": {},
   "outputs": [],
   "source": [
    "## 超參數設定\n",
    "LEARNING_RATE = 0.001\n",
    "EPOCHS = 100\n",
    "BATCH_SIZE = 256"
   ]
  },
  {
   "cell_type": "code",
   "execution_count": 19,
   "metadata": {},
   "outputs": [
    {
     "name": "stderr",
     "output_type": "stream",
     "text": [
      "W0713 15:09:23.196599  3452 deprecation_wrapper.py:119] From C:\\ProgramData\\Anaconda3\\lib\\site-packages\\keras\\optimizers.py:790: The name tf.train.Optimizer is deprecated. Please use tf.compat.v1.train.Optimizer instead.\n",
      "\n",
      "W0713 15:09:23.212599  3452 deprecation_wrapper.py:119] From C:\\ProgramData\\Anaconda3\\lib\\site-packages\\keras\\backend\\tensorflow_backend.py:3295: The name tf.log is deprecated. Please use tf.math.log instead.\n",
      "\n"
     ]
    }
   ],
   "source": [
    "optimizer = keras.optimizers.Adam(lr=LEARNING_RATE)\n",
    "model.compile(loss=\"categorical_crossentropy\", metrics=[\"accuracy\"], optimizer=optimizer)"
   ]
  },
  {
   "cell_type": "code",
   "execution_count": 20,
   "metadata": {},
   "outputs": [
    {
     "name": "stderr",
     "output_type": "stream",
     "text": [
      "W0713 15:09:25.807600  3452 deprecation.py:323] From C:\\ProgramData\\Anaconda3\\lib\\site-packages\\tensorflow\\python\\ops\\math_grad.py:1250: add_dispatch_support.<locals>.wrapper (from tensorflow.python.ops.array_ops) is deprecated and will be removed in a future version.\n",
      "Instructions for updating:\n",
      "Use tf.where in 2.0, which has the same broadcast rule as np.where\n",
      "W0713 15:09:25.862599  3452 deprecation_wrapper.py:119] From C:\\ProgramData\\Anaconda3\\lib\\site-packages\\keras\\backend\\tensorflow_backend.py:986: The name tf.assign_add is deprecated. Please use tf.compat.v1.assign_add instead.\n",
      "\n"
     ]
    },
    {
     "name": "stdout",
     "output_type": "stream",
     "text": [
      "Train on 50000 samples, validate on 10000 samples\n",
      "Epoch 1/100\n",
      "50000/50000 [==============================] - 11s 210us/step - loss: 1.7692 - acc: 0.3687 - val_loss: 1.6078 - val_acc: 0.4309\n",
      "Epoch 2/100\n",
      "50000/50000 [==============================] - 10s 196us/step - loss: 1.5217 - acc: 0.4591 - val_loss: 1.4558 - val_acc: 0.4863\n",
      "Epoch 3/100\n",
      "50000/50000 [==============================] - 10s 195us/step - loss: 1.3969 - acc: 0.5070 - val_loss: 1.4118 - val_acc: 0.5031\n",
      "Epoch 4/100\n",
      "50000/50000 [==============================] - 10s 198us/step - loss: 1.3063 - acc: 0.5374 - val_loss: 1.3866 - val_acc: 0.5170\n",
      "Epoch 5/100\n",
      "50000/50000 [==============================] - 10s 205us/step - loss: 1.2333 - acc: 0.5661 - val_loss: 1.3848 - val_acc: 0.5144\n",
      "Epoch 6/100\n",
      "50000/50000 [==============================] - 11s 223us/step - loss: 1.1565 - acc: 0.5919 - val_loss: 1.3692 - val_acc: 0.5322\n",
      "Epoch 7/100\n",
      "50000/50000 [==============================] - 10s 194us/step - loss: 1.0872 - acc: 0.6153 - val_loss: 1.3609 - val_acc: 0.5295\n",
      "Epoch 8/100\n",
      "50000/50000 [==============================] - 10s 194us/step - loss: 1.0167 - acc: 0.6412 - val_loss: 1.4014 - val_acc: 0.5266\n",
      "Epoch 9/100\n",
      "50000/50000 [==============================] - 10s 191us/step - loss: 0.9554 - acc: 0.6646 - val_loss: 1.4095 - val_acc: 0.5339\n",
      "Epoch 10/100\n",
      "50000/50000 [==============================] - 10s 192us/step - loss: 0.8886 - acc: 0.6872 - val_loss: 1.4427 - val_acc: 0.5273\n",
      "Epoch 11/100\n",
      "50000/50000 [==============================] - 9s 189us/step - loss: 0.8333 - acc: 0.7062 - val_loss: 1.4890 - val_acc: 0.5351\n",
      "Epoch 12/100\n",
      "50000/50000 [==============================] - 10s 194us/step - loss: 0.7777 - acc: 0.7248 - val_loss: 1.4723 - val_acc: 0.5316\n",
      "Epoch 13/100\n",
      "50000/50000 [==============================] - 10s 202us/step - loss: 0.7156 - acc: 0.7478 - val_loss: 1.6082 - val_acc: 0.5260\n",
      "Epoch 14/100\n",
      "50000/50000 [==============================] - 10s 194us/step - loss: 0.6780 - acc: 0.7611 - val_loss: 1.5868 - val_acc: 0.5309\n",
      "Epoch 15/100\n",
      "50000/50000 [==============================] - 10s 195us/step - loss: 0.6337 - acc: 0.7758 - val_loss: 1.6500 - val_acc: 0.5366\n",
      "Epoch 16/100\n",
      "50000/50000 [==============================] - 10s 206us/step - loss: 0.5841 - acc: 0.7947 - val_loss: 1.7158 - val_acc: 0.5276\n",
      "Epoch 17/100\n",
      "50000/50000 [==============================] - 10s 197us/step - loss: 0.5448 - acc: 0.8085 - val_loss: 1.8142 - val_acc: 0.5254\n",
      "Epoch 18/100\n",
      "50000/50000 [==============================] - 10s 210us/step - loss: 0.5158 - acc: 0.8181 - val_loss: 1.8281 - val_acc: 0.5196\n",
      "Epoch 19/100\n",
      "50000/50000 [==============================] - 12s 234us/step - loss: 0.4726 - acc: 0.8342 - val_loss: 1.8689 - val_acc: 0.5323\n",
      "Epoch 20/100\n",
      "50000/50000 [==============================] - 10s 207us/step - loss: 0.4412 - acc: 0.8456 - val_loss: 1.9419 - val_acc: 0.5279\n",
      "Epoch 21/100\n",
      "50000/50000 [==============================] - 11s 213us/step - loss: 0.4121 - acc: 0.8571 - val_loss: 1.9657 - val_acc: 0.5304\n",
      "Epoch 22/100\n",
      "50000/50000 [==============================] - 10s 209us/step - loss: 0.3972 - acc: 0.8614 - val_loss: 1.9863 - val_acc: 0.5234\n",
      "Epoch 23/100\n",
      "50000/50000 [==============================] - 10s 208us/step - loss: 0.3767 - acc: 0.8685 - val_loss: 2.0805 - val_acc: 0.5267\n",
      "Epoch 24/100\n",
      "50000/50000 [==============================] - 11s 214us/step - loss: 0.3414 - acc: 0.8814 - val_loss: 2.1304 - val_acc: 0.5293\n",
      "Epoch 25/100\n",
      "50000/50000 [==============================] - 12s 239us/step - loss: 0.3329 - acc: 0.8844 - val_loss: 2.1964 - val_acc: 0.5280\n",
      "Epoch 26/100\n",
      "50000/50000 [==============================] - 11s 212us/step - loss: 0.3048 - acc: 0.8942 - val_loss: 2.2742 - val_acc: 0.5265\n",
      "Epoch 27/100\n",
      "50000/50000 [==============================] - 11s 215us/step - loss: 0.2808 - acc: 0.9022 - val_loss: 2.3997 - val_acc: 0.5276\n",
      "Epoch 28/100\n",
      "50000/50000 [==============================] - 10s 197us/step - loss: 0.2808 - acc: 0.9037 - val_loss: 2.4576 - val_acc: 0.5256\n",
      "Epoch 29/100\n",
      "50000/50000 [==============================] - 10s 192us/step - loss: 0.2720 - acc: 0.9058 - val_loss: 2.4086 - val_acc: 0.5300\n",
      "Epoch 30/100\n",
      "50000/50000 [==============================] - 10s 191us/step - loss: 0.2585 - acc: 0.9109 - val_loss: 2.5323 - val_acc: 0.5273\n",
      "Epoch 31/100\n",
      "50000/50000 [==============================] - 10s 193us/step - loss: 0.2399 - acc: 0.9167 - val_loss: 2.5170 - val_acc: 0.5267\n",
      "Epoch 32/100\n",
      "50000/50000 [==============================] - 10s 195us/step - loss: 0.2328 - acc: 0.9192 - val_loss: 2.6137 - val_acc: 0.5276\n",
      "Epoch 33/100\n",
      "50000/50000 [==============================] - 10s 200us/step - loss: 0.2171 - acc: 0.9266 - val_loss: 2.5615 - val_acc: 0.5301\n",
      "Epoch 34/100\n",
      "50000/50000 [==============================] - 10s 199us/step - loss: 0.2116 - acc: 0.9265 - val_loss: 2.6876 - val_acc: 0.5253\n",
      "Epoch 35/100\n",
      "50000/50000 [==============================] - 10s 191us/step - loss: 0.2125 - acc: 0.9265 - val_loss: 2.6250 - val_acc: 0.5256\n",
      "Epoch 36/100\n",
      "50000/50000 [==============================] - 10s 190us/step - loss: 0.1940 - acc: 0.9346 - val_loss: 2.6779 - val_acc: 0.5247\n",
      "Epoch 37/100\n",
      "50000/50000 [==============================] - 10s 193us/step - loss: 0.1891 - acc: 0.9361 - val_loss: 2.7916 - val_acc: 0.5257\n",
      "Epoch 38/100\n",
      "50000/50000 [==============================] - 10s 193us/step - loss: 0.1943 - acc: 0.9334 - val_loss: 2.6546 - val_acc: 0.5195\n",
      "Epoch 39/100\n",
      "50000/50000 [==============================] - 10s 192us/step - loss: 0.1799 - acc: 0.9403 - val_loss: 2.5329 - val_acc: 0.5212\n",
      "Epoch 40/100\n",
      "50000/50000 [==============================] - 11s 218us/step - loss: 0.1766 - acc: 0.9418 - val_loss: 2.7376 - val_acc: 0.5266\n",
      "Epoch 41/100\n",
      "50000/50000 [==============================] - 10s 194us/step - loss: 0.1698 - acc: 0.9424 - val_loss: 2.8579 - val_acc: 0.5222\n",
      "Epoch 42/100\n",
      "50000/50000 [==============================] - 9s 189us/step - loss: 0.1635 - acc: 0.9455 - val_loss: 2.8207 - val_acc: 0.5253\n",
      "Epoch 43/100\n",
      "50000/50000 [==============================] - 10s 193us/step - loss: 0.1541 - acc: 0.9481 - val_loss: 2.7741 - val_acc: 0.5255\n",
      "Epoch 44/100\n",
      "50000/50000 [==============================] - 10s 194us/step - loss: 0.1557 - acc: 0.9483 - val_loss: 2.9122 - val_acc: 0.5185\n",
      "Epoch 45/100\n",
      "50000/50000 [==============================] - 10s 192us/step - loss: 0.1425 - acc: 0.9520 - val_loss: 2.8030 - val_acc: 0.5188\n",
      "Epoch 46/100\n",
      "50000/50000 [==============================] - 10s 191us/step - loss: 0.1564 - acc: 0.9470 - val_loss: 2.9211 - val_acc: 0.5233\n",
      "Epoch 47/100\n",
      "50000/50000 [==============================] - 10s 195us/step - loss: 0.1490 - acc: 0.9498 - val_loss: 2.7675 - val_acc: 0.5252\n",
      "Epoch 48/100\n",
      "50000/50000 [==============================] - 10s 192us/step - loss: 0.1401 - acc: 0.9533 - val_loss: 2.8334 - val_acc: 0.5244\n",
      "Epoch 49/100\n",
      "50000/50000 [==============================] - 10s 191us/step - loss: 0.1373 - acc: 0.9536 - val_loss: 2.8616 - val_acc: 0.5247\n",
      "Epoch 50/100\n",
      "50000/50000 [==============================] - 10s 196us/step - loss: 0.1359 - acc: 0.9547 - val_loss: 2.8534 - val_acc: 0.5305\n",
      "Epoch 51/100\n",
      "50000/50000 [==============================] - 10s 194us/step - loss: 0.1309 - acc: 0.9566 - val_loss: 2.9964 - val_acc: 0.5233\n",
      "Epoch 52/100\n",
      "50000/50000 [==============================] - 10s 195us/step - loss: 0.1229 - acc: 0.9592 - val_loss: 2.9615 - val_acc: 0.5245\n",
      "Epoch 53/100\n",
      "50000/50000 [==============================] - 10s 194us/step - loss: 0.1201 - acc: 0.9600 - val_loss: 3.1486 - val_acc: 0.5318\n",
      "Epoch 54/100\n",
      "50000/50000 [==============================] - 11s 214us/step - loss: 0.1278 - acc: 0.9573 - val_loss: 2.9910 - val_acc: 0.5169\n",
      "Epoch 55/100\n",
      "50000/50000 [==============================] - 10s 192us/step - loss: 0.1208 - acc: 0.9606 - val_loss: 3.0580 - val_acc: 0.5199\n",
      "Epoch 56/100\n",
      "50000/50000 [==============================] - 10s 192us/step - loss: 0.1199 - acc: 0.9614 - val_loss: 2.9254 - val_acc: 0.5207\n",
      "Epoch 57/100\n",
      "50000/50000 [==============================] - 10s 192us/step - loss: 0.1204 - acc: 0.9604 - val_loss: 3.1255 - val_acc: 0.5311\n",
      "Epoch 58/100\n",
      "50000/50000 [==============================] - 10s 194us/step - loss: 0.1143 - acc: 0.9624 - val_loss: 2.9240 - val_acc: 0.5265\n"
     ]
    },
    {
     "name": "stdout",
     "output_type": "stream",
     "text": [
      "Epoch 59/100\n",
      "50000/50000 [==============================] - 10s 192us/step - loss: 0.1127 - acc: 0.9627 - val_loss: 3.1067 - val_acc: 0.5271\n",
      "Epoch 60/100\n",
      "50000/50000 [==============================] - 10s 195us/step - loss: 0.1175 - acc: 0.9610 - val_loss: 3.0877 - val_acc: 0.5220\n",
      "Epoch 61/100\n",
      "50000/50000 [==============================] - 10s 195us/step - loss: 0.1052 - acc: 0.9651 - val_loss: 3.1311 - val_acc: 0.5262\n",
      "Epoch 62/100\n",
      "50000/50000 [==============================] - 10s 195us/step - loss: 0.1014 - acc: 0.9662 - val_loss: 3.1196 - val_acc: 0.5298\n",
      "Epoch 63/100\n",
      "50000/50000 [==============================] - 10s 199us/step - loss: 0.0988 - acc: 0.9676 - val_loss: 3.0983 - val_acc: 0.5261\n",
      "Epoch 64/100\n",
      "50000/50000 [==============================] - 10s 194us/step - loss: 0.1055 - acc: 0.9649 - val_loss: 3.1138 - val_acc: 0.5207\n",
      "Epoch 65/100\n",
      "50000/50000 [==============================] - 11s 213us/step - loss: 0.1025 - acc: 0.9662 - val_loss: 3.0971 - val_acc: 0.5250\n",
      "Epoch 66/100\n",
      "50000/50000 [==============================] - 10s 198us/step - loss: 0.1000 - acc: 0.9669 - val_loss: 3.2686 - val_acc: 0.5369\n",
      "Epoch 67/100\n",
      "50000/50000 [==============================] - 10s 191us/step - loss: 0.1069 - acc: 0.9642 - val_loss: 3.0633 - val_acc: 0.5263\n",
      "Epoch 68/100\n",
      "50000/50000 [==============================] - 10s 192us/step - loss: 0.0941 - acc: 0.9686 - val_loss: 3.2617 - val_acc: 0.5276\n",
      "Epoch 69/100\n",
      "50000/50000 [==============================] - 10s 192us/step - loss: 0.1001 - acc: 0.9671 - val_loss: 3.0818 - val_acc: 0.5234\n",
      "Epoch 70/100\n",
      "50000/50000 [==============================] - 10s 192us/step - loss: 0.0999 - acc: 0.9674 - val_loss: 3.0686 - val_acc: 0.5271\n",
      "Epoch 71/100\n",
      "50000/50000 [==============================] - 10s 197us/step - loss: 0.1008 - acc: 0.9671 - val_loss: 3.2951 - val_acc: 0.5294\n",
      "Epoch 72/100\n",
      "50000/50000 [==============================] - 10s 195us/step - loss: 0.0936 - acc: 0.9698 - val_loss: 3.1116 - val_acc: 0.5208\n",
      "Epoch 73/100\n",
      "50000/50000 [==============================] - 10s 197us/step - loss: 0.0830 - acc: 0.9732 - val_loss: 3.3204 - val_acc: 0.5193\n",
      "Epoch 74/100\n",
      "50000/50000 [==============================] - 10s 196us/step - loss: 0.0843 - acc: 0.9727 - val_loss: 3.2915 - val_acc: 0.5203\n",
      "Epoch 75/100\n",
      "50000/50000 [==============================] - 10s 199us/step - loss: 0.0937 - acc: 0.9686 - val_loss: 3.1783 - val_acc: 0.5260\n",
      "Epoch 76/100\n",
      "50000/50000 [==============================] - 10s 196us/step - loss: 0.0813 - acc: 0.9735 - val_loss: 3.2186 - val_acc: 0.5246\n",
      "Epoch 77/100\n",
      "50000/50000 [==============================] - 11s 221us/step - loss: 0.0821 - acc: 0.9733 - val_loss: 3.1723 - val_acc: 0.5266\n",
      "Epoch 78/100\n",
      "50000/50000 [==============================] - 10s 201us/step - loss: 0.0899 - acc: 0.9699 - val_loss: 3.1370 - val_acc: 0.5233\n",
      "Epoch 79/100\n",
      "50000/50000 [==============================] - 10s 192us/step - loss: 0.0865 - acc: 0.9716 - val_loss: 3.3144 - val_acc: 0.5226\n",
      "Epoch 80/100\n",
      "50000/50000 [==============================] - 10s 193us/step - loss: 0.0841 - acc: 0.9724 - val_loss: 3.3820 - val_acc: 0.5235\n",
      "Epoch 81/100\n",
      "50000/50000 [==============================] - 10s 190us/step - loss: 0.0848 - acc: 0.9724 - val_loss: 3.2066 - val_acc: 0.5271\n",
      "Epoch 82/100\n",
      "50000/50000 [==============================] - 10s 193us/step - loss: 0.0829 - acc: 0.9733 - val_loss: 3.2190 - val_acc: 0.5230\n",
      "Epoch 83/100\n",
      "50000/50000 [==============================] - 9s 190us/step - loss: 0.0873 - acc: 0.9721 - val_loss: 3.3668 - val_acc: 0.5218\n",
      "Epoch 84/100\n",
      "50000/50000 [==============================] - 10s 194us/step - loss: 0.0782 - acc: 0.9745 - val_loss: 3.1419 - val_acc: 0.5221\n",
      "Epoch 85/100\n",
      "50000/50000 [==============================] - 10s 191us/step - loss: 0.0787 - acc: 0.9750 - val_loss: 3.4286 - val_acc: 0.5197\n",
      "Epoch 86/100\n",
      "50000/50000 [==============================] - 10s 196us/step - loss: 0.0859 - acc: 0.9723 - val_loss: 2.9499 - val_acc: 0.5241\n",
      "Epoch 87/100\n",
      "50000/50000 [==============================] - 10s 193us/step - loss: 0.0761 - acc: 0.9757 - val_loss: 3.2756 - val_acc: 0.5287\n",
      "Epoch 88/100\n",
      "50000/50000 [==============================] - 10s 193us/step - loss: 0.0706 - acc: 0.9760 - val_loss: 3.1305 - val_acc: 0.5321\n",
      "Epoch 89/100\n",
      "50000/50000 [==============================] - 10s 203us/step - loss: 0.0681 - acc: 0.9772 - val_loss: 3.2569 - val_acc: 0.5265\n",
      "Epoch 90/100\n",
      "50000/50000 [==============================] - 10s 191us/step - loss: 0.0734 - acc: 0.9765 - val_loss: 3.2034 - val_acc: 0.5208\n",
      "Epoch 91/100\n",
      "50000/50000 [==============================] - 10s 194us/step - loss: 0.0837 - acc: 0.9728 - val_loss: 3.3270 - val_acc: 0.5299\n",
      "Epoch 92/100\n",
      "50000/50000 [==============================] - 10s 193us/step - loss: 0.0664 - acc: 0.9785 - val_loss: 3.3629 - val_acc: 0.5252\n",
      "Epoch 93/100\n",
      "50000/50000 [==============================] - 11s 218us/step - loss: 0.0793 - acc: 0.9747 - val_loss: 3.2105 - val_acc: 0.5277\n",
      "Epoch 94/100\n",
      "50000/50000 [==============================] - 10s 194us/step - loss: 0.0623 - acc: 0.9794 - val_loss: 3.3135 - val_acc: 0.5246\n",
      "Epoch 95/100\n",
      "50000/50000 [==============================] - 10s 193us/step - loss: 0.0767 - acc: 0.9752 - val_loss: 3.0291 - val_acc: 0.5280\n",
      "Epoch 96/100\n",
      "50000/50000 [==============================] - 10s 193us/step - loss: 0.0626 - acc: 0.9796 - val_loss: 3.4432 - val_acc: 0.5218\n",
      "Epoch 97/100\n",
      "50000/50000 [==============================] - 10s 193us/step - loss: 0.0710 - acc: 0.9767 - val_loss: 3.2442 - val_acc: 0.5326\n",
      "Epoch 98/100\n",
      "50000/50000 [==============================] - 10s 191us/step - loss: 0.0720 - acc: 0.9762 - val_loss: 3.4403 - val_acc: 0.5241\n",
      "Epoch 99/100\n",
      "50000/50000 [==============================] - 10s 196us/step - loss: 0.0652 - acc: 0.9797 - val_loss: 3.3693 - val_acc: 0.5258\n",
      "Epoch 100/100\n",
      "50000/50000 [==============================] - 10s 195us/step - loss: 0.0783 - acc: 0.9748 - val_loss: 3.3287 - val_acc: 0.5246\n"
     ]
    },
    {
     "data": {
      "text/plain": [
       "<keras.callbacks.History at 0xecd4278>"
      ]
     },
     "execution_count": 20,
     "metadata": {},
     "output_type": "execute_result"
    }
   ],
   "source": [
    "model.fit(x_train, y_train, \n",
    "          epochs=EPOCHS, \n",
    "          batch_size=BATCH_SIZE, \n",
    "          validation_data=(x_test, y_test), \n",
    "          shuffle=True)"
   ]
  },
  {
   "cell_type": "code",
   "execution_count": 22,
   "metadata": {},
   "outputs": [
    {
     "data": {
      "image/png": "[encoded data removed]",
      "text/plain": [
       "<Figure size 432x288 with 1 Axes>"
      ]
     },
     "metadata": {
      "needs_background": "light"
     },
     "output_type": "display_data"
    },
    {
     "data": {
      "image/png": "[encoded data removed]",
      "text/plain": [
       "<Figure size 432x288 with 1 Axes>"
      ]
     },
     "metadata": {
      "needs_background": "light"
     },
     "output_type": "display_data"
    }
   ],
   "source": [
    "import matplotlib.pyplot as plt\n",
    "\n",
    "\n",
    "train_loss = model.history.history[\"loss\"]\n",
    "valid_loss = model.history.history[\"val_loss\"]\n",
    "\n",
    "train_acc = model.history.history[\"acc\"]\n",
    "valid_acc = model.history.history[\"val_acc\"]\n",
    "\n",
    "plt.plot(range(len(train_loss)), train_loss, label=\"train loss\")\n",
    "plt.plot(range(len(valid_loss)), valid_loss, label=\"valid loss\")\n",
    "plt.legend()\n",
    "plt.title(\"Loss\")\n",
    "plt.show()\n",
    "\n",
    "plt.plot(range(len(train_acc)), train_acc, label=\"train accuracy\")\n",
    "plt.plot(range(len(valid_acc)), valid_acc, label=\"valid accuracy\")\n",
    "plt.legend()\n",
    "plt.title(\"Accuracy\")\n",
    "plt.show()"
   ]
  },
  {
   "cell_type": "code",
   "execution_count": null,
   "metadata": {},
   "outputs": [],
   "source": []
  }
 ],
 "metadata": {
  "kernelspec": {
   "display_name": "Python 3",
   "language": "python",
   "name": "python3"
  },
  "language_info": {
   "codemirror_mode": {
    "name": "ipython",
    "version": 3
   },
   "file_extension": ".py",
   "mimetype": "text/x-python",
   "name": "python",
   "nbconvert_exporter": "python",
   "pygments_lexer": "ipython3",
   "version": "3.7.3"
  }
 },
 "nbformat": 4,
 "nbformat_minor": 2
}
