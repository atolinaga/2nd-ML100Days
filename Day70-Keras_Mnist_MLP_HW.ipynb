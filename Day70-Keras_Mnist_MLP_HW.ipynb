{
 "cells": [
  {
   "cell_type": "markdown",
   "metadata": {},
   "source": [
    "# 作業目標:¶\n",
    "利用手寫辨識資料說明MLP 中, 神經網路層的多寡跟預測結果的差異"
   ]
  },
  {
   "cell_type": "markdown",
   "metadata": {},
   "source": [
    "# 作業重點:\n",
    "[練習]請嘗試新增一層或兩層看看最後預測結果是否有差異\n",
    "model.add(Dense(units=256, input_dim=784, kernel_initializer='normal', activation='relu'))\n"
   ]
  },
  {
   "cell_type": "markdown",
   "metadata": {
    "colab_type": "text",
    "id": "zfI5zCjRPlnc"
   },
   "source": [
    "# 資料預處理"
   ]
  },
  {
   "cell_type": "code",
   "execution_count": 1,
   "metadata": {
    "colab": {
     "autoexec": {
      "startup": false,
      "wait_interval": 0
     },
     "base_uri": "https://localhost:8080/",
     "height": 34
    },
    "colab_type": "code",
    "executionInfo": {
     "elapsed": 20601,
     "status": "ok",
     "timestamp": 1533441753568,
     "user": {
      "displayName": "Edward Cheng",
      "photoUrl": "//lh4.googleusercontent.com/-ANnwjGu3IBk/AAAAAAAAAAI/AAAAAAAAAAc/qXXg6Jek9xw/s50-c-k-no/photo.jpg",
      "userId": "112554017642991017343"
     },
     "user_tz": -480
    },
    "id": "GyIQ7tpGPlnf",
    "outputId": "f3642b99-3ef2-43fe-ee42-e17b1ef50cbb"
   },
   "outputs": [
    {
     "name": "stderr",
     "output_type": "stream",
     "text": [
      "Using TensorFlow backend.\n"
     ]
    }
   ],
   "source": [
    "from keras.utils import np_utils\n",
    "import numpy as np\n",
    "np.random.seed(10)"
   ]
  },
  {
   "cell_type": "code",
   "execution_count": 2,
   "metadata": {
    "colab": {
     "autoexec": {
      "startup": false,
      "wait_interval": 0
     },
     "base_uri": "https://localhost:8080/",
     "height": 51
    },
    "colab_type": "code",
    "executionInfo": {
     "elapsed": 5937,
     "status": "ok",
     "timestamp": 1533441759521,
     "user": {
      "displayName": "Edward Cheng",
      "photoUrl": "//lh4.googleusercontent.com/-ANnwjGu3IBk/AAAAAAAAAAI/AAAAAAAAAAc/qXXg6Jek9xw/s50-c-k-no/photo.jpg",
      "userId": "112554017642991017343"
     },
     "user_tz": -480
    },
    "id": "OLzoKlJRPlno",
    "outputId": "c75f10a4-951d-4b3b-ad5f-c8fc4dff0e96"
   },
   "outputs": [
    {
     "name": "stdout",
     "output_type": "stream",
     "text": [
      "Downloading data from https://s3.amazonaws.com/img-datasets/mnist.npz\n",
      "11493376/11490434 [==============================] - 181s 16us/step - E  - E - ETA: 4 -  - ETA: 3 -  - ETA: 3 - ETA:  - ETA: 3 - ETA:  - - ETA: - ETA: - ETA: 3 -  - ETA: 3 - ETA - \n"
     ]
    }
   ],
   "source": [
    "#載入手寫辨識的資料集\n",
    "from keras.datasets import mnist\n",
    "(x_train_image,y_train_label),\\\n",
    "(x_test_image,y_test_label)= mnist.load_data()"
   ]
  },
  {
   "cell_type": "code",
   "execution_count": 3,
   "metadata": {
    "colab": {
     "autoexec": {
      "startup": false,
      "wait_interval": 0
     }
    },
    "colab_type": "code",
    "id": "QEuQwa4nPlnu"
   },
   "outputs": [],
   "source": [
    "#指定測試集與訓練資料集\n",
    "x_Train =x_train_image.reshape(60000, 784).astype('float32')\n",
    "x_Test = x_test_image.reshape(10000, 784).astype('float32')"
   ]
  },
  {
   "cell_type": "code",
   "execution_count": 4,
   "metadata": {
    "colab": {
     "autoexec": {
      "startup": false,
      "wait_interval": 0
     }
    },
    "colab_type": "code",
    "id": "YisRq-SxPln0"
   },
   "outputs": [],
   "source": [
    "# normalize inputs from 0-255 to 0-1\n",
    "x_Train_normalize = x_Train / 255\n",
    "x_Test_normalize = x_Test / 255"
   ]
  },
  {
   "cell_type": "code",
   "execution_count": 5,
   "metadata": {
    "colab": {
     "autoexec": {
      "startup": false,
      "wait_interval": 0
     }
    },
    "colab_type": "code",
    "id": "AHtfmzpfPln4"
   },
   "outputs": [],
   "source": [
    "#把LABEL轉成NUMERICAL Categorical \n",
    "y_Train_OneHot = np_utils.to_categorical(y_train_label)\n",
    "y_Test_OneHot = np_utils.to_categorical(y_test_label)"
   ]
  },
  {
   "cell_type": "markdown",
   "metadata": {
    "colab_type": "text",
    "id": "0s8PjvqJPln7"
   },
   "source": [
    "# 建立模型"
   ]
  },
  {
   "cell_type": "code",
   "execution_count": 6,
   "metadata": {
    "colab": {
     "autoexec": {
      "startup": false,
      "wait_interval": 0
     }
    },
    "colab_type": "code",
    "id": "N10v1eX2Pln8"
   },
   "outputs": [],
   "source": [
    "from keras.models import Sequential\n",
    "from keras.layers import Dense"
   ]
  },
  {
   "cell_type": "code",
   "execution_count": 7,
   "metadata": {
    "colab": {
     "autoexec": {
      "startup": false,
      "wait_interval": 0
     }
    },
    "colab_type": "code",
    "id": "jmaxrsXwPln-"
   },
   "outputs": [],
   "source": [
    "#建立模型"
   ]
  },
  {
   "cell_type": "code",
   "execution_count": 19,
   "metadata": {},
   "outputs": [],
   "source": [
    "model = Sequential()\n",
    "\n",
    "model.add(Dense(units=256, \n",
    "                input_dim=784, \n",
    "                kernel_initializer='normal', \n",
    "                activation='relu'))\n",
    "model.add(Dense(20))\n",
    "\n",
    "#建構輸出層\n",
    "model.add(Dense(units=10, \n",
    "                kernel_initializer='normal', \n",
    "                activation='softmax'))"
   ]
  },
  {
   "cell_type": "code",
   "execution_count": 20,
   "metadata": {},
   "outputs": [
    {
     "name": "stdout",
     "output_type": "stream",
     "text": [
      "_________________________________________________________________\n",
      "Layer (type)                 Output Shape              Param #   \n",
      "=================================================================\n",
      "dense_11 (Dense)             (None, 256)               200960    \n",
      "_________________________________________________________________\n",
      "dense_12 (Dense)             (None, 20)                5140      \n",
      "_________________________________________________________________\n",
      "dense_13 (Dense)             (None, 10)                210       \n",
      "=================================================================\n",
      "Total params: 206,310\n",
      "Trainable params: 206,310\n",
      "Non-trainable params: 0\n",
      "_________________________________________________________________\n",
      "None\n"
     ]
    }
   ],
   "source": [
    "print(model.summary())"
   ]
  },
  {
   "cell_type": "markdown",
   "metadata": {
    "colab_type": "text",
    "id": "jdoAZgv1PloK"
   },
   "source": [
    "# 訓練模型"
   ]
  },
  {
   "cell_type": "code",
   "execution_count": 21,
   "metadata": {
    "colab": {
     "autoexec": {
      "startup": false,
      "wait_interval": 0
     }
    },
    "colab_type": "code",
    "id": "5d5wrEL3PloK"
   },
   "outputs": [],
   "source": [
    "model.compile(loss='categorical_crossentropy', \n",
    "              optimizer='adam', metrics=['accuracy'])"
   ]
  },
  {
   "cell_type": "code",
   "execution_count": 22,
   "metadata": {
    "colab": {
     "autoexec": {
      "startup": false,
      "wait_interval": 0
     },
     "base_uri": "https://localhost:8080/",
     "height": 374
    },
    "colab_type": "code",
    "executionInfo": {
     "elapsed": 15426,
     "status": "ok",
     "timestamp": 1533441786624,
     "user": {
      "displayName": "Edward Cheng",
      "photoUrl": "//lh4.googleusercontent.com/-ANnwjGu3IBk/AAAAAAAAAAI/AAAAAAAAAAc/qXXg6Jek9xw/s50-c-k-no/photo.jpg",
      "userId": "112554017642991017343"
     },
     "user_tz": -480
    },
    "id": "VlpjoqQ9PloM",
    "outputId": "b91454c9-af9a-40fe-9736-b4a1c97462cd"
   },
   "outputs": [
    {
     "name": "stdout",
     "output_type": "stream",
     "text": [
      "Train on 48000 samples, validate on 12000 samples\n",
      "Epoch 1/10\n",
      "48000/48000 [==============================] - 199s 4ms/step - loss: 0.2925 - acc: 0.9164 - val_loss: 0.1486 - val_acc: 0.956047 - loss: 1.1533 - acc: 0. - ETA: 2:46 - loss: 1.1232 - acc: - ETA: 2:45 - loss: 1.0775 - ETA: 2:44 - loss: 1.0 - ETA: 2:43 - loss: 0 - ETA: 2:39 - loss: 0.8571 - acc: 0.78 - ETA: 2:39 - loss: 0.8515 - acc: 0.782 - ETA: 2:38 - loss: 0.8487 - - ETA: 2:37 - - ETA: 2:34 - loss: 0.7642 - acc: 0.80 - ETA: 2:34 - loss: 0.7601 - acc: 0.80 - ETA: 2:34 - loss: 0.7591 - ETA: 2:3 - ETA: 2:32 - loss: 0.6815 -  - ETA: 2:30 - loss: 0.6238 - acc - ETA: 2:29 - loss: 0.6159 - acc: 0.834 - ETA: 2:29 - loss: 0.6147 - acc: 0.8 - ETA: 2:29 - loss: 0.61 - ETA: 2:28 - loss: 0.5945 - ac - ETA: 2:27 - loss: 0.5869 - acc: 0.8 - ETA: 2:27 - loss: 0.5839 - acc: - ETA: 2:26 - loss: 0.5800 - acc: 0.84 - ETA: 2:26 - loss: 0.5791 - acc: 0.84 - ETA: 2:26 - loss: 0.5782 - acc: - ETA: 2:25 - loss: 0.5712 - acc: - ETA: 2:25 - loss: 0.5660 - acc: 0.84 - ETA: 2:25 - loss: 0.5641 - acc: 0 - ETA: 2:24 - loss: 0.5598 - acc: 0.8 - ETA: 2:23 - loss: 0.5582 - acc: 0. - ETA: 2:23 - loss: 0.5565 - acc: 0.8 - ETA: 2:23 - loss: 0.5551 - acc: 0.8 - ETA: 2:22 - loss: 0.5539 - acc: - ETA: 2:22 - loss: 0.5492 - a - ETA: 2:20 - loss: 0. - ETA: 2:18 - loss: 0.5323 - ac - ETA: 2:17 - loss: 0.5259 - acc: 0. - ETA: 2:16 - loss: 0.5229 - acc:  - ETA: 2:16 - loss: 0.5188 - acc: 0.8 - ETA: 2:16 - loss: 0.5171 - acc: 0 - ETA: 2:15 - loss: 0.5145 - acc:  - ETA: 2:14 - loss: 0.5120 - ac - ETA: 2:13 - loss: 0.507 - ETA: 2:12 - loss: 0.5019 - acc: 0. - ETA: 2:11 - loss: 0.4994  - ETA: 2:10 - loss:  - ETA: 2:08 - loss: 0.4818 - acc: - ETA: 2:07 - loss: 0.4788 - acc: 0.86 - ETA: 2:07 - loss: 0.4779 - acc: 0.86 - ETA: 2:06 - loss: 0.4767 - acc: - ETA: 2:06  - ETA: 2:02 - loss: 0.4633 - acc: 0.870 - ETA: 2:02 - lo - ETA: 1:59 - loss: 0.4547 - acc: 0.873 - ETA: 1:59 - loss: 0.4542 - acc: 0. - ETA: 1:59 - loss: 0.4525 - acc - ETA: 1:58 - loss: 0.4490 - acc: 0.87 - ETA: 1:57 - loss: 0.4498 - acc: - ETA: 1:56 - loss: 0.4475 - acc: 0 - ETA: 1:56 - loss: 0.4463 - acc: 0.87 - ETA: 1:55 - loss: 0.4457 - acc: 0.87 - ETA: 1:55 - loss: 0.4 - ETA: 1:53 - loss:  - ETA: 1:50 - loss: 0.4331 - ac - ETA: 1:49 - loss: 0.4294 - acc:  - ETA: 1:49 - loss: 0.4284 - acc: 0.88 - ETA: 1:48 - loss: 0.4274  - ETA: 1:47 - loss: 0.4252 - a - ETA: 1:46 - loss: 0.4219 - ac - ETA: 1:44 - loss: 0.4202 - acc: 0.8 - ETA: 1:44 - loss: 0.4194 - acc: 0. - ETA: 1:43 - loss: 0.4182 - acc: - ETA: 1:43 - loss: 0.4167 -  - ETA: 1:41 - loss: 0.4137 - acc: 0.88 - ETA: 1:41 - loss: 0.4129 - acc - ETA: 1:40 - loss: 0.4103 - acc: 0.8 - ETA: 1:40 - loss: 0.4097 - a - ETA: 1:38 - loss: 0.4072 - acc: - ETA: 1:38 - loss: 0.4055  - ETA: 1:36 - loss: 0.4024 - acc: 0.88 - ETA: 1:36 - loss: 0.4022 - acc: 0. - ETA: 1:35 - loss: 0.4008 - acc: 0 - ETA: 1:34 - loss: 0.4000 - acc: 0 - ETA: 1:34 - loss: 0.3992 - a - ETA: 1:32 - loss: 0.3974 - ac - ETA: 1:31 - loss: 0. - ETA: 1:29 - loss: 0.3924 - acc: 0.88 - ETA: 1:29 - loss: - ETA: 1:26 - loss: 0.3872 - a - ETA: 1:25 - loss: 0.3850 - acc:  - ETA: 1:24 - loss: 0.3837 - acc: 0. - ETA: 1:24 - loss: 0.3825 - acc: 0.89 - ETA: 1:24 - loss: 0.3820 - acc - ETA: 1:23 - loss: 0.3800 - acc: 0.89 - ETA: 1:22 - loss: 0.3796 - acc: 0 - ETA: 1:22 - loss: 0.3789 - acc: 0.89 - ETA: 1:21 - loss: 0.3788 -  - ETA: 1:20 - loss: 0.3776 - acc: 0.89 - ETA: 1:20 - loss: 0.3770 - a - ETA: 1:18 - loss: 0.3746 - acc: 0.89 - ETA: 1:18 - loss: 0.3743 - acc: 0 - ETA: 1:18 - loss: 0.3737 - acc: - ETA: 1:17 - loss: 0.3730 - acc:  - ETA: 1:16 - loss: 0.3718 - acc: 0.89 - ETA: 1:16 - loss: 0.3714 - acc: 0.89 - ETA: 1:15 - loss: 0.3708 - acc: 0. - ETA: 1:15 - loss: 0.3703 - acc: 0.89 - ETA: 1:15 - loss: 0.3702 - acc - ETA: 1:14 - loss: 0.3685 - acc: 0.895 - ETA: 1:13 - loss: 0.3685 - acc - ETA: 1:12 - loss: 0. - ETA: 1:10 - loss: 0.3637 - acc - ETA: 1:09 - loss: 0.3627 - acc: 0. - ETA: 1:09 - loss: 0.3622 - acc: 0. - ETA: 1:08 - loss: 0.3613 - acc:  - ETA: 1:07 - loss: 0.3600 - acc: 0.8 - ETA: 1:07 - loss: 0.3593 - acc: 0. - ETA: 1:06 - loss: 0 - ETA: 51s - loss: 0.3395 - acc - ETA: 51s  - ETA: 49s - loss: 0.3370 - - ETA: 48s - loss: 0.3361 - - ETA: 45s - loss: 0.3325 - a - ETA: 44s - lo - ETA: 42s - loss: 0.3303 - acc:  - ETA: 42s - loss:  - ETA: 41s - loss: 0.3279 - acc:  - ETA: 40s - loss: 0. - ETA: 39s - loss: 0.3260 - acc: 0. - ETA: 39s -  - ETA: 37s - loss: 0.3242 - - ETA: 36s - loss: 0.3237 - acc:  - ETA: 36s - loss: 0.3232 - acc: 0. - ETA: 36s - loss: 0.3229 - a - ETA: 35s  - ETA: 25s - loss: 0.3134 - acc: 0. - ETA: 25s - loss: 0.3129 - - ETA: 24s -  - ETA: 23s - loss: 0.31 - ETA: 22s  - ETA: 14s - loss: 0.3030 - acc: 0. - ETA: 14s - loss:  - ETA: 13s - loss: 0.3022 - acc: 0.91 - ETA: 13s - loss: 0.3021 - acc - ETA: 12s - loss: 0.3017 - a - ETA: 12s - loss: 0.3012 - acc: 0.91 - ETA: 11s - loss: 0.3012 - acc:  - ETA: 11s  - ETA: 9s - loss: 0.2997 - a - ETA: 8s - loss: 0.2992 - acc: 0. - ETA: 7s - loss: 0.2987 - ac - ETA: 6s - loss: 0.2977 - acc: 0.9 - ETA: 5s - loss: 0.2975  - ETA: 4s - loss: 0.2963 - acc:  - ETA: 3s - \n",
      "Epoch 2/10\n",
      " 5856/48000 [==>...........................] - ETA: 2:33 - loss: 0.1281 - acc: 0.9616- ETA: 2:06 - loss: 0.1429 - acc:  - ETA: 2:39 - loss: 0.1967 - acc - ETA: 2:49 - loss: 0.1397 - acc: 0.959 - ETA: 2:53 - loss: 0.1347 - acc - ETA: 2:54 - loss: 0.1492 - acc: 0. - ETA: 2:54 - loss: 0.1479 - acc: 0.95 - ETA: 2:55 - loss: 0.1468 - acc:  - ETA: 2:55 - loss: 0.1493 - acc: 0.95 - ETA: 2:57 - loss: 0.1536 - acc: - ETA: 2:58 - loss: 0.1514 - acc: 0.95 - ETA: 2:58 - loss: 0.1475 - acc:  - ETA: 2:58 - loss: 0.1399 - ac - ETA: 3:02 - loss: 0.1349 - acc: 0 - ETA: 3:00 - loss: 0.1341 - acc: 0.958 - ETA: 3:00 - loss: 0.1342 - acc: 0 - ETA: 2:59 - loss: 0.1310 - ac - ETA: 2:52 - loss: 0.1276 - acc - ETA: 2:51 - loss: 0.1252 - ETA: 2:45 - loss: 0.1245 - acc: 0.961 - ETA: 2:45 - loss: 0.1239 - acc: 0.96 - ETA: 2:44 - loss: 0.1237 - ETA: 2:42 - loss: 0.1311 - acc: 0.959 - ETA: 2:41 - loss: 0.1304 - acc: 0.9 - ETA: 2:41 - loss: 0.1298 - acc: 0.960 - ETA: 2:41 - loss: 0.1296 - acc: - ETA: 2:39 - loss: 0.1299 - acc:  - ETA: 2:38 - loss: 0.1305 - acc: 0.95 - ETA: 2:37 - loss: 0.1300 - acc: 0. - ETA: 2:36 - loss: 0.1301 - acc: 0.960 - ETA: 2:36 - loss: 0.1310 - acc:  - ETA: 2:36 - loss: 0.12 - ETA: 2:32 - loss: 0.1283 - acc: 0.961 - ETA: 2:32 - loss: 0.1283 - a"
     ]
    },
    {
     "name": "stderr",
     "output_type": "stream",
     "text": [
      "C:\\ProgramData\\Anaconda3\\lib\\site-packages\\keras\\callbacks.py:122: UserWarning: Method on_batch_end() is slow compared to the batch update (0.140500). Check your callbacks.\n",
      "  % delta_t_median)\n"
     ]
    },
    {
     "name": "stdout",
     "output_type": "stream",
     "text": [
      " 6048/48000 [==>...........................] - ETA: 2:35 - loss: 0.1273 - acc: 0.9615"
     ]
    },
    {
     "name": "stderr",
     "output_type": "stream",
     "text": [
      "C:\\ProgramData\\Anaconda3\\lib\\site-packages\\keras\\callbacks.py:122: UserWarning: Method on_batch_end() is slow compared to the batch update (0.143000). Check your callbacks.\n",
      "  % delta_t_median)\n"
     ]
    },
    {
     "name": "stdout",
     "output_type": "stream",
     "text": [
      " 6112/48000 [==>...........................] - ETA: 2:36 - loss: 0.1274 - acc: 0.9612"
     ]
    },
    {
     "name": "stderr",
     "output_type": "stream",
     "text": [
      "C:\\ProgramData\\Anaconda3\\lib\\site-packages\\keras\\callbacks.py:122: UserWarning: Method on_batch_end() is slow compared to the batch update (0.154000). Check your callbacks.\n",
      "  % delta_t_median)\n",
      "C:\\ProgramData\\Anaconda3\\lib\\site-packages\\keras\\callbacks.py:122: UserWarning: Method on_batch_end() is slow compared to the batch update (0.163000). Check your callbacks.\n",
      "  % delta_t_median)\n"
     ]
    },
    {
     "name": "stdout",
     "output_type": "stream",
     "text": [
      " 6208/48000 [==>...........................] - ETA: 2:36 - loss: 0.1273 - acc: 0.9613- ETA: 2:36 - loss: 0.1277 - acc: 0.961"
     ]
    },
    {
     "name": "stderr",
     "output_type": "stream",
     "text": [
      "C:\\ProgramData\\Anaconda3\\lib\\site-packages\\keras\\callbacks.py:122: UserWarning: Method on_batch_end() is slow compared to the batch update (0.142000). Check your callbacks.\n",
      "  % delta_t_median)\n",
      "C:\\ProgramData\\Anaconda3\\lib\\site-packages\\keras\\callbacks.py:122: UserWarning: Method on_batch_end() is slow compared to the batch update (0.168000). Check your callbacks.\n",
      "  % delta_t_median)\n"
     ]
    },
    {
     "name": "stdout",
     "output_type": "stream",
     "text": [
      " 6272/48000 [==>...........................] - ETA: 2:36 - loss: 0.1271 - acc: 0.9613"
     ]
    },
    {
     "name": "stderr",
     "output_type": "stream",
     "text": [
      "C:\\ProgramData\\Anaconda3\\lib\\site-packages\\keras\\callbacks.py:122: UserWarning: Method on_batch_end() is slow compared to the batch update (0.153000). Check your callbacks.\n",
      "  % delta_t_median)\n",
      "C:\\ProgramData\\Anaconda3\\lib\\site-packages\\keras\\callbacks.py:122: UserWarning: Method on_batch_end() is slow compared to the batch update (0.137000). Check your callbacks.\n",
      "  % delta_t_median)\n"
     ]
    },
    {
     "name": "stdout",
     "output_type": "stream",
     "text": [
      "48000/48000 [==============================] - 201s 4ms/step - loss: 0.1135 - acc: 0.9660 - val_loss: 0.1140 - val_acc: 0.9663 ETA: 2:35 - loss: 0.1261 - acc: 0.9 - ETA: 2:35 - loss: - ETA: 2:50 - loss: 0.1247 - acc: 0 - ETA: 2:49 - loss: 0.1 - ETA: 2:46 - loss: 0.1240 - acc: 0 - ETA: 2:45 - loss: 0.1252 - acc - ETA: 2:45 - loss: 0.1274 - acc: 0. - ETA: 2:44 - loss: 0.1271 - acc: 0.95 - ETA: 2:44 - loss: 0.1271 - acc: 0.95 - ETA: 2:43 - loss: 0.1266 - acc: 0.95 - ETA: 2:43 - loss: 0.1267 - acc: 0.95 - ETA: 2:43 - loss: 0.1266 - acc: 0.9 - ETA: 2:42 - loss: 0.1256 - acc: 0.9 - ETA: 2:42 - loss: 0.1263 - acc: 0.959 - ETA: 2:42 - loss: 0.1259 - - ETA: 2:39 - loss: 0.1257  - ETA: 2:37 - loss: 0.1258 - acc: 0.960 - ETA: 2:36 - loss: 0.1260 - acc: 0. - ETA: 2:36 - loss: 0.1252 - acc: 0.96 - ETA: 2:36 - loss: 0.1254 - acc: 0.960 - ETA: 2:35 - loss: 0.1251 - acc: 0.9 - ETA: 2:35 - loss: 0.1247 - acc: 0.96 - ETA: 2:35 - loss: - ETA: 2:31 - loss: 0.1249 - acc: 0. - ETA: 2:31 - loss: 0.1246 - acc: 0. - ETA: 2:47 - loss: 0.1258 - acc: 0 - ETA: 2:46 - loss: 0.1252 - ETA: 2:43 - loss - ETA: 2:39 - loss: 0.1246 - ac - ETA: 2:37 - loss: 0 - ETA: 2:35 - loss: 0.1246 - acc: - ETA: 2:34 - loss: 0.1242 - acc: 0.9 - ETA: 2:33 - loss: 0.1248 - ac - ETA: 2:32 - loss: 0.1252 - acc: 0.9 - ETA: 2:32 - loss: 0 - ETA: 2:29 - loss: 0.1261 - ETA: 2:27 -  - ETA: 2:23 - loss: 0.1258 - ac - ETA: 2:22 - loss - ETA: 2:13 - loss: 0.1249 -  - ETA: 2:11 - - ETA: 2:07 - loss: 0.124 - ETA: 2:05 - loss:  - ETA: 2:01 - loss: 0.124 - ETA: 1:59 - loss: 0.1237 - acc: 0.962 - ETA: 1:59 - loss: 0.1236 - - ETA: 1:57 -  - ETA: 1:53 - loss: 0.1233 - a - ETA: 1:52 - loss: 0.1228 - acc: 0.9 - ETA: 1:51 - loss: 0.1231 - acc: 0.96 - ETA: 1:51 - loss: 0.1228  - ETA: 1:49 - loss: 0.1227 - acc: 0. - ETA: 1:49 - loss: 0.1223 - acc:  - ETA: 1:48 - loss: 0.1217 - acc: 0.9 - ETA: 1:47 - loss: 0.1215 - ac - ETA: 1:46 - loss: 0.1209 - acc: 0.9 - ETA: 1:46 - loss: 0.1210 - acc:  - ETA: 1:45 - loss: 0.1205 - acc: - ETA: 1:44 - loss: 0.1208 - acc: 0 - ETA: 1:43 - loss: 0.1206 - acc:  - ETA: 1:42 - loss: 0.1208 - acc - ETA: 1:41 - loss: 0.1211 - acc: 0 - ETA: 1:40 - loss: 0.1211 - acc: 0. - ETA: 1:40 - loss: 0.1212 - acc: 0.9 - ETA: 1:39 - loss: 0.1212 - acc - ETA: 1:38 - loss: 0.1211 - ac - ETA: 1:37 - loss: 0.1207 - acc: 0.9 - ETA: 1:36 - loss: 0.1209 - acc:  - ETA: 1:35 - loss: 0.1206 - acc: 0. - ETA: 1:35 - loss: 0.1209 -  - ETA: 1:33 - loss: 0.1207 - acc: 0.96 - ETA: 1:33 - loss: 0.1205 - acc: 0.96 - ETA: 1:33 - loss: 0.1205 - - ETA: 1:31 - loss: 0.1198 - acc: 0. - ETA: 1:30 - loss: 0.1199 - acc: 0.96 - ETA: 1:30 - loss: 0.1198 - acc: 0 - ETA: 1:29 - loss: 0.1195 - ETA: 1:27 - loss: 0.1196 - acc: 0.96 - ETA: 1:27 - loss: 0.119 - ETA: 1:25 - loss: 0.1206 - acc: 0. - ETA: 1:24 - loss: 0.1210 - acc: 0.96 - ETA: 1:24 - loss: 0.1208 - - ETA: 1:22 - loss: 0.1213 - acc: - ETA: 1:21 - loss: 0.1213 - a - ETA: 1:20 - lo - ETA: 1:16 - loss: 0.1210 - acc: 0.96 - ETA: 1: - ETA: 1:12 - loss: 0.1217 - acc: 0. - ETA: 1:11 - loss: 0.1214 - acc: 0.9 - ETA: 1:11 - loss: 0.1213 - acc: 0.96 - ETA: 1:10 - loss: 0.1213 - acc: 0.96 - ETA: 1:10 - loss: 0.1211 - acc: 0.96 - ETA: 1:10 - los - ETA: 1:07 - loss: 0.1211 -  - ETA: 1:05 - loss: 0.1212 - acc: 0.963 - ETA: 1:05 - loss: 0.1211 - acc: 0.963 - ETA: 1:05 - loss: 0.1211 - acc: 0 - ETA: 1:04 - loss: 0.1211 - acc: 0.96 - ETA: 1:04 - loss: 0.1210 - acc: - ETA: - ETA: 59s - loss: 0.1201 - - ETA: 58s - loss: 0.1201 - acc: 0.96 - ETA: 58s - loss: 0.12 - ETA: 56s - loss: 0.1198 - - ETA: 56 - ETA: 45s - loss: 0.1180 - a - ETA: 44s - loss: 0.1178 - a - ETA: 43s - lo - ETA: 42s - loss: 0.1179 - ETA: 41s  - ETA: 39s - loss: 0.1174 - ETA: 29 - ETA: 27s - loss - ETA: 26s - loss: 0.1156 - acc:  - ETA: 25s - loss: 0.1155 - acc: 0. - ETA: 25s - loss: 0.1158 - acc - ETA: 24s - loss: 0.1158 - acc: 0 - ETA: 6s - loss: 0.1143 - acc: 0.96 - ETA: 6s - loss: 0 - ETA: 3s - loss: 0.1138 - acc: 0.965 - ETA: 3s - l\n",
      "Epoch 3/10\n",
      "11104/48000 [=====>........................] - ETA: 2:17 - loss: 0.0788 - acc: 0.9756- ETA: 1:30 - loss: 0.1134 - acc: 0.9 - ETA: 1:56 - loss: 0.0988 - acc: 0.963 - ETA: 2:05 - loss: 0.0954 - acc:  - ETA: 2:20 - loss: 0.1015 - acc: 0.962 - ETA: 2:24 - loss: 0.0970 - acc: 0. - ETA: - ETA: 2:46 - loss: 0.0794 - ac - ETA: 2:50 - loss: 0.0816 - acc: 0.975 - ETA: 2:50 - loss: 0.0812 - acc - ETA: 2:52 - loss: 0.0805 - acc: 0.97 - ETA: 2:52 - loss: 0.0789 - ac - ETA: 2:51 - loss: 0.0772  - ETA: 2:53 - loss: 0.0753 - acc: - ETA: 2:53  - ETA: 2:49 - loss: 0.0807 - acc: 0 - ETA: 2:48 - loss: 0. - ETA: 2:47 - loss: 0.0804 - acc: 0. - ETA: 2:47 - loss: 0.0806 - acc: - ETA: 2:46 - lo - ETA: 2:46 - loss: 0.0797 - - ETA: 2:44 - loss: 0.0793 - acc: 0 - ETA: 2:44 - loss: 0.0788 - acc: 0.976 - ETA: 2:44 - loss: 0.0790 - acc: 0.97 - ETA: 2:44 - loss: 0.0792 -  - ETA: 2:41 - loss: 0.0797 - acc: 0 - ETA: 2:40 - loss: 0.0796 - acc: 0.976 - ETA: 2:39 - loss: 0.0799 - acc: 0.976 - ETA: 2:39 - loss: 0.0796 - ETA: 2:35 - loss: 0.0797 - acc: 0.97 - ETA: 2:35 - loss: 0.0795 - acc: 0. - ETA: 2: - ETA: 2:27 - loss: 0.0800 - acc: 0 - ETA: 2:26 - loss: 0.0801 - acc: 0.975 - ETA: 2:25 - loss: 0.0814 - acc: - ETA: 2:24 - loss: 0.0811 - acc: 0.975 - ETA: 2:24 - loss: 0.0810 - acc: 0. - ETA: 2:23 - loss: 0.0810 - ETA: 2:21 - loss: 0.0792 - acc: 0.97 - ETA: 2:20 - loss: 0.0795 - acc: 0 - ETA: 2:20 - loss: 0.0794 - acc: 0.975 - ETA: 2:19 - loss: 0.0795 - acc: 0.97 - ETA: 2:19 - loss: 0.0791 - acc: 0.9 - ETA: 2:18 - loss: 0.0797 - acc: 0.97 - ETA: 2:18 - loss: 0.0794 - acc:  - ETA: 2:17 - loss: 0.0791 - acc: 0 - ETA: 2:18 - loss: 0.0786 - acc:"
     ]
    },
    {
     "name": "stderr",
     "output_type": "stream",
     "text": [
      "C:\\ProgramData\\Anaconda3\\lib\\site-packages\\keras\\callbacks.py:122: UserWarning: Method on_batch_end() is slow compared to the batch update (0.140000). Check your callbacks.\n",
      "  % delta_t_median)\n"
     ]
    },
    {
     "name": "stdout",
     "output_type": "stream",
     "text": [
      "48000/48000 [==============================] - 188s 4ms/step - loss: 0.0740 - acc: 0.9778 - val_loss: 0.1006 - val_acc: 0.9699A: 2:17 - loss: 0.0784 - acc: 0 - ETA: 2:16 - loss: 0.0783 - acc: 0.9 - ETA: 2:15 - loss: 0.0785 - acc: - ETA: 2:15 - loss: 0.0783 - acc: 0 - ETA: 2:14 - loss: 0.0791 - acc: 0.97 - ETA: 2:14 - loss: 0.0794 -  - ETA: 2:12 - loss: 0.0788 - acc: 0.9 - ETA: 2:11 - loss: 0.0788 - acc: 0.975 - ETA: 2:11 - loss: 0.0788 - acc: 0.975 - ETA: 2:11 - loss: 0.0791 - acc: 0.975 - ETA: 2:11 - loss: 0.0791 - acc: 0.975 - ETA: 2:1 - ETA: 2:07 - loss: 0.0790 - acc: 0. - ETA: 2:07 - loss: 0.0788 - acc: 0 - ETA: 2:06 - loss: 0.0785 - acc: 0 - ETA: 2:06 - loss: 0.0782 - ac - ETA: 2:04 - loss: 0.0778 - acc: 0.975 - ETA: 2:04 - loss: 0.0778 - acc: 0.975 - ETA: 2:04 - loss: 0.0781 - acc: 0.97 - ETA: 2:04 - loss: 0.0779 - acc: 0.9 - ETA: 2:04 - loss: 0.0776 - acc: 0.97 - ETA: 2:03 - loss: 0.0776 - acc: 0 - ETA: 2:02 - loss: 0.0777 - acc: 0. - ETA: 2:02 - loss: 0.0776 - acc: 0.97 - ETA: 2:02 - loss: 0.0782 - acc: 0.9 - ETA: 2:01 - loss: 0.0779 - acc: 0.97 - ETA: 2:01 - loss: 0.0781 - acc: 0.9 - ETA: 2:00 - loss: 0.0779 - acc: 0.9 - ETA: 2:00 - loss: 0.0776 - acc: 0.975 - ETA: 2:00 - loss: 0.0776 - acc: 0.97 - ETA: 2:00 - loss: 0.0777 - acc: 0. - ETA: 1:59 - loss: 0.0778 - acc: 0.975 - ETA: 1:59 - loss: 0.0777 - acc: 0.97 - ETA: 1:58 - loss: 0.0776 - acc: 0.975 - ETA: 1:58 - loss: 0.0775 - acc:  - ETA: 1:57 - loss: 0.0770 - acc:  - ETA: 1:56 - loss: 0.0773 - acc: 0.976 - ETA: 1:56 - loss: 0.0774 - acc: 0. - ETA: 1:56 - loss: 0.0772 - ac - ETA: 1:55 - loss: 0.0774 - acc: 0.9 - ETA: 1:57 - loss: 0.0777 -  - ETA: 1:56 - loss: 0.0773 - acc:  - ETA: 1:55 - los - ETA: 1:53 - loss: 0.0779 - a - ETA: 1:52 - loss: 0.0777 - acc: 0.976 - ETA: 1:52 - loss: 0.0775 - acc: 0.9 - ETA: 1:52 - loss: 0.0773 - acc: 0.97 - ETA: 1:52 - loss: 0.0774 - acc: 0.9 - ETA: 1:52 - loss: 0.0773 - acc: 0.97 - ETA: 1:52 - loss: 0.0773 - acc: - ETA: 1:51 - loss - ETA: 1:49 - loss: 0.0777 - acc: 0. - ETA: 1:49 - loss: 0.0774 - acc: 0 - ETA: 1:48 - loss: 0.0774 - acc: 0.97 - ETA: 1:48 - loss: 0.0777 - acc: 0.97 - ETA: 1:48 - loss: 0.0776 - acc: 0.9 - ETA: 1:48 - loss: 0.0774 - acc: 0.9 - ETA: 1:47 - loss: 0.0774 - acc: 0. - ETA: 1:47 - lo - ETA: 1:44 - loss: 0.0775 - acc:  - ETA: 1:44 - loss: 0.0775 - acc: 0.9 - ETA: 1:43 - loss: 0.0772 - acc: 0.976 - ETA: 1:43 - loss: 0.0772 - acc: 0.976 - ETA: 1:43 - loss: 0.0772 - acc: 0.976 - ETA: 1:43 - loss: 0.0772 - acc: 0.97 - ETA: 1:43 - loss: 0.0771 - a - ETA: 1:41 - loss: 0.0773 - acc - ETA: 1:40 - loss: 0.0775 - acc:  - ETA: 1:40 - loss: 0.0774 - acc: - ETA: 1:39 - loss: 0.0770 - acc: 0 - ETA: 1:38 - loss: 0.0769 -  - ETA: 1:37 - loss: 0.0764 - acc: 0.976 - ETA: 1:37 - loss: 0.0763 - acc: 0.976 - ETA: 1:37 - loss: 0.0763 - acc: - ETA: 1:36 - loss: 0.0760 - acc: 0.976 - ETA: 1:36 - loss: 0.0759 - acc: 0.97 - ETA: 1:36 - loss: 0.0759 - acc: 0.97 - ETA: 1:35 - loss: 0.0759 - acc: 0. - ETA: 1:35 - loss:  - ETA: 1:32 - loss: 0.0758 - acc: 0 - ETA: 1:32 - loss: 0.0755 - acc: 0.976 - ETA: 1:32 - loss: 0.0755 - ac - ETA: 1:30 - loss: 0.0759 - acc: - ETA: 1:30 - loss: 0.0759 - acc: 0 - ETA: 1:29 - loss: 0.0763 - acc: 0.976 - ETA: 1:29 - loss: 0.0763 - acc: 0.9 - ETA: 1:28 - loss: 0.0763 - acc - ETA: 1:27 - loss: 0.0759 - acc: 0. - ETA: 1:27 - loss: 0.0760 - acc: 0.9 - ETA: 1:27 - loss: 0.0759 - acc: 0.9 - ETA: 1:26 - loss: 0.0758 - acc: 0.976 - ETA: 1:26 - loss: 0.0758 - acc: 0. - ETA: 1:26 - loss: 0.0757 - acc - ETA: 1:25 - loss: 0.0 - ETA: 1:23 - loss: 0.0 - ETA: 1:20 - loss: 0.0757 - acc: 0. - ETA: 1:20 - loss: 0.0756 - acc:  - ETA: 1:19 - loss: 0.0752 - acc:  - ETA: 1:18 - loss: 0.0754 - a - ETA: 1:17 - loss: 0.0753 - acc: 0. - ETA: 1:17 - loss: 0.0754 - acc: 0.97 - ETA: 1:16 - loss: 0.0753 - acc: 0. - ETA: 1:16 - loss: 0.0752 - acc:  - ETA: 1:15 - loss: 0.0752 - acc: 0.9 - ETA: 1:15 - loss: 0.0754 - acc: 0.977 - ETA: 1:15 - loss: 0.0753 -  - ETA: 1:13 - loss: 0.0751 - acc: 0. - ETA: 1:13 - loss: 0.0751 - acc: - ETA: 1:12 - loss: 0.0751 - acc: 0 - ETA: 1:11 - loss: 0.0751 - acc: 0.977 - ETA: 1:11 - loss: 0.0751 - acc:  - ETA: 1:11 - loss: 0.0750 - acc: - ETA: 1:10 - loss: 0.0750 - acc: 0.97 - ETA: 1:09 - loss: 0.0749 - acc - ETA: 1:08 - loss: 0.0747 - acc: 0.97 - ETA: 1:08 - loss: 0.0748 - acc: 0.97 - ETA: 1:08 - loss: 0.0746 - acc: 0.9 - ETA: 1:08 - loss: 0.0749 - acc: - ETA: 1:07 - loss: 0.0747 - acc: 0.97 - ETA: 1:06 - loss: 0.0747 - acc:  - ETA: 1:06 - loss: 0.0747 - acc: 0.9 - ETA: 1:05 - loss: 0.0748 - acc: 0.97 - ETA: 1:05 - loss: 0.0749 - acc:  - ETA: 1:04 - loss: 0.0747 - acc: 0.977 - ETA: 1:04 - loss: 0.0747 - acc: 0.97 - ETA: 1:04 - loss: 0.0746 - acc: 0.977 - ETA: 1:04 - loss: 0.0746 - acc: 0. - ETA: 1:03 - loss: 0.0745 - ETA: 1:02 - loss: 0.0745 - acc: 0.97 - ETA: 1:01 - loss: 0.0744 - acc - ETA: 1:00 - loss: 0.0745 - acc: 0.977 - ETA: 1:00 - loss: 0.0744 - a - ETA: 59s - loss: 0.0745 - acc: 0. - ETA: 59s - loss: 0.07 - ETA: 58s - loss: 0.0742 - acc: 0. - ETA: 58s - loss: 0. - ETA: 57s - loss: 0.0744 - acc: 0.97 - ETA: 56s - loss: 0.0744 - acc: 0.97 - ETA:  - ETA: 54s - loss: 0.07 - ETA: 53s - loss: 0.0744 - acc: 0. - ETA: 53s - loss: 0.0744 - acc: 0. - ETA: 53s - loss: 0.0744 - - ETA: 52s - loss: 0.0743 - ETA: 51s - loss: 0.0743 - acc: 0. - ETA: 51s - loss: 0.0743 - acc: 0. - ETA: 51s - lo - ETA: 49s -  - ETA: 48s - loss: 0.0747 - - ETA: 47s - loss: 0.0746 - acc: 0.97 - ETA: 47s - loss: 0.0746 - acc - ETA: 46s - loss: 0.0748 - acc - ETA: 46s - loss: 0.0746 - acc - ETA: 45s - loss: 0.0744 - acc: 0. - ETA: 45s - loss: 0.0743 - acc: 0.97 - ETA: 45s - lo - ETA: 43s - loss: 0.0743 - acc: 0. - ETA: 43s - loss: 0.0744 - acc - ETA: 43s - loss:  - ETA: 41s - loss: 0.0738 - acc: 0.97 - ETA: 41s - loss: 0.0738 - acc - ETA: 41s - loss: 0.0740 - acc: 0. - ETA: 41s - loss: 0.0741 - acc: 0.97 - ETA: 40s - loss: 0.0741 - acc: 0.97 - ETA: 40s - loss: 0.0740 - ETA: 39s - loss: 0.0741 - acc:  - ETA: 39s - loss: 0.0740 - acc:  - ETA: 39s - loss: 0.0740 - acc: 0. - ETA: 39s - loss: 0.07 - ETA: 35s - loss: 0. - ETA: 34s - loss:  - ETA: 33s - loss: 0.07 - ETA: 32s - loss:  - ETA: 30s - loss: 0.0741 - - ETA: 30s - loss: 0.0743 - acc: 0. - ETA: 29s - loss - ETA: 28s - loss: 0.0742 - acc: 0.97 - ETA: 28s - loss: 0. - ETA: 27s - loss: 0.0742 - - ETA: 26s - loss: 0.0742 - acc:  - ETA: 26s - loss: 0.0741 - ETA:  - ETA: 23s - lo - ETA: 21s - loss: 0.07 - ETA: 20s - loss:  - ETA: 19s - loss: 0.0739 - acc - ETA: 19s - loss: 0.0739 - acc: 0.97 - ETA: 18s - loss: 0.0739 - acc - ETA: 18s - loss:  - ETA: 17s - loss: 0.0738 - acc: 0.97 - ETA: 17s - loss: 0.0740 - ETA: 16s - loss: 0.0741 - acc - ETA: 15s - loss: 0.0740 - a - ETA: 15s - loss: 0. - ETA: 13s - loss: 0.0743 - acc - ETA: 13s - loss: 0.0741 - a - ETA: 12s - loss: 0.0742 - acc - ETA: 12s - loss: 0.0743 - acc:  - ETA: 11s - loss: 0.0743 - ETA: 11s - loss: 0.0742 - a - ETA: 10s - loss: 0.0741 - acc:  - ETA: 10s - loss: 0.074 - ETA: 8s - loss: 0.0739 - acc: 0.97 - ETA: 8s - loss: 0.0741 - acc:  - ETA: 7s - loss: 0.0742 - acc: 0.97 - ETA: 7s - loss: 0.0742 - acc: 0.977 - ETA: 6s - loss: 0.0742 - acc: 0.97 - ETA: 6s - loss: 0.0741 - acc - ETA: 5s - loss: 0.0740 - acc: 0.977 - ETA: 5s - loss: 0.0741 - acc: 0.97 - ETA: 5s - loss: 0.0741 - acc: 0.977 - ETA: 5s - loss: 0.0741 - acc: 0.97 - ETA: 4s - loss: 0.0742 - acc: 0. - ETA: 4s - loss: 0.0741 - acc: 0 - ETA: 3s - loss: 0.0743 - acc: 0.977 - ETA: 3s - loss: 0.0743 - acc: 0.977 - ETA: 3s - loss: 0.0742  - ETA: 1s - loss: 0.0742 - acc - ETA: 0s - loss: 0.0740 - acc:  - ETA: 0s - loss: 0.0741 - acc: 0.97\n",
      "Epoch 4/10\n"
     ]
    },
    {
     "name": "stdout",
     "output_type": "stream",
     "text": [
      "21120/48000 [============>.................] - ETA: 1:41 - loss: 0.0499 - acc: 0.9836- ETA: 2:29 - loss: 0.0527 - acc: 0 - ETA: 2:37 - loss: 0.0585 - ac - ETA: 2:35 - loss: 0.0477 - acc - ETA: 2:44 - loss: 0.0491 - acc: 0.987 - ETA: 2:45 - loss: 0.0492 - acc: 0.986 - ETA: 2:48 - loss: 0.0561 - acc: 0.98 - ETA: 2:52 - loss: 0.0547 - a - ETA: 2:55 - loss: 0.0490 - acc:  - ETA: 2:54 - loss: 0.0470 - acc: - ETA: 2:54 - loss: 0.0460 - acc: 0. - ETA: 2:55 - loss: 0.0471 - acc: 0. - ETA: 2:54 - loss: 0.0457 - acc: 0.9 - ETA: 2:53 - loss: 0.0441 - acc: 0.987 - ETA: 2:52 - loss: 0.0437 - acc: 0.987 - ETA: 2:53 - loss: 0.0435 - acc: 0.98 - ETA: 2:53 - loss: 0.0436 - acc: - ETA: 2:50 - loss: 0.0444 - acc: 0.987 - ETA: 2:49 - loss: 0.0440 - acc: 0.98 - ETA: 2:50 - loss: 0.0437 - acc: 0.987 - ETA: 2:50 - loss: 0.0433 - acc: 0.98 - ETA: 2:49 - loss: 0.0440 - acc: 0 - ETA: 2:49 - loss: 0.0461 - acc: 0.9 - ETA: 2:50 - loss: 0.0455 - acc:  - ETA: 2:50 - loss: 0.0443 - ac - ETA: 2:49 - loss: 0.0460 - acc: 0.986 - ETA: 2:49 - loss: 0.0457 - acc: 0. - ETA: 2:50 - loss: 0.0455 - acc: 0. - ETA: 2:49 - loss: 0.0449 - acc: 0. - ETA: 2:50 - loss: 0.0447 - acc: 0 - ETA: 2:49 - loss: 0.0444 - acc: 0.9 - ETA: 2:47 - loss: 0.04 - ETA: 2:47 - loss: 0.0438 - acc: 0.9 - ETA: 2:46 - loss: 0.0447 - acc: 0.9 - ETA: 2:45 - loss: - ETA: 2:42 - loss: 0.0432 - ac - ETA: 2:41 - loss: 0.0432 - acc: 0.986 - ETA: 2:41 - loss: 0.0430 - acc: 0 - ETA: 2:41 - loss: 0.0428 - acc: 0.987 - ETA: 2:41 - loss: 0.0431 - acc: 0.98 - ETA: 2:41 - loss: 0.0430 - acc: - ETA: 2:40 - loss: 0.0431 - acc: 0.9 - ETA: 2:40  - ETA: 2:36 - loss: 0.0427 - acc: 0.9 - ETA: 2:36 - loss: 0.0428 - acc: 0. - ETA: 2:36 - loss: 0.0435 - acc:  - ETA: 2:35 - loss: 0.0434 - acc:  - ETA: 2:35 - loss: 0.0438 - acc: 0.98 - ETA: 2:34 - loss: 0.0436 - acc: 0. - ETA: 2:34 - loss: 0.0434 - acc: 0.98 - ETA: 2:34 - loss: 0.0434 - acc: 0.986 - ETA: 2:34 - loss: 0.0436 - acc: 0.985 - ETA: 2:34 - loss: 0.0436 - acc: 0 - ETA: 2:33 - loss: 0.0448 - acc - ETA: 2:32 - loss: 0.0465 - acc: 0. - ETA: 2:32 - loss: 0.0462 - ac - ETA: 2:31 - loss: 0.0466 - acc: 0.984 - ETA: 2:31 - loss: 0.0465 - acc: 0.98 - ETA: 2:31 -  - ETA: 2:27 - loss: 0.0474 - acc: 0.9 - ETA: 2:27 - loss: 0.0473 - acc: 0 - ETA - ETA: 2:21 - loss: 0.0478 - acc: 0.98 - ETA: 2:21 - loss: 0.0478 - acc: 0. - ETA: 2:20 - loss: 0.0483 - acc: 0.984 - ETA: 2:20 - loss: 0.0482 - acc: 0.98 - ETA: 2:20 - loss: 0.0481 - acc: 0.984 - ETA: 2:20 - loss: 0.0482 - acc: 0.9 - ETA: 2:19 - loss: 0.0481 - ac - ETA: 2:19 - loss: 0.0485 - acc: 0.98 - ETA: 2:19 - loss: 0.0483 - acc: 0.983 - ETA: 2:19 - loss: 0.0485 - acc: 0.98 - ETA: 2:18 - loss: 0.0486 - acc: 0.9 - ETA: 2:18 - loss: 0.0484 - acc: 0. - ETA: 2:18 - loss: 0.0486 - acc: 0.983 - ETA: 2:17 - loss: 0.04 - ETA: 2:16 - loss: 0.0485 - a - ETA: 2:15 - loss: 0.0488 - acc: 0.98 - ETA: 2:15 - loss: 0.0489 - acc: 0 - ETA: 2:14 - loss: 0.0484 - ac - ETA: 2:13 - loss: 0.04 - ETA: 2:11 - loss: 0.0484 - acc: 0.98 - ETA: 2:11 - loss: - ETA: 2:09 - loss: 0.0486 - acc: 0.983 - ETA: 2:08 - loss: 0.0485 - acc: 0.983 - ETA: 2:08 - loss: 0.0487 - acc: 0.983 - ETA: 2:08 - loss: 0.0486 - acc: 0.983 - ETA: 2:08 - loss: 0.0486 - ETA: 2:05 - loss: 0.0484 - acc: 0. - ETA: 2:04 - loss: 0.0486 - acc: 0 - ETA: 2:04 - loss: 0.0484 - acc: 0.983 - ETA: 2:03 - loss: 0.0484 - ac - ETA: 2:02 - loss: 0.0484 - acc: 0. - ETA: 2:01 - loss: 0.0483 - acc: 0.983 - ETA: 2:01 - loss: 0.0482 - acc: 0.983 - ETA: 2:00 - loss: 0.048 - ETA: 1:58 - loss: 0.0485 - acc: 0 - ETA: 1:57 - loss: 0.0486 - acc: 0. - ETA: 1:56 - loss: 0.0487 - acc: 0.98 - ETA: 1:56 - loss: 0.0488 - acc: 0 - ETA: 1:55 - loss: 0.0493 - acc: 0.98 - ETA: 1:55 - loss: 0.0495 - acc: 0.9 - ETA: 1:54 - loss: 0.0494 - acc: 0.9 - ETA: 1:54 - loss: 0.0493 - ac - ETA: 1:52 - loss: 0.0493 - acc: 0.983 - ETA: 1:52 - loss: 0.0494 - acc: 0.98 - ETA: 1:51 - loss: 0.0493 - acc: 0.98 - ETA: 1:51 - loss: 0.0493 - acc: 0. - ETA: 1:50 - loss: 0.0493 - acc: 0.9 - ETA: 1:50 - loss: 0.0493 - acc: 0.9 - ETA: 1:49 - loss: 0.0494 - a - ETA: 1:48 - loss: 0.0494 - acc: 0.983 - ETA: 1:47 - loss: 0.0493 -  - ETA: 1:45 - loss: 0.0497 - acc: 0. - ETA: 1:45 - loss: 0.0496 - acc: 0.9 - ETA: 1:45 - loss: 0.0496 - acc: 0.9 - ETA: 1:44 - loss: 0.0498 -  - ETA: 1:43 - loss: 0.0501 - acc: 0.983 - ETA: 1:43 - loss: 0.0501 - a - ETA: 1:42 - loss: 0.0504 - acc: 0.98 - ETA: 1:42 - loss: 0.050 - ETA: 1:41 - loss: 0.0500 - acc: "
     ]
    },
    {
     "name": "stderr",
     "output_type": "stream",
     "text": [
      "C:\\ProgramData\\Anaconda3\\lib\\site-packages\\keras\\callbacks.py:122: UserWarning: Method on_batch_end() is slow compared to the batch update (0.157000). Check your callbacks.\n",
      "  % delta_t_median)\n"
     ]
    },
    {
     "name": "stdout",
     "output_type": "stream",
     "text": [
      "48000/48000 [==============================] - 184s 4ms/step - loss: 0.0547 - acc: 0.9822 - val_loss: 0.0979 - val_acc: 0.9716ETA: 1:36 - loss: 0.0499 - ac - ETA: 1:35 - loss: 0.0495 - acc: 0.983 - ETA: 1:35 - loss: 0.0496 - acc: 0.983 - ETA: 1:35 - loss: 0.0495 - acc: 0.983 - ETA: 1:34 - loss: 0.0495 - acc: 0.983 - ETA: 1:34 - loss: 0.0495 - acc - ETA: 1:33 - loss: 0.0493 - acc: 0.98 - ETA: 1:33 - loss: 0.0493 - ac - ETA: 1:32 - loss: 0.0492 - a - ETA: 1:31 - loss: 0.0492 - acc: 0.984 - ETA: 1:31 - loss: 0.0492 - ac - ETA: 1:30 - loss: 0.0492  - ETA: 1:28 - loss: 0.0494 - ac - ETA: 1:27 - loss: 0.0494 - ETA: - ETA: 1:21 - los - ETA: 1:19 - loss: 0.0502 - acc: 0.98 - ETA: 1:18 - loss: 0.0502 - acc - ETA: 1:18 - loss: 0.0502 - acc:  - ETA: 1:17 - loss: 0.0503 - acc: 0 - ETA: 1:16 - loss: 0.0504 - acc: 0.98 - ETA: 1:16 - loss: 0.0 - ETA: 1:14 - loss: 0.0509  - ETA: 1:12 - loss: 0.0506 - acc: 0 - ETA: 1:12 - loss: 0.0508 - a - ETA: 1:10 - loss: 0.0515 - acc: 0.9 - ETA: 1:10 - loss: 0.0516 - acc: 0.983 - ETA: 1:10 - loss: 0.0516 - acc - ETA: 1:09 - loss: 0.0518 - acc: 0.98 - ETA: 1:09 - loss: 0.0518 - acc: 0.98 - ETA: 1:09 - loss: 0.0520 - acc: 0.9 - ETA: 1:08 - loss: 0.0521 - acc: 0.9 - ETA: 1:08 - loss: 0.0520 - a - ETA: 1:07 - loss: 0.0518 - acc - ETA: 1:06 - loss: 0.0 - ETA: 1:04 - loss: 0.0516 - acc: 0.9 - ETA: 1:03 - loss: 0.0515 - acc - ETA: 1:02 - loss: 0.0513 - acc: 0.983 - ETA: 1:02 - loss: 0.0513 - ac - ETA: 1:01 - loss: 0.0512 - acc: 0.983 - ETA: 1:01 - loss: 0.0512 - acc: 0.983 - ETA: 1:01 - loss: 0.0512 - acc: 0.983 - ETA: 1:01 - loss: 0.0512 - acc: 0.9 - ETA: 1:00 - loss: 0 - ETA: 59s - loss: 0.0514 - acc:  - ETA: 58s - loss: 0.0513 - - ETA: 58s - loss: 0.0514 - acc: 0. - ETA: 57s - loss: 0.0514 - a - ETA: 57s - loss: 0.0513 - acc: 0.98 - ETA: 57s - loss: 0.0513 - acc: 0. - ETA: 57s - loss: 0.0512 - - - ETA: 53s - loss: 0.0512 - a - ETA: 53s - loss: 0.05 - ETA: 52s - loss:  - ETA: 51s - loss: 0.0515 - acc - ETA: 50s - loss: 0. - ETA: 49s - loss: 0.0517 - acc:  - ETA: 49s - loss: 0.0516 - a - ETA: 48s - loss: 0.0517 - acc:  - ETA: 48s - loss: 0.0516 - acc: 0. - ETA: 48s - loss: 0.0515 - acc - ETA: 47s - loss: 0.0516 - acc:  - ETA - ETA: 45s - loss: 0.0519 - acc: 0. - ETA: 44s - loss: 0. - ETA: 43s - loss: 0.0521 - acc: 0. - ETA: 43s - loss: 0.0521 - acc:  - ETA: 43s - loss: 0.0522 - acc: 0. - ETA: 42s - loss: 0.0521 - a - ETA: 42s - loss: 0.0520 - - ETA: 41s  - ETA: 39s - loss:  - ETA: 38s - loss: 0.0523 - acc - ETA: 35s - loss:  - ETA: 34s - lo - ETA: 32s - loss: 0.0528 - acc: 0.98 - ETA: 32s - loss: 0.0528 - acc: 0.98 - ETA: 32s - loss: 0.0527 - a - ETA: 32s - loss: 0.0527 - a - ETA: 31s - loss: 0.0527 - acc: 0.98 - E - ETA: 29s - loss: 0.0528 - ETA: 28s - loss: 0.0530 - - ETA: 27s - loss: 0.0533 - a - ETA: 27s - loss:  - ETA: 25s - loss: 0.0533 - - ETA: 25s - loss: 0.0532 - acc: 0.98 - ETA: 24s - loss: 0.0532 - acc: 0.98 - ETA: 24s - loss - ETA: 23s - loss: 0.0530 - acc - ETA: 22 - ETA: 21s - loss: 0.0537 - a - ETA: 20s - loss: 0.0536 - acc: 0.98 - ETA: 20s - loss: 0.0536 - acc:  - ETA: 20s - loss: 0.0536 - a - ETA: 19s - loss: 0.0535 - ETA: 16s - loss: 0.05 - ETA: 15s - lo - ETA: 11s - loss: 0.0539 - acc: 0. - ETA: 10s - loss: 0.0538 - acc: 0.98 - ETA: 10s - loss: 0.0538 - acc: 0. - ETA: 10s - loss: 0.0539 -  - ETA: 9s - loss: 0.0540 - ac - ETA: 8s - loss: 0.0540 - acc: 0.9 - ETA: 8s - loss: 0.0540 - acc: 0.982 - ETA: 8s - loss: 0.0539 - acc: 0. - ETA: 7s - loss: 0.0541 - acc: 0.9 - ETA: 7s - loss: 0.05 - ETA: 5s - loss: 0.0541 - acc: - ETA: 4s - loss: 0.0542 - acc: 0.9 - ETA: 4s - loss: 0.0543 - a - ETA: 2s - loss: 0.0541 - acc: 0.9 - ETA: 2s - loss: 0.0543 - acc: 0 - ETA: 1s - loss: 0.0545 - a - ETA: 0s - loss: 0.0547 - acc: 0.98 - ETA: 0s - loss: 0.0547 - acc: 0.98 - ETA: 0s - loss: 0.0547 - acc: 0.98\n",
      "Epoch 5/10\n",
      "16032/48000 [=========>....................] - ETA: 2:05 - loss: 0.0361 - acc: 0.9890ETA: 56s - loss: 0.0339 - acc:  - ETA: 2:19 - loss: 0.0598 -  - ETA: 2:48 - loss: 0.0522 - a - ETA: 2:56 - loss: 0.0481 - acc: 0. - ETA: 2:52 - loss: 0.0457  - ETA: 2:58 - loss: 0.0480 - acc: 0.9 - ETA: 2:57 - loss: 0.0474 - acc: 0. - ETA: 2:59 - loss: 0.0479 - - ETA: 2:59 - loss: 0.0468 - acc: 0. - ETA: 2:57 - loss: 0.0458 - a - ETA: 2:56 - loss: 0.0469 - acc: 0. - ETA: 2:54 - loss: 0.0469 - a - ETA: 2:53 - loss: 0.0 - ETA: 2:51 - loss: 0.0446 - ac - ETA: 2:51 - loss: 0.0457 - acc: 0.9 - ETA: 2:52 - loss: 0.0451 - acc: 0.9 - ETA: 2:52 - loss: 0.0447 - ETA: 2:50 - loss: 0.0429 - acc: 0.98 - ETA: 2:51 - loss: 0.0424 - acc: 0.986 - ETA: 2:50 - loss: 0.0434 - a - ETA: 2:51 - loss: 0.0418 -  - ETA: 2:48 - loss: 0.0424 - acc: - ETA: 2:48 - loss: 0.0429 - acc: 0 - ETA: 2:47 - loss: 0.0422 - acc: 0.98 - ETA: 2:46 - loss: 0.0421 - acc: 0.98 - ETA: 2:46 - loss: 0.0420 - acc - ETA: 2:44 - loss: 0.0408 - ac - ETA: 2:42 - loss: 0.0407 - acc: 0.98 - ETA: 2:42 - loss: 0.0408 - acc: 0. - ETA: 2:42 - lo - ETA: 2:39 - loss: 0.0399 - ac - ETA: 2:38 - loss: 0.0391 - acc: 0.9 - ETA: 2:38 - loss: 0.0391 - acc: 0 - ETA: 2:37 - loss: 0.0390 - acc: 0.988 - ETA: 2:37 - loss: 0.0389 - acc:  - ETA: 2:37 - loss: 0.0382 - acc: 0.988 - ETA: 2:37 - loss: 0.0382 - acc: 0. - ETA: 2:36 - loss: 0.0377 - acc: 0.98 - ETA: 2:36 - loss: 0.0376 - acc: 0.9 - ETA: 2:36 - loss: 0.0377 - ETA: 2:34 - loss: 0.0377 - acc:  - ETA: 2:32 - loss: 0.0375 - acc: 0 - ETA: 2:32 - loss: 0.0371 - acc - ETA: 2:30 - loss: 0.0372 - acc: 0.988 - ETA: 2:30 - loss: 0.0371 - acc: 0.98 - ETA: 2:30 - loss: 0.0370 - acc: 0.9 - ETA: 2:30 - loss: 0.0370 - acc: 0.98 - ETA: 2:29 - loss: 0.0377 - acc: 0.988 - ETA: 2:29 - loss: 0.0377 - acc: 0 - ETA: 2 - ETA: 2:25 - loss: 0.0378 - acc: 0.98 - ETA: 2:25 - loss: 0.0376 - acc: 0.988 - ETA: 2:25 - loss: 0.0376 - acc: 0.98 - ETA: 2:25 - loss: 0.037 - ETA: 2:24 - loss: 0.0378 - a - ETA: 2:22 - loss:  - ETA: 2:19 - loss: 0.0371 - acc: - ETA: 2:18 - loss: 0.0372 - acc:  - ETA: 2:18 - loss: 0.0371 - a - ETA: 2:16 - loss: 0.0375 - acc: 0. - ETA: 2:16 - loss: 0.0374 - acc: 0.98 - ETA: 2:16 - loss: 0.0376 - acc: 0.988 - ETA: 2:16 - loss: 0.0376 - acc: 0 - ETA: 2:15 - loss: 0.0375 - acc: 0. - ETA: 2:14 - loss: 0.0373 - acc: 0.98 - ETA: 2:14 - loss: 0.0374 - acc: 0.98 - ETA: 2:14 - loss: 0.0372 - acc: 0 - ETA: 2:13 - loss: 0.0372 - acc: 0.988 - ETA: 2:12 - loss: 0.0371 - acc: 0.988 - ETA: 2:12 - loss: 0.0374 - a - ETA: 2:10 - loss: 0.0370 - a - ETA: 2:09 - loss: 0.0369 - acc: 0.988 - ETA: 2:08 - loss: 0.0369 - acc: 0.98 - ETA: 2:08 - loss: 0.0368 - a - ETA: 2:07 - loss: 0.0370 - acc: 0.988 - ETA: 2:07 - loss: 0.0369 - a - ETA: 2:06 - loss: 0.0367 - - ETA: 2:05 - loss: 0.0364 - acc:"
     ]
    },
    {
     "name": "stderr",
     "output_type": "stream",
     "text": [
      "C:\\ProgramData\\Anaconda3\\lib\\site-packages\\keras\\callbacks.py:122: UserWarning: Method on_batch_end() is slow compared to the batch update (0.144500). Check your callbacks.\n",
      "  % delta_t_median)\n"
     ]
    },
    {
     "name": "stdout",
     "output_type": "stream",
     "text": [
      "45696/48000 [===========================>..] - ETA: 8s - loss: 0.0382 - acc: 0.9880 6- ETA: 2:03 - loss: 0.0357 - acc: 0.98 - ETA: 2:03 - loss: 0 - ETA: 2:01 - loss: 0.0351 - acc: 0.989 - ETA: 2:01 - loss: 0.0350 - acc: - ETA: 2:00 - loss: 0.0350 - a - ETA: 1:59 - loss: 0.0353 - acc: 0.9 - ETA: 1:58 - loss: 0.0352 - acc: 0.989 - ETA: 1:58 - loss: 0.0352 - acc: 0.989 - ETA: 1:58 - loss: 0.0352 - ac - ETA: 1:57 - loss: 0.0351 - acc: 0.989 - ETA: 1:57 - loss: 0.0354 - acc: - ETA: 1:51 - loss: 0.0354 - acc: 0.98 - ETA: 1:50 - loss: 0.0358 - acc: 0. - ETA: 1:50 - loss: 0.0357 - acc: 0.9 - ETA: 1:50 - loss: 0.0356 - acc - ETA: 1:49 - loss: 0.0354 - ETA: 1:47 - loss: 0.0353 - acc: - ETA: 1:46 - loss: 0.0352  - ETA: 1:45 - loss: 0.0351 - acc: 0.9 - ETA: 1:45 - loss: 0.03 - ETA: 1:43 - loss: 0.0348 - acc:  - ETA: 1:42 - loss: 0.0346 - acc: 0.9 - ETA: 1:42 - lo - ETA: 1:39 - loss: 0.0346 - acc: 0.98 - ETA: 1:39 - loss: 0.0346 - acc:  - ETA: 1:38 - loss: 0.0355 - acc: 0 - ETA: 1:37 - loss: 0.0353 - acc: 0.989 - ETA: 1:37 - loss: 0.0353 - acc: 0.98 - ETA: 1:37 - loss: 0.0355 - acc: 0.9 - ETA: 1:36 - loss: 0.0355 - ac - ETA: 1:35 - loss: 0.0354 - acc: 0. - ETA: 1:35 - loss: 0.0354 - acc: 0 - ETA: 1:34 - loss: 0.0356 - acc: 0. - ETA: 1:33 - loss: 0.0355 - ac - ETA: 1:32 - loss: 0.0360 - acc: 0 - ETA: 1:32 - loss: 0.0360 - acc: 0.98 - ETA: 1:31 - loss: 0.0359 - ac - ETA: 1:30 - loss: 0. - ETA: 1:28 - loss: 0.0 - ETA: 1:26 - loss: 0.0356 - acc: - ETA: 1:25 - loss: 0.035 - ETA: 1:23 - loss: 0.0354 - acc: 0.9 - ETA: 1:22 - loss: 0. - ETA: 1:20 - loss: 0.0353 - acc: 0.989 - ETA: 1:20 - loss: 0.0352 - acc: 0 - ETA: 1:19 - loss: 0.0357 - acc: 0.989 - ETA: 1:19 - loss: 0.0357 - acc: 0.9 - ETA: 1:19 - loss: 0.0357 - acc: 0.98 - ETA: 1:19 - loss: 0.0358 - acc: 0.98 - ETA: 1:18 - loss: 0.0358 - acc: 0.989 - ETA: 1:18 - loss: 0.0358 - acc: 0.989 - ETA: 1:18 - loss: 0.0358 - acc: 0.9 - ETA: 1:18 - loss: 0.0362 - acc: 0 - ETA: 1:17 - loss: 0.0361 - acc: 0.98 - ETA: 1:17 - loss: 0.0360 - acc: 0.989 - ETA: 1:17 - loss: 0.0360 - - ETA: 1:15 - loss: 0.0362 - acc:  - ETA: 1:15 - loss: 0.0361 - acc: 0.989 - ETA: 1:14 - loss: 0.0361 - ac - ETA: 1:13 - loss: 0.0360 - acc: 0 - ETA: 1:13 - loss: 0.0362  - ETA: 1:11 - loss: 0.0366 - acc: 0.988 - ETA: 1:11 - loss: 0.0366 - acc: 0.98 - ETA: 1:11 - loss: 0.0368 - acc: 0.98 - ETA: 1:10 - loss: 0.0367 - acc: 0 - ETA: 1:10 - loss: 0. - ETA: 1:07 - loss: 0.0371 - acc: - ETA: 1:07 - loss: 0.0370 - acc: 0.988 - ETA: 1:06 - loss: 0.0370 - acc: 0 - ETA: 1:06 - loss: 0.0369 - acc: 0.9 - ETA: 1:05 - loss: 0.0370 - acc: 0. - ETA: 1:05 - loss: 0.0369 - acc: 0.988 - ETA: 1:05 - loss: 0.0369 -  - ETA: 1:03 - loss: 0.0369 - acc: 0.98 - ETA: 1:03 - loss: 0.0370  - ETA: 1:01 - loss: 0.03 - ETA: 59s - loss: 0.0372 - acc: 0.988 - ETA: 59s - loss: 0.0372 - acc: 0.98 - ETA: 59s - loss: 0.0372 - acc: 0.98 - ETA: 59s - loss: 0.0372 - acc: 0.98 - ETA: 59s - loss: 0.0372 - a - ETA: 58s - loss: 0.0372 - - ETA: 58s - loss: 0.0370 - acc:  - ETA: 57s - loss: 0.0370 - acc - ETA: 57s - loss: 0.0370 - a - ETA: 56s - loss: 0.0371 - - ETA: 55s - loss: 0. - ETA: 52s - loss: 0.0370 - acc:  - ETA: 51s - loss: 0.03 - ETA: 50s - loss: 0.0371 - acc: 0.98 - ETA: 50s - loss - ETA: 48s - loss: 0.0372 - acc - ETA: 48s -  - ETA: 46s - loss: 0.0373 - acc: 0. - ETA: 46s - loss: 0.0373 - acc: 0. - ETA: 46s - loss: 0.0372 - acc:  - ETA: 45s - loss: 0.0374 - acc: 0.98 - ETA: 45s - loss: 0.0374 - acc - ETA: 45s - loss: 0. - ETA: 44s - loss: 0.0372 - a - ETA: 40s - loss:  - ETA: 39s - loss: 0.0368 - acc:  - ETA: 39s - loss: 0.0368 - - ETA: 38s - loss: 0.0371 - acc: 0.98 - ETA: 38s - loss: 0.0371 - acc: 0.98 - ETA: 38s - loss: 0.0371 - - ETA: 37s - loss: 0.0371 - acc: 0.98 - ETA: 37s - loss: 0.0371 - acc:  - ETA: 36s - loss: 0.0371 - a - ETA: 36s - loss: 0.0371 - acc: 0.98 - ETA: 36s - loss: 0.0371 - acc:  - ETA: 35s - loss: 0.0372 - acc: 0.98 - ETA: 35s - loss: 0.0372 - acc:  - ETA: 35s - loss: 0.0371 - acc: 0.98 - ETA: 35s - loss: 0.0371 - ETA: 34s - loss: 0.0370 - acc:  - ETA: 33s - loss: 0.0371 - acc: 0. - ETA: 33s - loss: 0.0370 - acc: 0.98 - ETA: 33s - loss: 0.0370 - acc: 0.98 - ETA: 33s - loss: 0.0370 - acc:  - ETA: 32s - loss: 0.0370 - a - ETA: 32s - loss: 0.0369 - acc: 0.98 - ETA: 32s - loss: 0.0369 - a - ETA: 31s - loss: 0.0369 - a - - ETA: 28s - loss: 0.0368 - ETA: 27s - loss: 0.0368 - acc - ETA: 26s - loss: 0.0370 - a - ETA: 26s - loss: 0.0369 - ETA: 25s - loss: 0.0368 - acc: 0. - ETA: 25s - loss: 0.0370 - acc - ETA: 24s - loss: 0.0370 - acc: 0. - ETA: 24s - loss: 0.0371 - acc - ETA: 23s - loss: 0.0370 - acc: 0. - ETA: 23s - loss: 0.0371 - acc:  - ETA: 23s - loss: 0.0370 - acc: 0.98 - ETA: 22s - loss: 0.0370 - ETA: 22s - loss: 0.0370 - a - ETA: 21s - loss: 0.0370 - acc: 0.98 - ETA: 21s - loss: 0.03 - ETA: 20s - loss: 0.0370 - acc: 0.98 - ETA: 20s - loss: 0.0370 - acc: 0. - ETA: 19s - loss: 0.0370 - acc: 0.98 - ETA: 19s - loss: 0.0370 - acc: 0. - ETA: 19s - loss: 0.0370 - acc: 0. - ETA: 19s - loss: 0.0371 - acc: 0.98 - ETA: 19s - loss: 0.0370 - acc - ETA: 18s - loss: 0.0370 - acc: 0.98 - ETA: 18s - loss: 0.0370 - acc: 0.98 - ETA: 18s - loss: 0.0371 - acc:  - ETA: 18s - loss: 0.0371 - acc: 0.98 - ETA: 17s - loss: 0.0371 - acc:  - ETA: 17s -  - ETA: 15s - loss: 0.0371 - acc: 0.98 - ETA: 15s - loss: 0.0371 - acc: 0. - ETA: 15s - loss: 0.0372 - acc - ETA: 15s -  - ETA: 13s - loss: 0 - ETA: 9s - loss: 0.0380 - a"
     ]
    },
    {
     "name": "stderr",
     "output_type": "stream",
     "text": [
      "C:\\ProgramData\\Anaconda3\\lib\\site-packages\\keras\\callbacks.py:122: UserWarning: Method on_batch_end() is slow compared to the batch update (0.144000). Check your callbacks.\n",
      "  % delta_t_median)\n",
      "C:\\ProgramData\\Anaconda3\\lib\\site-packages\\keras\\callbacks.py:122: UserWarning: Method on_batch_end() is slow compared to the batch update (0.143500). Check your callbacks.\n",
      "  % delta_t_median)\n"
     ]
    },
    {
     "name": "stdout",
     "output_type": "stream",
     "text": [
      "45920/48000 [===========================>..] - ETA: 7s - loss: 0.0382 - acc: 0.9880"
     ]
    },
    {
     "name": "stderr",
     "output_type": "stream",
     "text": [
      "C:\\ProgramData\\Anaconda3\\lib\\site-packages\\keras\\callbacks.py:122: UserWarning: Method on_batch_end() is slow compared to the batch update (0.154500). Check your callbacks.\n",
      "  % delta_t_median)\n"
     ]
    },
    {
     "name": "stdout",
     "output_type": "stream",
     "text": [
      "48000/48000 [==============================] - 183s 4ms/step - loss: 0.0380 - acc: 0.9882 - val_loss: 0.0912 - val_acc: 0.9729: 7s  - ETA: 3s - loss: 0.0381 - acc: 0.988 - ETA: 3s - loss: 0.0381 - acc: 0.98 - ETA: 3s - loss: 0.0381 - acc: 0.988 - ETA: 3s - loss: 0.0381 - acc: 0.988 - ETA: 3s - loss: 0.0381 - ac - ETA: 2s - loss: 0.0380 - acc: 0. - ETA: 1s - loss: 0.0380 - acc: 0.9 - ETA: 1s - loss: 0.0381 - acc: 0 - ETA: 0s - loss: 0.0381 - acc: 0.98 - ETA: 0s - loss: 0.0381 - acc: 0.988 - ETA: 0s - loss: 0.0381 - acc: 0.9\n",
      "Epoch 6/10\n",
      " 8384/48000 [====>.........................] - ETA: 2:25 - loss: 0.0250 - acc: 0.9922ETA: 51s - loss: 0.0167 - ETA: 1:52 - loss: 0.0284 - acc: - ETA: 2:08 - loss: 0.0261 - acc: 0 - ETA: 2:13 - lo - ETA: 2:25 - loss: 0.0261 - - ETA: 2:25 - loss: 0.0260 - acc: - ETA: 2:26 - loss: 0.0252 - acc: 0.99 - ETA: 2:25 - loss: 0.0254 - acc:  - ETA: 2:25 - loss: 0.0246 - acc: 0.99 - ETA: 2:24 - loss: 0.0242 - acc:  - ETA: 2:25 - loss: 0.0240 - acc: 0.993 - ETA: 2:25 - loss: 0.0237  - ETA: 2:23 - loss: 0.0251 - acc: 0.992 - ETA: 2:23 - loss: 0.02 - ETA: 2:25 - loss: 0.0243  - ETA: 2:25 - loss: 0.0238 - acc: 0.992 - ETA: 2:25 - loss: 0.0 - ETA: 2:25 - loss: 0.023 - ETA: 2:25 - loss: 0.0230 - acc: 0. - ETA: 2:25 - loss: 0.0226 - acc:  - ETA: 2:25 - loss: 0.02 - ETA: 2:21 - loss: 0.024 - ETA: 2:23 - loss: 0.0246 - a"
     ]
    },
    {
     "name": "stderr",
     "output_type": "stream",
     "text": [
      "C:\\ProgramData\\Anaconda3\\lib\\site-packages\\keras\\callbacks.py:122: UserWarning: Method on_batch_end() is slow compared to the batch update (0.151500). Check your callbacks.\n",
      "  % delta_t_median)\n",
      "C:\\ProgramData\\Anaconda3\\lib\\site-packages\\keras\\callbacks.py:122: UserWarning: Method on_batch_end() is slow compared to the batch update (0.146000). Check your callbacks.\n",
      "  % delta_t_median)\n"
     ]
    },
    {
     "name": "stdout",
     "output_type": "stream",
     "text": [
      "48000/48000 [==============================] - 190s 4ms/step - loss: 0.0309 - acc: 0.9904 - val_loss: 0.1073 - val_acc: 0.9729: 0.99 - ETA: 2:23 - loss: 0.0248 - acc: 0. - ETA: 2:23 - loss: 0.0248 - - ETA: 2:22 - loss: 0.0249 - acc: 0.9 - ETA: 2:22 - loss: 0.0249 - acc: 0.99 - ETA: 2:22 - loss: 0.0248 - ETA: 2:21 - loss: 0.0247 - acc: 0.992 - ETA: 2:21 - loss: 0.0246 - - ETA: 2:20 - loss: 0.0240 - acc: 0.99 - ETA: 2:20 - loss: 0.0243 - ac - ETA: 2:19 - loss: 0.0243 - acc: 0.9 - ETA: 2:19 - loss: - ETA: 2:17 - loss: 0.0244 - acc: 0. - ETA: 2:16 - loss: 0.0244 - acc:  - ETA: 2:16 - loss: 0.0244 - acc - ETA: 2:15 - loss: 0.0250 - acc: 0.992 - ETA: 2:15 - loss: 0.0250 - acc: 0 - ETA: 2:15 - loss: 0.0248 - acc - ETA: 2:14 - loss: 0.0247 - acc: 0.992 - ETA: 2:14 - loss: 0.0247 - acc: 0.992 - ETA: 2:14 - loss: 0.02 - ETA: 2:12 - loss: 0.0250 - acc: 0.992 - ETA: 2:12 - loss: 0.0250 - acc: 0.99 - ETA: 2:12 - loss: 0.0251 - acc: 0.992 - ETA: 2:12 - loss: 0.0251 - acc: 0.99 - ETA: 2:12 - loss: 0.0250 - acc: 0.99 - ETA: 2:11 - loss: 0.0249 - acc:  - ETA: 2:11 - loss: 0.0249 - acc - ETA: 2:10 - loss: 0.0250 - acc: - ETA: 2:09 - loss: 0.0249 - acc: 0.99 - ETA: 2:09 - loss: 0.0250 - acc:  - ETA: 2:08 - loss: 0.0248 -  - ETA: 2:06 - loss: 0.0251 - acc: -  - ETA: 2:01 - loss: 0.02 - ETA: 1:59 - loss: 0.0251 -  - ETA: 1:58 - loss: 0.0256 - acc - ETA: 1:57 - loss: 0.025 - ETA: 1:56 - loss: 0.0256 - acc: 0.99 - ETA: 1:55 - loss: 0.0256 - acc: 0.99 - ETA: 1:55 - loss: 0.0257 - acc: 0.99 - ETA: 1:55 - loss: 0.0257 - acc: 0 - ETA: 1:54 - loss: 0.0256 - acc: 0 - ETA: 1:54 - loss: 0.0255 - acc: 0.9 - ETA: 1:53 - loss: 0.0255 - acc: 0.99 - ETA: 1:53 - loss: 0.0254 - a - ETA: 1:52 - loss: 0.0254 - acc: 0 - ETA: 1:52 - loss: 0.0254 - acc: 0. - ETA: 1:51 - loss: 0.0254 - acc: 0.992 - ETA: 1:51 - loss: 0.0254 - acc: 0.992 - ETA: 1:51 - loss: 0.0254  - ETA: 1:50 - loss: 0.0254 - acc: 0. - ETA: 1:49 - loss: 0.0256 - acc - ETA: 1:48 - loss: 0.0257 - acc: 0. - ETA: 1:48 - loss: 0.0256 - a - ETA: 1:46 - loss: 0.0257 - acc: - ETA: 1:45 - loss: 0.02 - ETA: 1:43 - loss: 0.0256 - acc: - ETA: 1:42 - loss: 0.0261 - acc: 0.99 - ETA: 1:42 - loss: 0.0260 - acc: 0.99 - ETA: 1:42 - loss: 0.0260 - acc: 0.99 - ETA: 1:42 - loss: 0.0260 - acc: 0.99 - ETA: 1:41 - loss: 0.0260 - acc: 0.991 - ETA: 1:41 - loss: 0.0260 - acc: 0.991 - ETA: 1:41 - loss: 0.0259 - acc: - ETA: 1:40 - loss: 0 - ETA: 1:38 - loss: 0.026 - ETA: 1:36 - loss: 0.0259 - acc: 0 - ETA: 1:35 - loss: 0.02 - ETA: 1:33 - loss: 0.0262  - ETA: 1:31 - loss: 0.0261 - acc: 0.991 - ETA: 1:31 - loss: 0.0261 - acc: - ETA: 1:30 - loss: 0.0264 - acc: 0.9 - ETA: 1:30 - loss: 0.0263 - acc: 0.991 - ETA: 1:30 - loss: 0.0263 - acc: 0.99 - ETA: 1:30 - loss: 0.0263 - ETA: 1:28 - loss: 0.0262 - acc: 0.991 - ETA: 1:28 - loss: 0.0262 - acc: 0 - ETA: 1:27 - loss: 0.026 - ETA: 1:25 - loss: 0.0264 - acc: 0.99 - ETA: 1:25 - loss: 0.0264 - acc: 0. - ETA: 1:24 - loss:  - ETA: 1:22 - loss: 0.0268 - acc - ETA: 1:21 - loss: 0.0268 - acc: 0.99 - ETA: 1:21 - loss: 0.0268 - ac - ETA: 1:19 - loss: 0.027 - ETA: 1:18 - loss: 0.0281 - acc: 0.9 - ETA: 1:17 - loss: 0.0281 - acc:  - ETA: 1:16 - loss: 0.0285 - acc: 0.99 - ETA: 1:16 - loss: 0.0285 - acc: 0.991 - ETA: 1:16 - loss: 0.0284 - acc: 0. - ETA: 1:15 - loss: 0.0287 - acc: 0.99 - ETA: 1:15 - loss: 0.0287 - acc: 0 - ETA: 1:15 - loss: 0.0286 - acc:  - ETA: 1:14 - loss: 0.0288 - acc: 0.99 - ETA: 1:14 - loss: 0.0288 - acc: 0.9 - ETA: 1:13 - loss: 0.0287 - ac - ETA: 1:12 - loss: 0.0288 - acc: - ETA: 1:11 - loss: 0.0289 - acc - ETA: 1:10 - loss: 0.0290 - acc: 0. - ETA: 1:10 - loss: 0.0290 - - ETA: 1:08 - loss: 0.0291 - acc: 0 - ETA: 1:08 - loss: 0.0291 - acc: 0.99 - ETA: 1:07 - loss: 0.029 - ETA: 1:06 - loss: 0.0291 - acc: 0. - ETA: 1:05 - loss: 0.0292 - acc: 0.9 - ETA: 1:05 - loss: 0.0 - ETA: 1:03 - loss: 0.0292 - acc: 0.9 - ETA: 1:02 - loss: 0.0292 - acc: 0.990 - ETA: 1:02 - loss: 0.0292 - acc: - ETA: 1:01 - loss: 0.0291 - acc:  - ETA: 1:00 - loss: 0.029 - ETA: 59s - loss: 0. - ETA: 58s - loss: 0.0292 - a - ETA: 57s - loss: 0. - ETA: 56s - loss: 0.0293 - acc:  - ETA: 56 - ETA: 54s - loss: 0.0297 - acc:  - ETA: 53s - loss: 0.0298 - acc: 0. - ETA: 53s - loss: 0.0298 - ETA: 52s - loss: 0.0298 - acc - ETA: 52s - loss: 0.0297 - - ETA: 51s - loss - ETA: 50s - loss: 0.0299 - acc:  - ETA: 49s - loss: 0.0298 - acc: 0.99 - ETA: 49s - loss:  - ETA: 48s -  - ETA: 46s - loss: 0.0299 - acc - ETA: 46s - loss: 0.0299 - acc: 0. - ETA: 46s - lo - ETA: 44s - loss: 0.0300 - acc: 0.99 - ETA: 44s - loss: 0.0300 - - ETA: 43s - loss: 0.0299 - ETA: 42s - loss: 0.0298 - acc - ETA: 42s - loss: 0.0299 - acc: 0. - ETA: 41s - lo - ETA: 40s - loss: 0.0298 - a - ETA: 39s - loss: 0.0298 - acc - ETA: 39s - loss: 0.0297 - acc: 0.99 - ETA: 39s - loss: 0.0297 - acc: 0. - ETA: 38s - loss: 0.0297 - ETA: 38s - loss: 0.0299 - acc - ETA: 37s - loss: 0.0300 - acc: 0.99 - ETA: 37s - loss: 0.0301 - acc - ETA: 36s - loss: 0.0302 - ETA: 36s - loss: 0.0304 - a - ETA: 35s - loss: 0.0304 - acc: 0. - ETA: 35s - loss: 0.0304 - acc - ETA: 34s - loss: 0.03 - ETA: 33s - loss: 0.0306 - acc:  - ETA: 33s - loss: 0.0306 - acc:  - ETA: 32s - loss: 0.0307 - acc: 0.99 - ETA: 32s - loss: 0.03 - ETA: 31s - loss: 0.0306 - - ETA: 31s - loss: 0.0306 - - ETA: 30s - loss: 0.0305 - acc: 0. - ETA: 30s - loss: 0. - ETA:  - ETA: 24s - loss: 0.0301 - acc: 0. - ETA: 24s - loss: 0.0301 - acc - ETA: 23s - loss: 0.0301 - acc: 0. - ETA: 23s - loss: 0.0301 - acc: 0. - ETA: 23s - loss: 0.03 - ETA: 22s - loss: 0.0304 - acc: 0.99 - ETA: 21s - loss: 0.0303 - acc:  - ETA: 21s - loss: 0.0303 - acc: 0.99 - ETA: 21s - loss: 0. - ETA: 20s - loss: 0.0306 - acc:  - ETA: 19s - loss: 0.0306 - - ETA: 19s - loss: 0.0305 - - ETA: 18s - loss: 0.0304 - a - ETA:  - ETA: 13s - loss - ETA: 11s - lo - ETA: 10s - loss: 0. - ETA: 8s - loss: 0.0305 - acc: 0. - ETA: 7s - loss: 0.0305 - acc - ETA: 6s - loss: 0.0306 - acc: 0.990 - ETA: 6s - loss: 0.0306 - acc: - ETA: 5s - loss: 0.0308 - acc: 0.990 - ETA: 5s - loss: 0.0308 - acc: 0. - ETA: 5s - loss: 0.0308 -  - ETA: 3s - loss: 0.0310 - acc - ETA: 2s - loss: 0.0309 - acc: 0 - ETA: 2s - loss: 0.0309 - acc: 0.99 - ETA: 2s - loss: 0.0309 - acc: 0 - ETA: 1s - loss: 0.0308 - acc: 0. - ETA: 0s - loss: 0.0308 - acc:\n",
      "Epoch 7/10\n"
     ]
    },
    {
     "name": "stdout",
     "output_type": "stream",
     "text": [
      "46368/48000 [===========================>..] - ETA: 6s - loss: 0.0252 - acc: 0.9918  - ETA: 2:30 - loss: 0.0354 - acc: 0 - ETA: 2:38 - loss: 0.0319 - acc: 0.98 - ETA: 2:36 - loss: 0.0288 - acc: 0.98 - ETA: 2:37 - loss: 0.0298 - acc: 0.9 - ETA: 2:39 - loss: 0.0280 - acc: 0.9 - ETA: 2:41 - loss: 0.0255 - acc: 0.99 - ETA: 2:41 - loss: 0.0248 - acc: 0. - ETA: 2:43 - loss: 0.0233 - acc: 0.9 - ETA: 2:45 - loss: 0.0258 - acc: 0.99 - ETA: 2:45 - loss: 0.0246 - acc: 0.991 - ETA: 2:46 - loss: 0.0270 - acc: 0. - ETA: 2:47 - loss: 0.0285 - acc: 0.991 - ETA: 2:46 - loss: 0.0284 - acc: 0.99 - ETA: 2:46 - loss: 0.0279 - acc: 0.991 - ETA: 2:46 - loss: 0.0273 - acc: 0.9 - ETA: 2:47 - loss: 0.0259 - acc: 0. - ETA: 2:49 - loss: 0.0284 - acc: 0.99 - ETA: 2:48 - loss: 0.0287 - acc: 0.9 - ETA: 2:46 - loss: 0.0281 - acc: 0.9 - ETA: 2:45 - loss: 0.0276 - acc: 0.9 - ETA: 2:45 - loss: 0.0287 - acc: 0.99 - ETA: 2:44 - loss: 0.0284 - acc: - ETA: 2:42 - loss: 0.0268 - acc: 0. - ETA: 2:42 - loss: 0.0282 - acc: 0.9 - ETA: 2:41 - loss: 0.0278 - acc:  - ETA: 2:40 - loss: 0.0290 - acc: 0. - ETA: 2:40 - loss: 0.0282 - acc: 0 - ETA: 2:40 - loss: 0.0276 - acc: 0.990 - ETA: 2:40 - loss: 0.0275 - acc:  - ETA: 2:39 - loss: 0.0275 - ETA: 2:34 - loss: 0.0309  - ETA: 2:32 - loss: 0.0302 - acc: 0.9 - ETA: 2:32 - loss: 0.0296 - acc:  - ETA: 2:32 - loss: 0.0286 - acc: 0.991 - ETA: 2:32 - loss: 0.0284 - acc: 0. - ETA: 2:31 - loss: 0.0284 - acc: 0.99 - ETA: 2:31 - loss: 0.0282 - acc: 0.991 - ETA: 2:31 - loss: 0.0280 - acc: 0.991 - ETA: 2:31 - loss: 0.0278 - acc: 0. - ETA: 2:30 - loss: 0.0272 - acc - ETA: 2:28 - loss: 0.0264 - acc - ETA: 2:27 - loss: 0.0256 - acc: 0. - ETA: 2:26 - loss: 0.0256 - acc: - ETA: 2:24 - loss: 0.0255 - acc: 0. - ETA: 2:25 - loss: 0.0256 - acc: 0.991 - ETA: 2:25 - loss: 0.0255 - acc: 0.991 - ETA: 2:25 - loss: 0.0254 - acc: 0. - ETA: 2:25 - loss: 0.0257 - acc: 0.991 - ETA: 2:24 - loss: 0.0256 - ac - ETA: 2:23 - loss: 0.0256 - acc: 0.99 - ETA: 2:23 - loss: 0.0256 - acc: 0.99 - ETA: 2:23 - loss: 0.0255 - acc: 0.99 - ETA: 2:23 - loss: 0.0255 - acc: 0. - ETA: 2:22 - loss: 0.0253 - acc: 0.99 - ETA: 2:22 - loss: 0.0251 - acc: 0.99 - ETA: 2:22 - loss: 0.0250 - acc: 0 - ETA: 2:21 - loss: 0.0249 - acc: 0.99 - ETA: 2:21 - loss: 0.0247 - acc: 0.9 - ETA: 2:21 - loss: 0.0245 - acc: 0.99 - ETA: 2:21 - loss: 0.0243 - acc: 0. - ETA: 2:21 - loss: 0.0242 - acc: 0.99 - ETA: 2:20 - loss: 0.0241 - acc: 0.992 - ETA: 2:21 - loss: 0.0240 - acc: 0. - ETA: 2:20 - loss: 0.0238 - acc: 0.992 - ETA: 2:20 - loss: 0.0239 - ac - ETA: 2:19 - loss: 0.0233 - acc: 0 - ETA: 2:18 - loss: 0.0230 - acc: 0. - ETA: 2:18 - loss: 0.0227 - acc: 0.992 - ETA: 2:18 - loss: 0.0227 - acc: 0.992 - ETA: 2:18 - loss: 0.0226 - acc: 0.99 - ETA: 2:17 - loss: 0.0225 - acc: 0.993 - ETA: 2:17 - loss: 0.0224 - acc: 0.993 - ETA: 2:17 - loss: 0.0223 - acc: 0.993 - ETA: 2:17 - loss: 0.0225 - ac - ETA: 2:17 - loss: 0.0220 - acc: 0. - ETA: 2:34 - loss: 0.0218 -  - ETA: 2:32 - loss: 0.0213 - acc:  - ETA: 2:32 - loss: 0.0212 - acc: 0.993 - ETA: 2:32 - loss: 0.0211 - acc: 0.9 - ETA: 2:31 - loss: 0.0211 - acc: - ETA: 2:30 - loss: 0.0208 - acc: 0. - ETA: 2:30 - loss: 0.0207 - acc: 0.993 - ETA: 2:30 - loss: 0.0207 - acc: 0.993 - ETA: 2:30 - loss: 0.02 - ETA: 2:29 - loss: 0.0207 - acc: 0.9 - ETA: 2:29 - loss: 0.0207 - acc: 0. - ETA: 2:28 - loss: 0.0205 - ac - ETA: 2:28 - loss: 0.0205 - acc - ETA: 2:27 - loss: 0.0202 - ETA: 2:26 - loss: 0.0201 - acc - ETA: 2:25 - loss: 0.0198 - acc:  - ETA: 2:25 - loss: 0.0196 - ETA: 2:24 - loss: 0.0192 -  - ETA: 2:22 - loss: 0.0190 - acc - ETA: 2:21 - loss: 0.0193 - ETA: 2:19 - loss: 0.0191 - ac - ETA: 2:19 - loss: 0.0191 -  - ETA: 2:17 - loss: 0.0189 - acc: 0.9 - ETA: 2:17 - loss: 0.0188 - acc: 0 - ETA: 2:16 - loss: 0.0187 - acc: 0. - ETA: 2:15 - loss: 0.0185 - acc: 0. - ETA: 2:15 - loss: 0.0187 - acc: 0.9 - ETA: 2:14 - loss: 0.0190 - acc:  - ETA: 2:14 - loss: 0.0189 - acc: - ETA: 2:13 - loss: 0.0188 - acc - ETA: 2:11 - loss: 0.0190 - acc: 0.99 - ETA: 2:11 - loss: 0.0189 - acc: 0.9 - ETA: 2:11 - loss: 0.0191 - acc: 0.9 - ETA: 2:11 - loss: 0.0 - ETA: 2:08 - loss: 0.0194 - acc: 0.99 - ETA: 2:08 - loss: 0.0193 - acc: 0.99 - ETA: 2:08 - loss: 0.0196 - ETA: 2:06 - loss: 0.0199  - ETA: 2:04 - loss: 0.0199 - acc - ETA: 2:03 - loss: 0.0199 - acc:  - ETA: 2:02 - loss: 0.0199 - acc: - ETA: 2:01 - loss: 0.0201 - - ETA: 2:00 - loss: 0.0202 - acc: 0.994 - ETA: 2:00 - loss: 0.0204 - acc: 0.994 - ETA: 1:59 - loss: 0.0203 - - ETA: 1:58 - loss: 0.0203 - acc: 0. - ETA: 1:57 - loss: 0.0202 - acc:  - ETA: 1:56 - loss: 0.0203 - acc:  - ETA: 1:56 - loss: 0.0203 - acc: 0. - ETA: 1:55 - loss: 0.0203 - acc: 0.9 - ETA: 1:55 - loss: 0.0202 - acc: 0.99 - ETA: 1:55 - loss: 0.0202 - acc: - ETA: 1:54 - loss: 0.0204 - acc:  - ETA: 1:53 - loss: 0.0204 - acc: 0 - ETA: 1:52 - loss: 0.0207 - acc - ETA: 1:51 - loss: 0.0205 -  - ETA: 1:50 - loss: 0.0211 - acc: 0.99 - ETA: 1:50 - loss: 0.0210 - acc: 0.99 - ETA: 1:49 - loss: 0.0211 - acc: 0 - ETA: 1:49 - loss: 0.0210 - acc: 0 - ETA: 1:48 - loss: 0.0214 - a - ETA: 1:46 - loss: 0. - ETA: 1:44 - loss: 0.0216 - acc: 0.9 - ETA: 1:43 - loss: 0.02 - ETA: 1:42 - loss: 0.0216 - acc: - ETA: 1:41 - loss: 0.0220 - acc: 0.99 - ETA: 1:40 - loss: 0.0220 - acc: 0.99 - ETA: 1:40 - los - ETA: 1:37 - loss: 0.02 - ETA: 1:35 - loss: 0.0232 - acc: 0.9 - ETA: 1:35 - loss: 0.0231 - acc: 0 - ETA: 1:34 - loss: 0.0230 - acc: 0.99 - ETA: 1:34 - loss: 0.0230 - acc:  - ETA: 1:33 - loss: 0.0233 - acc: 0.9 - ETA: 1:33 - loss: 0.0232 - acc: 0.992 - ETA: 1:32 - loss: 0.0232 - acc: - ETA: 1:32 - loss: 0.0233 - acc: 0.992 - ETA: 1:31 - loss: 0.0233 - acc: 0.992 - ETA: 1:31 - loss: 0.0234 - acc - ETA: 1:30 - loss: 0.0234 - acc: 0.9 - ETA: 1:30 - loss: 0.0233 - acc:  - ETA: 1:29 - loss: 0.0233 - acc: 0 - ETA: 1:28 - loss: 0.0233 - acc: 0. - ETA: 1:28 - loss: 0.0234 -  - ETA: 1:27 - loss: 0.0238 - acc: 0.99 - ETA: 1:26 - loss: 0.0239 - acc: 0. - ETA: 1:26 - loss: 0.0239 - acc:  - ETA: 1:25 - loss: 0.0238 - acc: 0.99 - ETA: 1:25 - loss: 0.0238 - acc: 0.9 - ETA: 1:24 - loss: 0.0238 - acc:  - ETA: 1:23 - loss - ETA: 1:21 - loss: 0.0238 - acc: 0. - ETA: 1:20 - loss: 0.0238 - acc: 0 - ETA: 1:19 - loss: 0.0238 - a - ETA: 1:18 - loss: 0.0240 - a - ETA: 1:17 - loss: 0.0240 - acc: 0.99 - ETA: 1:16 - loss: 0.0240 - ETA: 1:15 - loss: 0.0240 - acc: 0.99 - ETA: 1:14 - loss: 0.0240 - a - ETA: 1:13 - loss: 0.0239 - acc: 0.9 - ETA: 1:13 - loss: 0.0238 - acc: 0 - ETA: 1:12 - loss: 0.0238 - acc - ETA: 1:11 - los - ETA: 1:08 - loss: 0.0239 - acc: 0.9 - ETA: 1:08 - loss: 0.0239 - acc: 0.992 - ETA: 1:08 - loss: 0.0239 - acc: 0.9 - ETA: 1:07 - loss: 0.0239 - acc: 0.99 - ETA: 1:07 - loss: 0.0239 - acc: 0.992 - - ETA: 1:02 - loss: 0.0240  - ETA: 1:00 - loss: 0.0241 - a - ETA: 59s - loss: 0.02 - ETA: 58s - loss: 0.0242 - a - ETA: 57s - loss: 0.0242 - a - ETA: 57s - loss: 0.0241 - acc: 0.99 - ETA: 57s - loss: 0. - ETA: 55s - loss: 0.02 - ETA: 54s - loss: 0.0243 - - ETA: 54s - loss: 0.0246 - - ETA: 53s - loss - ETA: 51s - loss: 0.0243 - acc: 0.99 - ETA: 51s - loss:  - ETA: 50s - loss: 0.0242 - acc: 0.99 - ETA: 50s - loss: 0.0242 - acc: 0.99 - ETA: 50s - loss: 0.0243 - acc:  - ETA: 49s - loss: 0.0245 - acc: 0.99 - ETA: 49s - loss: 0.0245 - acc:  - ETA: 49s - loss: 0.0245 - acc - ETA: 48s -  - ETA: 47s - loss: 0.0247 - acc:  - ETA: 46s - loss: 0. - ETA: 45s - lo - ETA: 41s - loss: 0.0250 - acc: 0. - ETA: 41s - lo - ETA: 39s - loss: 0.0252 - acc - ETA: 39s - loss: 0.02 - ETA: 38s - loss: 0.0252 - ETA: 37s - loss: 0.0252 - acc:  - ETA: 36s - loss: 0.0253 - acc - ETA: 31s - loss: 0.0250 - a - ETA: 30s - loss: 0.0250 - acc: 0. - ETA: 30s - loss: 0.02 - ETA: 29s - loss: 0.0250 - acc - ETA: 28s - loss: 0.0250 - acc: 0.99 - ETA: 28s - loss: 0.0250 - - ETA: 27s - loss: 0.0251 - ETA: 27s - loss: 0.02 - ETA: 26s - loss - ETA: 24s - loss: 0.0248 - a - ETA: 24s  - ETA: 22s - loss: 0.0247 - acc - ETA: 21s - loss: 0.0249 - a - ETA: 21s - loss: 0.0249 - acc:  - ETA: 20s - loss: 0.0250 - acc: 0.99 - ETA: 20s - loss: 0.0250 - acc: 0. - ETA: 20s - loss: 0.0251 - - ETA: 19s - loss: 0.0251 - a - ETA: 16s - loss: 0. - ETA: 10s - loss: 0.0 - ETA: 8s - loss: 0.0252 - acc: 0. - ETA: 7s - loss: 0.0252 - acc: 0 - ETA: 6s - loss: 0.0252 - acc: 0.9 - ETA: 6s - loss: 0.0252 - acc: 0.9918"
     ]
    },
    {
     "name": "stdout",
     "output_type": "stream",
     "text": [
      "48000/48000 [==============================] - 192s 4ms/step - loss: 0.0252 - acc: 0.9918 - val_loss: 0.0976 - val_acc: 0.9755: 4s - loss: 0.0252 -  - ETA: 3s - loss: 0.0252 - acc: - ETA: 2s - loss: 0.0252 - acc: 0.99 - ETA: 2s - loss: 0.0252 - acc: 0.991 - ETA: 2s - loss: 0.0252 - acc: 0 - ETA: 1s - loss: 0.0251 - \n",
      "Epoch 8/10\n",
      "48000/48000 [==============================] - 191s 4ms/step - loss: 0.0179 - acc: 0.9942 - val_loss: 0.0937 - val_acc: 0.9783 ETA: 2:30 - loss: 0.0225 - acc: 0.993 - ETA: 2:36 - loss: 0.0204 - ETA: 2:51 - loss: 0.0228 - acc: 0.990 - ETA: 2:53 - loss: 0.0225 - a - ETA: 2:53 - loss: 0.0176 - acc: 0.99 - ETA: 2:55 - loss: 0.0178 - acc: 0.993 - ETA: 2:54 - loss: 0.0177 - ETA: 2:59 - loss: 0.0168 - acc: - ETA: 2:55 - loss: 0.0175 - ac - ETA: 2:53 - loss: 0.0162 - acc: 0.993 - ETA: 2:53 - loss: 0.0160 - acc: 0.99 - ETA: 2:54 - loss: 0.0156 - acc: 0.993 - ETA: 2:55 - loss: 0.0154 - acc: 0.993 - ETA: 2:54 - loss: 0.015 - ETA: 2:55 - loss: 0.0181 - acc: 0.9 - ETA: 2:54 - loss: 0.0177 - acc: 0. - ETA: 2:53 - loss: 0.0174 - acc: 0. - ETA: 2:53 - loss: 0.0175 - acc: 0 - ETA: 2:53 - loss: 0.0171 - acc: 0.993 - ETA: 2:53 - loss: 0.01 - ETA: 2:53 - loss: 0.0176 - acc: 0. - ETA: 2:52 - loss: 0.0173 -  - ETA: 2:51 - loss: 0.0189 - acc: 0.993 - ETA: 2:51 - loss: 0.0188 - acc: - ETA: 2:52 - loss: 0.0182 - acc: 0.9 - ETA: 2:52 - loss: 0.0187 - acc: 0. - ETA: 2:51 - loss: 0.0186 - acc - ETA: 2:51 - loss: 0.0202 - acc: 0.99 - ETA: 2:50 - loss: 0.0200 - acc: 0. - ETA: 2:50 - loss: 0.0201 - acc: 0.99 - ETA: 2:49 - loss: 0.0199 - acc: 0 - ETA: 2:49 - loss: 0.0196 - acc - ETA: 2:47 - loss: 0.0190 - acc: - ETA: 2:46 - loss: 0.0197 - acc - ETA: 2:46 - loss: 0.0197 - acc: 0.99 - ETA: 2:45 - loss: 0.0197 - acc: 0.993 - ETA: 2:45 - loss: 0.0196 - acc: 0 - ETA: 2:45 - loss: 0.0195 - - ETA: 2:42 - loss: 0.0195 - acc: 0.99 - ETA: 2:41 - loss: 0.0195 - ac - ETA: 2:40 - loss: 0.0192 - acc: 0.99 - ETA: 2:40 - loss: 0.0191 -  - ETA: 2:38 - loss: 0.0186 - acc:  - ETA: 2:37 - loss: 0.0187 - acc: 0.9 - ETA: 2:36 - loss: 0.0185 - acc: - ETA: 2:36 - loss: 0.0182 - - ETA: 2:34 - loss: 0.0176 - acc:  - ETA: 2:33 - loss: 0.0177 - acc: 0.9 - ETA: 2:33 - loss: 0.0175 - acc: 0. - ETA: 2:32 - loss: 0.0174 - ac - ETA: 2:31 - loss: 0.0174 - acc - ETA: 2:30 - loss: 0.0172 - acc: 0.9 - ETA: 2:30 - loss: 0.0172 - acc: 0. - ETA: 2:29 - loss: 0.0171 - acc: 0. - ETA: 2:28 - loss: 0.0171 - - ETA: 2:27 - loss: 0.0175  - ETA: 2:25 - loss: 0.0175 - acc: - ETA: 2:25 - loss: 0.0173 - acc:  - ETA: 2:24 - ETA: 2:20 - loss: 0.0164 - acc: 0 - ETA: 2:19 - loss: 0.0163 - acc - ETA: 2:18 - loss: 0.0162 - acc: 0. - ETA: 2:18 - loss: 0.0165 - acc:  - ETA: 2:17 - loss: 0.0163 - acc: 0.9 - ETA: 2:17 - loss: 0.0163 - ac - ETA: 2:16 - loss: 0.0163 - acc: - ETA: 2:15 - loss: 0.0168 - acc: 0.9 - ETA: 2:15 - loss: 0.0167 - acc: 0 - ETA: 2:14 - loss: 0.0166 - acc: 0.99 - ETA: 2:14 - loss: 0.0166 - acc - ETA: 2:13 - loss: 0.0165 - acc: 0.99 - ETA: 2:12 - - ETA: 2:09 - loss: 0.0164 - acc: 0.9 - ETA: 2:09 - loss: 0.0164 - acc: 0. - ETA: 2:08 - loss: 0.0164 - a - ETA: 2:07 - loss: 0.0162 - acc: 0.9 - ETA: 2:06 - loss: - ETA: 2:04 - loss: 0.0162 - acc: 0.994 - ETA: 2:04 - loss: 0.0162 - - ETA: 2:02 - loss: 0.0159 - a - ETA: 2:01 - loss: 0.015 - ETA: 1:59 - loss: 0.0162 - acc: 0 - ETA: 1:59 - loss: 0.0162 - acc: 0.994 - ETA: 1:59 - loss: 0.0161 - acc: 0.99 - ETA: 1:58 - loss: 0.0161 - acc: 0.99 - ETA: 1:58 - loss: 0.0161 - acc:  - ETA: 1:58 - loss: 0.0160 - acc - ETA: 1:57 - loss: 0.0158 - acc: 0. - ETA: 1:56 - loss: 0.0159 - acc - ETA: 1:55 - loss: 0.0157 - acc: 0. - ETA: 1:55 - loss: 0.0157  - ETA: 1:53 - loss: 0.0159 - acc: 0 - ETA: 1:52 - loss: 0.0160 - acc: 0 - ETA: 1:52 - loss: 0.0161 - acc: 0.99 - ETA: 1:52 - loss: 0.0161 - acc: 0. - ETA: 1:51 - loss: 0.0162 - acc - ETA: 1:50 - loss: 0.0162 - acc: 0 - ETA: 1:49 - loss: - ETA: 1:47 - loss: 0.0161 - acc: 0 - ETA: 1:46 - loss: 0.0 - ETA: 1:44 - loss: 0.0159 - acc: 0.9 - ETA: 1:44 - loss: 0.0159 - acc: 0.994 - ETA: 1:44 - loss: 0.0159 - ac - ETA: 1:43 - loss: 0.0159 - acc: 0.9 - ETA: 1:42 - loss: 0.0159 - a - ETA: 1:41 - loss: 0.0158 - acc: 0.995 - ETA: 1:41 - loss - ETA: 1:38 - loss: 0.0156 - acc - ETA: 1:37 - loss: 0.0155 - acc:  - ETA: 1:36 - loss: 0.0154 - acc: - ETA: 1:36 - loss: 0.0154 - acc: 0.99 - ETA: 1:35 - loss: 0.0153 - ac - ETA: 1:34 - loss: 0.0152 - acc: 0.99 - ETA: 1:34 - loss: 0.0 - ETA: 1:32 - loss: 0 - ETA: 1:29 - loss: 0.0155 - acc: 0. - ETA: 1:29 - loss: 0.0158 - acc: 0.9 - ETA: 1:28 - loss: 0.0158 - acc:  - ETA: 1:28 - loss: 0.0157 - acc: - ETA: 1:27 - loss: 0.0160 - a - ETA: 1:26 - loss: 0.0163 - acc: 0.9 - ETA: 1:25 - loss: 0.0163 - acc: 0.99 - ETA: 1:25 - loss: 0 - ETA: 1:23 - loss: 0.0163 - ac - ETA: 1:22 - loss: 0.0162 - acc: 0.995 - ETA: 1:21 - loss: 0.0162 - acc: 0.995 - ETA: 1:21 - loss: 0.0162 - acc: 0.995 - ETA: 1:21 - loss: 0.0162 - acc: 0 - ETA: 1:21 - loss: 0.0162 - acc: 0.995 - ETA: 1:21 - loss: 0.0162 - acc: 0.995 - ETA: 1:20 - loss: 0.0162 - acc: 0.995 - ETA: 1:20 - loss: 0.0162 - acc: 0.99 - ETA: 1:20 - loss: 0.0162 - acc: 0 - ETA: 1:19 - loss: 0.0161 - acc:  - ETA: 1:19 - loss: 0.0165 - acc: 0. - ETA: 1:18 - loss:  - ETA: 1:16 - loss: 0.0 - ETA: 1:13 - loss: 0.0168 - ac - ETA: 1:12 - loss: 0.0168 - acc: 0.995 - ETA: 1:12 - loss: 0.0168 - acc: 0.9 - ETA: 1:12 - loss: 0.0168 - ETA: 1:10 - loss: 0.0167 - acc: 0.99 - ETA: 1:10 - loss: 0.0167 - acc: 0.9 - ETA: 1:09 - loss: 0.0167  - ETA: 1:08 - loss: 0.0165 - acc: 0. - ETA: 1:07 - loss: 0.0165 - a - ETA: 1:06 - loss: 0.0165 - acc: 0.99 - ETA: 1:06 - loss: 0.0165 - acc: - ETA: 1:05 - loss: 0.0165 - acc: - ETA: 1:04 - loss: 0.0165 - acc: 0 - ETA: 1:03 - loss: 0.0165 - acc: 0.995 - ETA: 1:03 - loss: 0.0165 - acc: 0.995 - ETA: 1:03 - loss: 0.0165 - ac - ETA: 1:02 - loss: 0.0166 - acc: 0.995 - ETA: 1:02 - loss: 0.0166 - acc: 0. - ETA: 1:01 - loss: 0.0167 - acc: 0.995 - ETA: 1:01 - loss: 0.0167 - ETA: 59s - loss: 0.0166 - acc: 0.995 - ETA: 59s - loss: 0.0166 - ETA: 59s - loss: 0.0166 - acc: 0.99 - ETA: 58s - loss: 0.0166 - acc - ETA: 58s - loss:  - ETA: 57s - loss: 0.0166 - acc: 0.99 - ETA: 56s - lo - ETA: 55s - loss: 0. - ETA: 54s - loss: 0. - ETA: 53s - loss: 0.0166 - a - ETA: 52s - loss - ETA: 51s - loss: 0.0165 - acc: 0.99 - ETA: 50s - loss: 0.0165 - acc: 0.99 - ETA: 50s - loss: 0.0165 - ETA - ETA: 47s  - ETA:  - ETA: 44s - loss: 0.0166 - - ETA: 43s - loss: 0.0168 - - ETA: 37s  - ETA: 35s - loss: 0.0166 - a - ETA: 35s - loss:  - ETA: 33s - loss: 0.0166 - acc: 0. - ETA: 33s - loss: 0.0166 - - ETA: 30s - loss: 0.01 - ETA: 29s - lo - ETA: 27s - loss: 0.01 - ETA: 26s - loss: 0.0167 - acc: 0.99 - ETA: 26s -  - E - ETA: 20s - loss: 0.0167 - acc:  - ETA: 19s - loss: 0.0168 - acc: 0.99 - ETA: 19s - loss: 0.0168 - ETA: 18s - loss: 0.0169 - acc: 0.99 - ETA: 18s - loss: 0.0169 - acc:  - E - ETA: 16s - loss: 0.0170 - acc:  - ETA: 15 - ETA: 13s - loss: 0. - ETA: 12s - loss: 0.0171 - a - ETA: 11s - loss: 0.0171 - ETA: 11s - loss: 0.01 - ETA: 10s - loss: 0.0173 - acc: 0.9 - ETA: 9s - loss: 0.0 - ETA: 7s - loss: 0.0178 - - ETA: 6s - loss: 0.0178  - ETA: 4s - loss: 0.0178 - acc:  - ETA: 3s - loss: 0.017 - ETA: 1s - loss: 0.0179 - acc: 0.994 - ETA: 1s - loss: 0.0178 -  - ETA: 0s - loss: 0.0178 - acc: 0.99\n",
      "Epoch 9/10\n"
     ]
    },
    {
     "name": "stdout",
     "output_type": "stream",
     "text": [
      "48000/48000 [==============================] - 191s 4ms/step - loss: 0.0166 - acc: 0.9946 - val_loss: 0.1048 - val_acc: 0.9772: 1:26 - loss: 0.0042 - acc: 1.000 - ETA: 2:07 - loss: 0.0039 - acc: 1.00 - ETA: 2:25 - loss: 0.0070 - acc: 1.000 - ETA: 2:24 - loss: 0.0062 - acc: 1.00 - ETA: 2:33 - loss: 0.0070 - acc: 1. - ETA: 2:26 - loss: 0.0140 - acc:  - ETA: 2:45 - l - ETA: 2:58 - loss: 0.0136 - acc - ETA: 2:55 - loss: 0.013 - ETA: 2:55 - loss: 0.0146 - ETA: 2:54 - loss: 0.0156 - acc: 0.99 - ETA: 2:54 - loss: 0.0155 - acc - ETA: 2:55 - loss: 0.0187 - acc: 0.992 - ETA: 2:55 - loss: 0.0190 - acc: 0 - ETA: 2:54 - loss: 0.0183 - acc: 0.9 - ETA: 2:55 - loss: 0.0186 - acc - ETA: 2:54 - loss: 0.0182 - acc: 0.992 - ETA: 2:54 - loss: 0.0182 - acc: 0. - ETA: 2:54 - loss: 0.0178 - acc: 0. - ETA: 2:53 - loss: 0.0174 - acc: 0.9 - ETA: 2:53 - loss: 0.0170 - ac - ETA: 2:52 - loss: 0.0171 - acc: 0.99 - ETA: 2:51 - loss: 0.0168 - acc: 0 - ETA: 2:51 - loss: 0.0165 - acc: 0.993 - ETA: 2:51 - loss: 0.0164 - acc - ETA: 2:50 - loss: 0.0169 - acc: 0. - ETA: 2:50 - lo - ETA: 2:47 - loss: 0.0160 - acc: 0.993 - ETA: 2:47 - loss: 0.0160 - acc: 0 - ETA: 2:46 - loss: 0.0162 - acc: 0.993 - ETA: 2:46 - loss: 0.0161 - acc: 0.993 - ETA: 2:46 - loss: 0.0165 - acc: 0.993 - ETA: 2:46 - loss: 0.0168 - acc: - ETA: 2:45 - loss: 0.0165 - acc: 0 - ETA: 2:45 - loss: 0.0165 - acc:  - ETA: 2:44 - loss: 0.0163 - acc: - ETA: 2:44 - loss: 0.0164 - acc: 0.99 - ETA: 2:44 - loss: 0.0163 - acc - ETA: 2:43 - loss: 0.0162 - acc: 0.9 - ETA: 2:42 - loss: 0.0165 - acc: - ETA: 2:41 - loss: 0.0166 - acc: - ETA: 2:41 - loss: 0.0163 - acc: 0.99 - ETA: 2:40 - loss: 0.0163 - acc - ETA: 2:39 - loss: 0.0163 -  - ETA: 2:38 - loss: 0.0160 - acc: 0.9 - ETA: 2:38 - loss: 0.0158 - acc: 0.994 - ETA: 2:38 - loss: 0.0158  - ETA: 2:36 - loss: 0.0158 - acc: 0 - ETA: 2:35 - loss: 0.0156 - acc: 0.994 - ETA: 2:35 - loss: 0.0162 - acc: 0 - ETA: 2:34 - loss: 0.0167 - acc: 0.99 - ETA: 2:34 - loss: 0.0168 - ac - ETA: 2:32 - loss: 0.0171 - acc: 0.99 - ETA: 2:32 - loss: 0.0170 - acc: 0.994 - ETA: 2:32 - loss: 0.0170 - a - ETA: 2:31 - loss: 0.0167 - acc: 0.9 - ETA: 2:31 - loss: 0.0166 - acc: 0. - ETA: 2:30 - loss: 0.0165 - acc: 0. - ETA: 2:29 - loss: 0.0164 - acc: 0.994 - ETA: 2:29 - loss: 0.0163 - acc: - ETA: 2:28 - loss: 0.0163 - acc: 0. - ETA:  - ETA: 2:24 - loss: 0.0154 - acc: 0.994 - ETA: 2:24 - loss: 0.0154 - acc:  - ETA: 2:23 - loss: 0.0152 - acc: 0. - ETA: 2:22 - loss: 0.0151 - acc: 0.995 - ETA: 2:22 - loss: 0.0151 - acc: 0 - ETA: 2:21 - loss: 0.0151 -  - ETA: 2:20 - loss: 0.0149 -  - ETA: 2:18 - loss: 0.0153 - acc: 0.99 - ETA: 2:18 - loss: 0.0 - ETA: 2:16 - loss: 0.0151 - acc: 0.994 - ETA: 2:16 -  - ETA: 2:12 - loss: 0.0148  - ETA: 2:11 - loss: 0.0145 - acc: 0.995 - ETA: 2:11 - loss: 0.0146 - acc: 0. - ETA: 2:11 - loss: 0.0146 - acc: - ETA: 2:10 - loss: 0.0144 - acc: 0. - ETA: 2:09 - loss: 0.0143 -  - ETA: 2:08 - loss: 0.0144 - - ETA: 2:06 - loss: 0.0146 - acc: 0.99 - ETA: 2:06 - loss: 0.0146 - ETA: 2:04 - loss: 0.0144 - acc: 0.99 - ETA: 2:04 - loss: 0.0144 - acc:  - ETA: 2:03 - loss: 0.0144 - acc: 0.9 - ETA: 2:03 - loss: 0.0145 - acc: 0.995 - ETA: 2:03 - loss: 0.0144 - acc: 0.99 - ETA: 2:02 - loss: 0.0144 - acc: 0 - ETA: 2:02 - loss: 0.0146 - ac - ETA: 2:01 - loss: 0.0148 - acc: 0.99 - ETA: 2:00 - loss: 0.0148 - acc: 0.9 - ETA: 2:00 - loss: 0.0148 - acc: 0.994 - ETA: 2:00 - loss: 0.0148 - acc: - ETA: 1:59 - loss: 0.0147 - - ETA: 1:58 - loss: 0.0145 - acc: 0.99 - ETA: 1:57 - loss: 0.0144 - acc:  - ETA: 1:57 - loss: 0.0144 - a - ETA: 1:55 - loss: 0.0143 - - ETA: 1:54 - loss: 0.01 - ETA: 1:52 - loss: 0.0142 - acc: 0 - ETA: 1:51 - loss: 0.0143 - acc: 0 - ETA: 1:50 - loss: 0.0143 - ETA: 1:48 - loss: 0.0142 - acc: 0.9 - ETA: 1:48 - loss: 0.0141 - acc: 0.995 - ETA: 1:48 - loss: 0.0141 - acc: 0.99 - ETA: 1:47 - loss: 0.0141 - ac - ETA: 1:46 - loss - ETA: 1:44 - loss: 0.0140 - a - ETA: 1:43 - loss: 0.0140 - - ETA: 1:41 - loss: 0.0139 - acc: 0.99 - ETA: 1:41 - loss: 0.013 - ETA: 1:39 - loss: 0.0142 - acc: 0.99 - ETA: 1:39 - loss: 0.0142 - acc: 0 - ETA: 1:38 - loss: 0.0141 - acc: 0.995 - ETA: 1:38 - loss: 0.0142 - acc: 0.99 - ETA: 1:38 - loss: 0.0142 - acc: 0.99 - ETA: 1:38 - loss: 0.0142 - acc: 0.99 - ETA: 1:37 - loss: 0.0142 - acc: 0.995 - ETA: 1:37 - loss: 0.0142 - acc: 0.99 - ETA: 1:37 - loss: 0. - ETA: 1:35 - loss: 0.0144 - acc: - ETA: 1:34 - loss: 0.0144 - a - ETA: 1:33 - loss: 0.014 - ETA: 1:31 - loss: 0.0146 - ac - ETA: 1:30 - loss: 0.0146 - acc: 0.99 - ETA: 1:29 - loss: 0.0145 - acc - ETA: 1:28 - loss: 0.0149 - acc: 0.994 - ETA: 1:28 - loss: 0.0149 - acc: 0.99 - ETA: 1:28 - loss: 0.0149 - acc: 0.9 - ETA: 1:28 - loss: 0.0149 - acc: 0.9 - ETA: 1:27 - loss: 0.0149 - acc - ETA: 1:26 - loss: 0.0152 - acc: 0.994 - ETA: 1:26 - loss: 0 - ETA: 1:24 - loss: 0.0155 - acc: 0. - ETA: 1:23 - loss: 0.0154 - acc:  - ETA: 1:22 - loss: 0.0154 - a - ETA: 1:21 - loss: 0.0153 - acc: - ETA: 1:20 - loss: 0.0153 - acc: 0.99 - ETA: 1:20 - loss: 0.0153 - acc: 0. - ETA: 1:19 - loss: 0.0152 - acc: - ETA: 1:19 - loss: 0.0151 - acc: 0 - ETA: 1:18 - loss: 0.0151 - acc: 0 - ETA: 1:17 - loss: 0.0151 - acc: 0.9 - ETA: 1:17 - loss: 0.0150 - acc: 0.99 - ETA: 1:17 - loss: 0.0151 - acc: 0.9 - ETA: 1:16 - loss: 0.0151 - acc: 0.994 - ETA: 1:16 - loss: 0.0151 - acc: 0.99 - ETA: 1:16 - loss: 0.0150 - acc - ETA: 1:15 - loss: 0.0150 - acc: 0.994 - ETA: 1:15 - loss: 0.0150 - acc - ETA: 1:14 - loss: 0.0151 - acc: 0.994 - ETA: 1:14 - loss: 0.0151 - acc: 0.994 - ETA: 1:13 - loss: 0.01 - ETA: 1:11 - loss: 0.0153 - acc: 0.9 - ETA: 1:11 - loss: 0.0153 - acc:  - ETA: 1:10 - loss: 0.0153 - ETA: 1:09 - loss: 0.0152 - acc:  - ETA: 1:08 - loss: 0.0153 - acc: 0. - ETA: 1:07 - loss: 0.0153 - acc: - ETA: 1:06 - loss: 0.0153 - acc:  - ETA: 1:06 - loss: 0.0153 - acc: 0 - ETA: 1:05 - loss: 0.0153 - ac - ETA: 1:04 - loss: 0.0155 - ETA: 1:02 - loss: 0.0156 - acc: 0.99 - ETA: 1:02 - loss: 0.0156 - ac - ETA: 1:01 - loss: 0 - ETA: 59s - loss:  - ETA: 58s - loss: 0.0159 - acc: 0.99 - ETA: 57s  - ETA: 53s - loss: 0.0162 - acc:  - ETA: 53s - loss: 0.01 - ETA: 52s - loss: 0.0162 - acc - ETA: 51s - loss: 0.0166 - acc: 0. - ETA: 51s - loss:  - ETA: 50s - loss: 0.0170 - ETA: 49s - loss: 0.0169 - acc: 0.99 - ETA: 49s - loss: 0.01 - ETA: 45s - loss:  - ETA: 44s - loss: 0.0170 - acc - ETA: 43s - loss: 0.0170 - acc: 0. - ETA: 43s - lo - ETA: 42 - ETA: 40s - loss: 0.0169 - acc: 0. - ETA: 39 - ETA: 38s - loss - ETA: 36s - loss: 0.0168 - - ETA: 35s - loss:  - ETA: 34s - loss: 0.01 - ETA: 33s - loss: 0.0167 - acc - ETA: 33s - lo - ETA: 31s - loss: 0.0167 - acc: 0.99 - ETA: 31s - loss: 0.0167 - a - ETA: 30s - loss: 0.0167 - ETA: 29s - loss: 0.0166 - ETA: 28s - loss: 0.0166 - acc:  - ETA: 28s - loss: 0.0167 - acc - ETA: 28s  - ETA: 26s - loss: 0.0166 - acc:  - ETA: 25s - loss: 0.0166 - acc:  - ETA: 25s - loss: 0.0166 - acc - ETA: 25s - loss: 0. - ETA: 23s - lo - ETA:  - - ETA: 17s - loss: 0.0165 - acc: 0.99 - ETA: 17s - loss: 0.0165 - acc: 0.99 - ETA: 17s - lo - ETA: 16s - loss - ETA: 14 - ETA: 12s - loss: 0.0165 - acc:  - ETA: 12s - loss: 0.0165 - a - ETA: 11s - loss: 0.0165 - a - ETA: 11s - loss: 0.0164 - acc: 0.99 - ETA: 11s - loss: 0.0164 - acc: 0. - ETA: 10s - loss: 0.0165 - acc:  - ETA: 10s - loss: 0.0164  - ETA: 9s - loss: 0.0165 - acc: 0. - ETA: 8s - loss: 0.0165 - ac - ETA: 7s - loss: 0.0165 - acc: 0.994 - ETA: 7s - loss: 0.0165 - ETA: 5s - loss: 0.0164 - ac - ETA: 4s - loss: 0.0163 - acc:  - ETA: 3s - loss: 0.0163 - acc: 0 - ETA: 3s - loss: 0.0164 - acc:  - ETA: 2s - loss: 0.0164 - acc: 0.994 - ETA: 2s - loss: 0.0164 - acc: 0.99 - ETA: 2s - loss: 0.0164 - acc: 0.994 - ETA: 1s - loss: 0.016\n",
      "Epoch 10/10\n"
     ]
    },
    {
     "name": "stdout",
     "output_type": "stream",
     "text": [
      "39904/48000 [=======================>......] - ETA: 32s - loss: 0.0146 - acc: 0.9948 ETA: 53s - loss: 0.0103 - acc:  - ETA: 2:07 - loss: 0.0288 - acc: 0.995 - ETA: 2:10 - loss: 0.0252 - acc: 0.996 - ETA: 2:13 - loss: 0.0224 - acc: 0.996 - ETA: 2:19 - loss: 0.0261 - a - ETA: 2:53 - loss: 0.0217 - acc: 0.9 - ETA: 3:01 - loss: 0.0192 - acc: 0.99 - ETA: 3:01 - loss: 0.0178 - acc: 0.995 - ETA: 3:00 - loss: 0.0175 - acc: 0. - ETA: 3:03 - loss: 0.0169 - acc: 0.99 - ETA: 3:02 - loss: 0.0175 - acc: 0. - ETA: 2:58 - loss: 0.0162 -  - ETA: 2:58 - loss: 0.0165 - a - ETA: 2:57 - loss: 0.0144 - acc: 0.9 - ETA: 2:57 - loss: 0.0142 -  - ETA: 2:56 - loss: 0.0143 - acc: 0 - ETA: 2:56 - loss: 0.0139 - acc: 0.99 - ETA: 2:55 - loss: 0.0136 - acc: 0. - ETA: 2:53 - loss: 0.0139 - acc: 0.996 - ETA: 2:53 - loss: 0.0138 - acc: 0 - ETA: 2:54 - loss: 0.0132 - acc: 0.99 - ETA: 2:53 - loss: 0.0136 - a - ETA: 2:54 - loss: 0.0139 - acc: 0.996 - ETA: 2:54 - loss: 0.0138 - acc: 0.9 - ETA: 2:54 - loss: 0.0147 - acc: 0.99 - ETA: 2:54 - loss: 0.0149 - acc: 0.9 - ETA: 2:55 - loss: 0.0154 - acc: 0.996 - ETA: 2:55 - loss: 0.0153 - acc: 0.9 - ETA: 2:54 - loss: 0.0150 -  - ETA: 2:51 - loss: 0.0143 - acc: 0.99 - ETA: 2:51 - loss: 0.0142 - acc: 0.9 - ETA: 2:50 - loss: 0.0141 - acc:  - ETA: 2:49 - loss: 0.0136 - acc: 0 - ETA: 2:48 - loss: 0.0133 - - ETA: 2:47 - loss: 0.0128 - acc: 0.99 - ETA: 2:47 - loss: 0.0126 - acc: 0.99 - ETA: 2:47 - loss: 0.0126 - acc: 0.9 - ETA: 2:46 - loss: 0.0132 - ETA: 2:45 - loss: 0.0135  - ETA: 2:45 - loss: 0.0128 - acc: 0. - ETA: 2:44 - loss: 0.0128 - acc: 0.996 - ETA: 2:44 - loss: 0.0128 - acc:  - ETA: 2:44 - loss: 0.0133 - acc: 0.996 - ETA: 2:44 - loss: 0.0133 - acc: - ETA: 2:43 - loss: 0.0136 - acc: 0.99 - ETA: 2:43 - loss: 0.0135 - acc: 0.9 - ETA: 2:43 - loss: 0.0133 - acc: 0.995 - ETA: 2:43 - loss: 0.0133  - ETA: 2:41 - loss: 0.0135 - acc - ETA: 2:40 - loss: 0.0133 - acc: 0. - ETA: 2:40 - loss: 0.0135 - acc: 0.995 - ETA: 2:39 - loss: 0.0134 - acc: 0. - ETA: 2:39 - loss: 0.0132 -  - ETA: 2:38 - loss: 0.0140 - acc: 0. - ETA: 2:37 - loss: 0.0141 - acc: 0.99 - ETA: 2:37 - loss: 0.0140 - acc: 0.995 - ETA: 2:36 - loss: 0.0141 - acc: 0 - ETA: 2:36 - loss: 0.0143 - acc:  - ETA: 2:35 - loss: 0.0146 - acc: 0.99 - ETA: 2:35 - loss: 0.0147 - a - ETA: 2:33 - loss: 0.0144 - acc: 0.99 - ETA: 2:33 - loss: 0.0143 - acc: 0.995 - ETA: 2:33 - loss: 0.0142 - acc: 0 - ETA: 2:32 - loss: 0.0144 - ac - ETA: 2:32 - loss: 0.0145 - acc: 0.99 - ETA: 2:32 - loss: 0.0146 - acc:  - ETA: 2:31 - loss: 0.0144 - acc: 0.99 - ETA: 2:31 - loss: 0.0143 - acc: 0.9 - ETA: 2:30 - loss: 0.0143 - acc: 0.9 - ETA: 2:30 - loss: 0.0142 - acc: 0.99 - ETA: 2:30 - loss: 0.0141 - acc: 0.995 - ETA: 2:30 - loss: 0.0140 - acc: 0 - ETA: 2:29 - loss: 0.0139 - acc: 0.99 - ETA: 2:29 - loss: 0 - ETA: 2:26 - loss: 0.013 - ETA: 2:24 - loss: 0.0133 - acc: 0.9 - ETA: 2:24 - loss: 0.0133 - acc: 0.9 - ETA: 2:24 - loss: 0.0132 - acc: - ETA: 2:23 - loss: 0.0132 - ac - ETA: 2:22 - loss: 0.0132 - acc: 0.9 - ETA: 2:22 - loss: 0.013 - ETA: 2:19 - loss: 0.0134 - acc:  - ETA: 2:19 - loss: 0.0134 - acc: 0.99 - ETA: 2:18 - loss: 0.013 - ETA: 2:17 - loss: 0.0134 - acc: 0.99 - ETA: 2:16 - loss: 0.0134 - acc: 0.995 - ETA: 2:16 - loss: 0.0135 - acc: 0. - ETA: 2:15 - loss: 0.0135 - acc: 0.9 - ETA: 2:15 - loss: 0.0135 - acc: - ETA: 2:14 - loss: 0.0134 - acc: 0.99 - ETA: 2:14 - loss: 0.0133 - acc: 0.995 - ETA: 2:14 - loss: 0.0134 - acc: 0.995 - ETA: 2:14 - loss: 0. - ETA: 2:11 - loss: 0.0132 - acc: 0 - ETA: 2:11 - loss: 0.0132 - ac - ETA: 2:10 - loss: 0.0131 - acc: 0.9 - ETA: 2:09 - loss: 0.0131 - acc: 0.99 - ETA: 2:09 - ETA: 2:05 - loss: 0.0129 - acc - ETA: 2:04 - loss: 0.0131 - acc: 0.99 - ETA: 2:04 - loss: 0.0130 - acc: 0.99 - ETA: 2:03 - loss: 0.0130 - acc: - ETA: 2:03 - loss: 0.0129 - acc: 0.995 - ETA: 2:03 - loss: 0.0129 - acc: 0 - ETA: 2:02 - loss: 0 - ETA: 2:00 - loss: 0.0138 - a - ETA: 1:58 - loss: 0.0137 - acc: 0 - ETA: 1:58 - loss: 0.0137 - acc: 0.9 - ETA: 1:57 - loss: 0.0136 - acc: 0 - ETA: 1:57 - loss: 0.0137 - acc: 0. - ETA: 1:56 - loss: 0.0136 - a - ETA: 1:55 - loss: 0.0135 - acc: 0.995 - ETA: 1:55 - loss: 0.0135 - acc: 0.995 - ETA: 1:55 - loss: 0.0135 - acc: 0.99 - ETA: 1:55 - loss: 0.0136 - acc - ETA: 1:53 - loss: 0.0134 - acc: 0 - ETA: 1:53 - loss: 0.0134 - acc: 0. - ETA: 1:52 - loss: 0.0134 - acc: 0.9 - ETA: 1:52 - loss: 0.0137 - acc: 0.995 - ETA: 1:52 - loss: 0.0137 - acc: - ETA: 1:51 - loss: 0.0136 - acc: 0. - ETA: 1:50 - loss: 0.0136 - acc:  - ETA: 1:50 - loss: 0.0138 - acc: 0.9 - ETA: 1:49 - loss: 0.0138 - acc: 0. - ETA: 1:49 - loss: 0.0137 - acc: 0.995 - ETA: 1:48 - loss: 0.0138 - ETA: 1:47 - loss: 0.0136 - acc: 0. - ETA: 1:46 - loss: 0.0136  - ETA: 1:44 - loss: 0.0137 - acc: 0.995 - ETA: 1:44 - loss: 0.0137 - acc: 0 - ETA: 1:44 - loss: 0.0137 - acc: 0.9 - ETA: 1:43 - loss: 0.0137 - acc: 0. - ETA: 1:43 - loss: 0.0137 - acc: 0.99 - ETA: 1:43 - loss: 0.0137 - a - ETA: 1:41 - loss: 0.0137 - acc: 0.9 - ETA: 1:41 - loss: 0.0136 - acc: 0.99 - ETA: 1:41 - loss: 0.0137 - acc: 0.9 - ETA: 1:40 - loss: 0.0138 - acc: 0 - ETA: 1:40 - loss: 0.0 - ETA: 1:38 - loss: 0.0136 - acc: 0. - ETA: 1:37 - loss: - ETA: 1:34 - loss: 0.0135 - acc: - ETA: 1:33 - loss: 0.01 - ETA: 1:31 - loss: 0.0137 - acc: 0. - ETA: 1:31 - loss: 0.0136 - acc: 0.9 - ETA: 1:30 - loss: 0.0136 - acc: 0.9 - ETA: 1:30 - loss: 0.0136 - acc: 0.995 - ETA: 1:30 - loss: 0.0136 - acc: 0. - ETA: 1:30 - loss: 0.0136 - acc - ETA: 1:28 - loss: 0.0136 - acc: 0. - ETA: 1:28 - loss: 0.0136 - acc: 0.995 - ETA: 1:28 - loss: 0.0136 - acc: 0. - ETA: 1:27 - loss: 0.0136 - acc: 0.9 - ETA: 1:27 - loss: 0.0136 - acc: - ETA: 1:26 - loss: 0.0137 - acc: 0.9 - ETA: 1:26 - loss: 0.0137 - acc: 0. - ETA: 1:25 - loss: 0.0137 - acc: 0.995 - ETA: 1:25 - loss: 0.0139 - acc: 0.99 - ETA: 1:25 - loss: 0.0139 - acc: 0.99 - ETA: 1:25 - loss: 0.0139 - acc: 0 - ETA: 1:24 - loss: 0.0138 - acc: 0.9 - ETA: 1:24 - loss: 0.0138 - acc: 0.995 - ETA: 1:23 - loss: 0.0138 - acc: 0 - ETA: 1:23 - loss: 0.0138 - a - ETA: 1:16 - loss: 0.0139 - acc: 0.995 - ETA: 1:16 - loss: 0.0139 - acc: 0.99 - ETA: 1:16 - loss: 0.0139 - acc: 0.99 - ETA: 1:16 - loss: 0.0138 - acc: 0.995 - ETA: 1:16 - loss: 0.0139 - acc: 0. - ETA: 1:15 - loss: 0.0140 - - ETA: 1:14 - loss: 0.0141 - acc: 0.9 - ETA: 1:13 - loss: 0.0140 - acc: 0.99 - ETA: 1:13 - loss: 0.0141 - acc: 0.9 - ETA: 1:13 - loss: 0.0140 - a - ETA: 1:11 - loss: 0.0140 - acc: 0. - ETA: 1:11 - loss: 0.0140 - acc: 0.9 - ETA: 1:11 - loss: 0.0140 - acc: 0. - ETA: 1:10 - loss: 0.0140 - acc - ETA: 1:09 - loss: 0.0140 - acc:  - ETA: 1:08 - loss: 0.0139  - ETA: 1:06 - loss: 0.0139 - acc: 0.995 - ETA: 1:06 - loss: 0.0139 - acc: 0.995 - ETA: 1:06 - loss: 0.0140 - acc: 0.99 - ETA: 1:06 - loss: 0.0141 - acc: 0. - ETA: 1:05 - loss: 0.0141 - acc: 0. - ETA: 1:05 - loss: 0.0141 - acc: 0 - ETA: 1:04 - loss: 0.0141 - acc: 0.9 - ETA: 1:04 - loss: 0.0141 - acc: 0 - ETA: 1:03 - loss: 0.014 - ETA: 1:01 - loss: 0.0143 - ac - ETA: 1:00 - loss: 0.0143 - acc: 0 - ETA: 1:00 - loss: 0.0143 - ac - ETA: 59s - loss: 0.0142 - acc: 0.99 - ETA: 59s - loss: 0.01 - ETA: 58s - loss: 0.0142 - acc:  - ETA: 57s - loss: 0.0142 - acc: 0.99 - ETA: 57s - loss: 0.0142 - acc: 0.99 - ETA: 57s - loss: 0.0142 - acc: 0. - ETA: 57s - loss: 0.0142 - acc - ETA: 56s - loss: 0. - ETA: 55s - loss: 0.0142 - ETA: 54s - loss: 0. - ETA: 53s - loss: 0. - ETA: 52s - loss:  - ETA: 51s - loss: 0.0144 - acc: 0.99 - ETA: 51s - loss: 0.0144 - acc: 0. - ETA: 50s - loss: 0.0145 - acc: 0. - ETA: 50s - loss: 0.0145 - - ETA: 49s - loss: 0.01 - ETA: 48s - loss: 0.0145 - acc:  - ETA: 48s - loss: 0.0145 - acc:  - ETA: 48s - loss: 0.0145 - a - ETA: 47s - loss: 0.0144 - acc: 0. - ETA: 47s - loss: 0.0144 - acc: 0. - ETA: 47s - loss: 0.0144 - acc: 0.99 - ETA: 46s - loss: 0.0144 - a - ETA: 46s - loss: 0.0146 - acc: 0.99 - ETA: 46s - loss: 0.0146 - acc:  - ETA: 45s - loss: 0.0146 - acc - ETA: 45s - loss: 0.01 - E - ETA: 39s - loss: 0.0148 - acc: 0.99 - ETA: 39s - loss: 0.01 - ETA:  - ETA: 36s - loss: 0.0147 - acc: 0.99 - ETA: 36s - loss: 0.0147 - acc - ETA: 35s - loss: 0.0147 - ETA: 34s - loss: 0.0146 - acc - ETA: 34s - loss: 0. - ETA: 33s - loss: 0.0145 - acc: 0. - ETA: 32s - loss: 0.0146 - acc - ETA: 32s - loss: 0.0146 - acc: 0. - ETA: 32s - loss: 0.0146 - acc: 0.9948"
     ]
    },
    {
     "name": "stdout",
     "output_type": "stream",
     "text": [
      "48000/48000 [==============================] - 191s 4ms/step - loss: 0.0150 - acc: 0.9947 - val_loss: 0.1171 - val_acc: 0.9746: 30s - loss: 0.0144 - a - ETA: 29s - loss: 0.0144 - acc: 0. - ETA: 29s - loss: 0.01 - ETA: 28s - loss: 0.0143 - acc:  - ETA: 28s - loss: 0.0143 - acc: 0.99 - ETA: 27s - loss: 0.0143 - acc: 0. - ETA: 27s - loss: 0.0143 - acc:  - ETA: 27s - lo - ETA: 25s - loss - ETA: 24s - loss: 0.0143 - a - ETA: 23s - loss: 0. - ETA: 22s - loss: 0.0143 - acc: 0. - ETA: 22s - loss: 0.0143 - a - ETA: 21s - loss: 0.0144 - acc: 0. - ETA: 21s - loss: 0. - ETA: 20s - loss: 0.0143 - acc: 0. - ETA: 20s - loss: 0.0143 - acc: 0.99 - ETA: 19s - loss: 0.0143 - acc - ETA: 19s - loss: 0.0144 - ETA: 18s - loss: 0.0144 - acc:  - ETA: 18s - loss: 0.01 - ETA: 17s - loss: 0.0143 - ETA: 16s - loss: 0.0143 - acc: 0. - ETA: 15s - loss: 0.0143 - - ETA: 15s - loss: 0. - ETA: 14s - loss: 0.0144 - acc: 0.99 - ETA: 13s - loss: 0.0144 - a - ETA: 13s - loss: 0.0144 - acc:  - ETA: 12s - loss: 0.0145 - acc: 0.99 - ETA: 12s - loss: 0. - ETA: 11s - loss: 0.0145 - acc: 0. - ETA: 11s - loss: 0.0144 - acc: 0.99 - ETA: 11s - loss: 0.01 - ETA: 10s - loss: 0.0146 - - ETA: 9s - loss: 0.0145 - acc: 0.99 - ETA: 8s - loss: 0.0146 - acc: 0 - ETA: 8s - loss: 0.0147 - acc: 0.99 - ETA: 7s - loss: 0.0147 -  - ETA: 6s - loss: 0.0148 - acc: 0.99 - ETA: 6s - loss: 0.0148 - - ETA: 4s - loss: 0.0149 - acc: 0. - ETA:  - ETA: 0s - loss: 0.0150 - acc: 0.99 - ETA: 0s - loss: 0.0150 - acc: 0.994\n"
     ]
    }
   ],
   "source": [
    "train_history =model.fit(x=x_Train_normalize,\n",
    "                         y=y_Train_OneHot,validation_split=0.2, \n",
    "                         epochs=10, batch_size=32,verbose=1)"
   ]
  },
  {
   "cell_type": "markdown",
   "metadata": {
    "colab_type": "text",
    "id": "pV1Ftdb0PloP"
   },
   "source": [
    "# 以圖形顯示訓練過程"
   ]
  },
  {
   "cell_type": "code",
   "execution_count": 23,
   "metadata": {
    "colab": {
     "autoexec": {
      "startup": false,
      "wait_interval": 0
     }
    },
    "colab_type": "code",
    "id": "EEmuoa1dPloQ"
   },
   "outputs": [],
   "source": [
    "import matplotlib.pyplot as plt\n",
    "def show_train_history(train_history,train,validation):\n",
    "    plt.plot(train_history.history[train])\n",
    "    plt.plot(train_history.history[validation])\n",
    "    plt.title('Train History')\n",
    "    plt.ylabel(train)\n",
    "    plt.xlabel('Epoch')\n",
    "    plt.legend(['train', 'validation'], loc='upper left')\n",
    "    plt.show()"
   ]
  },
  {
   "cell_type": "code",
   "execution_count": 24,
   "metadata": {
    "colab": {
     "autoexec": {
      "startup": false,
      "wait_interval": 0
     },
     "base_uri": "https://localhost:8080/",
     "height": 376
    },
    "colab_type": "code",
    "executionInfo": {
     "elapsed": 1451,
     "status": "ok",
     "timestamp": 1533441789030,
     "user": {
      "displayName": "Edward Cheng",
      "photoUrl": "//lh4.googleusercontent.com/-ANnwjGu3IBk/AAAAAAAAAAI/AAAAAAAAAAc/qXXg6Jek9xw/s50-c-k-no/photo.jpg",
      "userId": "112554017642991017343"
     },
     "user_tz": -480
    },
    "id": "fvE2WsejPloT",
    "outputId": "bb56e170-8850-409e-bbb2-eb6b5b89e528"
   },
   "outputs": [
    {
     "data": {
      "image/png": "[encoded data removed]",
      "text/plain": [
       "<Figure size 432x288 with 1 Axes>"
      ]
     },
     "metadata": {
      "needs_background": "light"
     },
     "output_type": "display_data"
    }
   ],
   "source": [
    "show_train_history(train_history,'acc','val_acc')"
   ]
  },
  {
   "cell_type": "code",
   "execution_count": 25,
   "metadata": {
    "colab": {
     "autoexec": {
      "startup": false,
      "wait_interval": 0
     },
     "base_uri": "https://localhost:8080/",
     "height": 376
    },
    "colab_type": "code",
    "executionInfo": {
     "elapsed": 1937,
     "status": "ok",
     "timestamp": 1533441791049,
     "user": {
      "displayName": "Edward Cheng",
      "photoUrl": "//lh4.googleusercontent.com/-ANnwjGu3IBk/AAAAAAAAAAI/AAAAAAAAAAc/qXXg6Jek9xw/s50-c-k-no/photo.jpg",
      "userId": "112554017642991017343"
     },
     "user_tz": -480
    },
    "id": "zIYyrnFWPloW",
    "outputId": "4bdbd1fa-6f25-49af-88d0-8d35f6e2ecaa"
   },
   "outputs": [
    {
     "data": {
      "image/png": "[encoded data removed]",
      "text/plain": [
       "<Figure size 432x288 with 1 Axes>"
      ]
     },
     "metadata": {
      "needs_background": "light"
     },
     "output_type": "display_data"
    }
   ],
   "source": [
    "show_train_history(train_history,'loss','val_loss')"
   ]
  },
  {
   "cell_type": "markdown",
   "metadata": {
    "colab_type": "text",
    "id": "h1z2y0g-PloZ"
   },
   "source": [
    "# 評估模型準確率"
   ]
  },
  {
   "cell_type": "code",
   "execution_count": 26,
   "metadata": {
    "colab": {
     "autoexec": {
      "startup": false,
      "wait_interval": 0
     },
     "base_uri": "https://localhost:8080/",
     "height": 68
    },
    "colab_type": "code",
    "executionInfo": {
     "elapsed": 1425,
     "status": "ok",
     "timestamp": 1533441792584,
     "user": {
      "displayName": "Edward Cheng",
      "photoUrl": "//lh4.googleusercontent.com/-ANnwjGu3IBk/AAAAAAAAAAI/AAAAAAAAAAc/qXXg6Jek9xw/s50-c-k-no/photo.jpg",
      "userId": "112554017642991017343"
     },
     "user_tz": -480
    },
    "id": "vMawurJqPloZ",
    "outputId": "31465f8d-cfad-49b8-dc9e-90d643e6b4a8"
   },
   "outputs": [
    {
     "name": "stdout",
     "output_type": "stream",
     "text": [
      "10000/10000 [==============================] - 30s 3ms/stepA: 19 - ETA: 19 - E - ETA: 2 - ET - ETA:  - ETA: 24 - E - - ETA: 2 - ETA: 21 - ETA: - ETA:  - ETA:  - E - ETA - ETA\n",
      "\n",
      "accuracy= 0.9782\n"
     ]
    }
   ],
   "source": [
    "scores = model.evaluate(x_Test_normalize, y_Test_OneHot)\n",
    "print()\n",
    "print('accuracy=',scores[1])"
   ]
  },
  {
   "cell_type": "code",
   "execution_count": null,
   "metadata": {},
   "outputs": [],
   "source": []
  }
 ],
 "metadata": {
  "accelerator": "GPU",
  "colab": {
   "collapsed_sections": [],
   "default_view": {},
   "name": "Keras_Mnist_MLP_h256.ipynb",
   "provenance": [],
   "version": "0.3.2",
   "views": {}
  },
  "kernelspec": {
   "display_name": "Python 3",
   "language": "python",
   "name": "python3"
  },
  "language_info": {
   "codemirror_mode": {
    "name": "ipython",
    "version": 3
   },
   "file_extension": ".py",
   "mimetype": "text/x-python",
   "name": "python",
   "nbconvert_exporter": "python",
   "pygments_lexer": "ipython3",
   "version": "3.7.3"
  }
 },
 "nbformat": 4,
 "nbformat_minor": 1
}
